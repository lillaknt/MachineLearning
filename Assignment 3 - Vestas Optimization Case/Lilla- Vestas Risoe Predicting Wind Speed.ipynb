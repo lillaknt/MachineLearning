{
 "cells": [
  {
   "cell_type": "markdown",
   "metadata": {},
   "source": [
    "## 3. Regression: Optimization of Long-Term Correction of Wind Data Using Regression Models"
   ]
  },
  {
   "cell_type": "markdown",
   "metadata": {},
   "source": [
    "**Assignment Description**\n",
    "\n",
    "In this assignment, you will work with realistic data from the wind industry. Vestas, a leading global company in wind energy, is interested in optimizing their methods for generating long-term corrected (LTC) wind data, which are used for planning the locations of new wind farms.\n",
    "\n",
    "**Context**\n",
    "\n",
    "Before building a new wind farm, Vestas needs to get an estimate of how much power it can produce. This can be done by running a simulation of the planned wind farm. The primary factors that decide how much power will be produced are: \n",
    "\n",
    "-  the turbine type (bigger turbines generally produce more energy), \n",
    "\n",
    "- the locations of the turbines (more energy is produced if the turbines are placed so that they do not block each other significantly) and \n",
    "\n",
    "- the wind speed and wind direction at the location where the wind farm is planned to be build. \n",
    "\n",
    "The turbine type and location is something that Vestas engineers get to decide, but wind is not so easily managed... Therefore, it is important to have a large amount of data to get a precise description of the distribution of wind speeds and wind directions at the potential site. Ideally a wind measuring mast would be build at the place of interest and collect data on wind speeds and wind directions for 20 years or so prior to the wind farm being build. However, the investers would probably become impatient if they had to wait for 20 years before construction could begin. \n",
    "\n",
    "So instead, a mast is build that collects data for a few years (typically 1-4 years). To account for more \"global\" variations in wind from year to year (some years are simply more windy than other years), the data from the mast is then compared to the data based on wind models which covers a much longer time scale. This model data (referred to as \"meso\" data) can be obtained for any location on Earth, and accounts for large scale wind variations (e.g. due to seasons, geography, Coriolis effect etc.). But it cannot be expected to give a precise description of the wind at a specific location, which is also affected by vegetation, buildings, the local landscape and so on. So in summary, the mast data captures the specific wind conditions for the given site, and the meso data accounts for variations in wind speeds on a longer time scale. Together, the two datasets usually give a good description of the wind at a specific site over a long time period, and therefore can be used to predict the expected power production over a long time span (e.g. 20 years, comparable to the life time of a wind farm).\n",
    "\n",
    "Below is an illustration comparing a meso and a mast time series. Note that this plot is only for illustration purposes. In reality, meso data typically has a frequency of 1 hour, and mast data has a frequency of 10 minutes. Besides, the figure only illustrates the variations in windspeeds. For the actual simulations, wind directions are also extremely important (e.g. to determine the locations of the turbines such that they don't block each other for the prevalent wind directions).\n",
    "\n",
    "![Illustration of meso vs mast time series](timeseries_example.png)\n",
    "\n",
    "In order to run a simulation for a given (potential) site, Vestas needs to obtain a single time series which has the same characteristics as the mast timeseries, but has a time span of 20 years like the meso time series. For this purpose, they currently use a neural network: They train the network on the overlapping parts of the mast and meso time series. Specifically, they train the network to be able to predict the mast wind speeds and wind directions based on the wind speeds and wind directions found in the meso data for the same time stamps. After the neural network has been trained, they feed the meso wind speeds and wind directions for the entire 20 years time span to get a *predicted* \"mast\" time series covering the 20 years of data found in the meso data. This *predicted* mast time series is called the \"long term corrected\" (LTC) time series, and is the one on which they base their simulations for the power production at the given site. \n",
    "\n",
    "However, traning neural networks is time consuming and expensive! Therefore, Vestas is curious if some kind of linear regression would be able to acheive comparable results. \n",
    "\n",
    "**Data**\n",
    " \n",
    "You will have access to two types of time series data:\n",
    "\n",
    "1) Mast time series data that represent the wind conditions at a specific location based on measurements from a wind measuring mast.\n",
    "\n",
    "2) Meso time series data that are based on weather measurement models and cover more than 20 years. While these data are less precise and don't exactly match the specific location, they provide a longer historical context.\n",
    "\n",
    "Note that the mast data for this project is significantly longer than \"typical\" mast data. This allows cutting the data into training and test sets (or training, validation and test sets). Each set should cover all four seasons.\n",
    "\n",
    "Your task is to develop a model using regression techniques that can generate LTC wind data. This LTC time series should be long, like the meso time series, but also give an accurate description of the wind conditions at the specific location.\n",
    "\n",
    "**Objectives and Purpose**\n",
    " \n",
    "The purpose of the assignment is to assess whether regression could be used instead of neural networks, which could potentially save time and money as it is generally quicker to perform a regression than to train a neural network. And the main objective is thus to develop a regression model that can generate LTC time series that are both accurate and cost-effective.\n",
    "\n",
    "**Requirements**\n",
    "\n",
    "Please note. We have supplied some examples of how students have previously done the preprocessing to give you some input and thus make the work load a bit less. Feel free to use/reuse the preprocessing steps of these solutions.\n",
    "\n",
    "1. **Data preprocessing:** You must handle large datasets and perform necessary data preprocessing tasks. This includes dealing with missing values, handling outliers, and scaling data appropriately for the chosen regression technique. Feel free to use or get inspired by previous solutions.\n",
    "\n",
    "    a. Consider the appropriate intervals for wind speeds and wind directions. No negative wind speeds are allowed, and wind directions should be in an appropriate interval (e.g. [0; 360[ degrees).\n",
    "\n",
    "    b. Select which ws / wd signals to use. Signals at higher altitude are generally better, but it is even more important to have proper coverage of all seasons.\n",
    "\n",
    "    c. Find the meso-signals closest in height to the mast-data-signal you are using. Or interpolate the values between 2 or more meso-signals to get the values at the exact mast-signal-height.\n",
    "\n",
    "    d. Convert the mast data from DK time to UTC time (corresponding to the time zone used in the meso data). Remember to account for summer-time in DK.\n",
    "    \n",
    "    e. Resample the mast dataset to have the same frequency as the meso data. The meso data has one record for each hour, the mast data has one record for each 10 min.\n",
    "\n",
    "        i. Note: You should not convert the ws / wd signals to vector-quantities and use those for the resampling. Resample the ws and wd signal individually instead. The turbines “yaw” to always point toward the incoming wind, so the interesting value is the wind speed and not the wind velocity.  \n",
    "        ii. Be careful when resampling the wind directions. You don’t want the average of 0 degrees and 359 degrees to become ~180 degrees :-)\n",
    "\n",
    "    f. Find the overlapping timestamps between the meso data and the resampled mast data. You only want to consider data in this overlapping time period in your training.\n",
    "\n",
    "2. **Optional: Exploratory analysis:** You may do an exploratory analysis of the data, but this part is not mandatory. This includes presenting the data in tables and graphs, study and describe features of interest, as well as correlation analysis. Wind speeds typically follow a Weibull-distributions. Try fitting a Weibull distribution to the mast data, the resampled mast data and the meso-data. **(You can skip this part if you want to)**\n",
    "3. **Model Development:** Use appropriate machine learning principles and methodologies, including model training and testing and perhaps validation, cross-validation, and leave-one-out. You should apply and interpret regression models effectively for this task.\n",
    "4. **Model Evaluation:** Evaluate the developed model using appropriate metrics such as Mean Squared Error (MSE), R-squared (R²), etc. The evaluation should give an indication of the usefulness of your model in predicting wind conditions accurately. \n",
    "**Optional**: If you did step 2 above, in addition to calculating the above metric for your predicted time series, also consider comparing the distributions of the wind speeds in the predicted and the actual (resampled) mast data. That is, calculate the Weibull A- and k-parameters for both distributions, and find the error in these between your fit and the true data. \"Error-in-A\" and \"Error-in-k\" are the most used quantities to evaluate the long term correction process in the wind industry :-)\n",
    "5. **Documentation and Presentation:** Clearly document the steps, methodologies, and tools you used during the process. Present the results of your model in a clear and effective manner. This documentation should be comprehensive enough for someone to replicate your process and understand your results. Hand-in as one Jupyter Notebook.\n",
    "\n",
    "\n",
    "**Some additional comments**\n",
    "\n",
    "They (Vestas) have also tried running their own LTC algorithm on some of the data (they chose the 77m wind speed and wind direction signals from the Risø dataset), and this yielded good results. They assumed that the data was in Danish time, so they believe that is the case.\n",
    "\n",
    "As you can see, there is quite a focus on wind speeds (as they determine the amount of power produced). However, they know that their neural network operates by training on the different components of wind speed separately (meaning training one network on the x-component of the wind and another network on the y-component of the wind) and then combining them at the end. You may consider this method too. They are not sure if it yields better performance than training on wind speed and wind direction separately...but if time permits, give it a go.\n",
    "\n",
    "**About the data**\n",
    "\n",
    "The mast datasets are in netCDF format. It's quite easy to work with in Python (not sure if you've used it before?). In one of the folders, a test.py file is included that demonstrate how to load the dataset and access the most relevant mast signals.\n",
    "\n",
    "The mast data has a measurement frequency of 10 minutes, while the meso data has a frequency of 1 hour. Therefore, you will need to resample the mast data to a 1-hour frequency before you can use it (see requirement 1.e above). Vestas does the same with their data. As mentioned you should be careful when resampling the angles so that the average of 0 degrees (north) and 359 degrees doesn't end up being approximately 180 degrees.\n",
    "\n",
    "The data is publicly available. You can read more about it here:\n",
    "\n",
    "*Risø:*\n",
    "\n",
    "https://gitlab.windenergy.dtu.dk/fair-data/winddata-revamp/winddata-documentation/-/blob/kuhan-master-patch-91815/risoe_m.md\n",
    "\n",
    "Data: https://data.dtu.dk/articles/dataset/Wind_resource_data_from_the_tall_Ris_met_mast/14153204 (this is the \"DOI\"-link from the description)\n",
    "\n",
    "\n",
    "*Børglum:*\n",
    "\n",
    "https://gitlab.windenergy.dtu.dk/fair-data/winddata-revamp/winddata-documentation/-/blob/kuhan-master-patch-91815/borglum.md\n",
    "\n",
    "Data: https://data.dtu.dk/articles/dataset/Resource_data_from_the_Borglum_mast/14153231\n",
    "\n",
    "The two meso datasets come from Vestas' climate library, and the meso data is in UTC time. They don't think you need anything other than the \"wind speed\" (WSP) and \"wind direction\" (WDIR) signals. They believe it's most appropriate to either use the height closest to the mast height (for example, if you're using the wind speed signal ws125 and the wind direction signal wd125 from the Risø dataset, you should use WSP120 and WDIR120 from the meso dataset) or use multiple signals and interpolate to the desired height (125m) (see the requirements above).\n",
    "\n",
    "**Final comments**\n",
    "\n",
    "In a perfect world, you can do all of the above. The assignment is \"free\" in the sense that you should give the above a go and do your best. Remember, there is no right answer. This assignment is a real-world machine learning task and not a \"made-up\" school task. There are software engineers at Vestas working on exactly the same task (albeit with a different dataset, which they arent' allowed to share with us). But try to discuss the problem in your group and distribute the work among you. You can even collaborate with other groups or find inspiration in their approach.\n",
    "\n",
    "And remember. These portfolio assignments are not meant as \"learn stuff in class and apply to assignment\" - they are part of the learning process, and not simply a documentation of what you have learned. They should be seen as \"learning by doing\"-type assignments.\n",
    "\n",
    "In session 8, we will do a Q/A if you have any questions. But as mentioned, try to give it a go. "
   ]
  },
  {
   "cell_type": "markdown",
   "metadata": {},
   "source": [
    "Regression model to generate a long-term corrected LTC wind time series for a specific site. Combining mast data with meso data"
   ]
  },
  {
   "cell_type": "markdown",
   "metadata": {},
   "source": [
    "Summary: \n",
    "\n",
    "Mast Data: specific wind data for a given location (10-minute frequency, usually collected 1-4 years)\n",
    "Meso Data: longer term wind data, not precise for a specific location, more general"
   ]
  },
  {
   "cell_type": "markdown",
   "metadata": {},
   "source": [
    "# 1. Data Preprocessing\n",
    "You must handle large datasets and perform necessary data preprocessing tasks. This includes dealing with missing values, handling outliers, and scaling data appropriately for the chosen regression technique. Feel free to use or get inspired by previous solutions."
   ]
  },
  {
   "cell_type": "code",
   "execution_count": 1,
   "metadata": {},
   "outputs": [],
   "source": [
    "import netCDF4 as nc\n",
    "import numpy as np\n",
    "import pandas as pd\n",
    "import matplotlib.pyplot as plt\n",
    "import seaborn as sns\n",
    "\n",
    "from datetime import datetime, timedelta"
   ]
  },
  {
   "cell_type": "code",
   "execution_count": null,
   "metadata": {},
   "outputs": [],
   "source": [
    "\n",
    "# Load Risoe\n",
    "\n",
    "file_path_risoe = './Data/Risoe/risoe_m_all.nc'\n",
    "risoe_dataset = nc.Dataset(file_path_risoe, 'r')\n",
    "\n",
    "# Extract time in minutes and convert to timestamps\n",
    "base_date_risoe = datetime(1995, 11, 20, 16, 25, 0)\n",
    "time_minutes_risoe = np.array(risoe_dataset.variables['time'])\n",
    "\n",
    "# Convert time (in minutes) to datetime\n",
    "time_risoe = [base_date_risoe + timedelta(minutes=int(minutes)) for minutes in time_minutes_risoe]\n",
    "\n",
    "\n",
    "# Convert the results to a pandas DataFrame for easier processing\n",
    "risoe_df = pd.DataFrame({'time': time_risoe, 'ws77': risoe_dataset.variables['ws77'][:], 'wd77': risoe_dataset.variables['wd77'][:],'ws125': risoe_dataset.variables['ws125'][:], 'wd125': risoe_dataset.variables['wd125'][:]})\n",
    "\n",
    "# Ensure  timestamps are in datetime format\n",
    "risoe_df.index = pd.to_datetime(time_risoe)\n",
    "\n",
    "\n",
    "# Display first few rows to verify\n",
    "print(risoe_df.head())\n"
   ]
  },
  {
   "cell_type": "code",
   "execution_count": null,
   "metadata": {},
   "outputs": [],
   "source": [
    "print(f\"Risoe Time range: {risoe_df['time'].min()} to {risoe_df['time'].max()}\")\n"
   ]
  },
  {
   "cell_type": "code",
   "execution_count": null,
   "metadata": {},
   "outputs": [],
   "source": [
    "sns.heatmap(risoe_df.isnull(), cbar=False, cmap='rocket')\n",
    "plt.title(\"Missing Values in Mast Data\")\n",
    "plt.show()"
   ]
  },
  {
   "cell_type": "code",
   "execution_count": null,
   "metadata": {},
   "outputs": [],
   "source": [
    "#how many nulls we have?\n",
    "missing_values = risoe_df.isnull().sum()\n",
    "missing_perc = (missing_values/len(risoe_df) * 100)\n",
    "\n",
    "missing_info = pd.DataFrame({\n",
    "    'Missing Values': missing_values,\n",
    "    'Percentage (%)': missing_perc\n",
    "})\n",
    "\n",
    "print(\"Missing Values Summary:\\n\")\n",
    "print(missing_info)"
   ]
  },
  {
   "cell_type": "code",
   "execution_count": null,
   "metadata": {},
   "outputs": [],
   "source": [
    "# Add season based on month\n",
    "risoe_df['season'] = risoe_df['time'].dt.month.map({\n",
    "    1: 'Winter', 2: 'Winter', 3: 'Spring', \n",
    "    4: 'Spring', 5: 'Spring', 6: 'Summer',\n",
    "    7: 'Summer', 8: 'Summer', 9: 'Autumn', \n",
    "    10: 'Autumn', 11: 'Autumn', 12: 'Winter'\n",
    "})\n",
    "\n",
    "# Create counts by season\n",
    "seasonal_counts = pd.DataFrame({\n",
    "    'ws77_count': risoe_df.groupby('season')['ws77'].count(),\n",
    "    'ws125_count': risoe_df.groupby('season')['ws125'].count()\n",
    "})\n",
    "\n",
    "# Calculate percentages\n",
    "seasonal_percentages = pd.DataFrame({\n",
    "    'ws77_percentage': (risoe_df.groupby('season')['ws77'].count()/risoe_df['ws77'].count() * 100).round(2),\n",
    "    'ws125_percentage': (risoe_df.groupby('season')['ws125'].count()/risoe_df['ws125'].count() * 100).round(2)\n",
    "})\n",
    "\n",
    "# Display\n",
    "seasonal_info = pd.DataFrame({\n",
    "    'ws77 Count': seasonal_counts['ws77_count'],\n",
    "    'ws77 Percentage (%)': seasonal_percentages['ws77_percentage'],\n",
    "    'ws125 Count': seasonal_counts['ws125_count'],\n",
    "    'ws125 Percentage (%)': seasonal_percentages['ws125_percentage']\n",
    "})\n",
    "\n",
    "print(\"Seasonal Distribution Summary:\\n\")\n",
    "print(seasonal_info)"
   ]
  },
  {
   "cell_type": "markdown",
   "metadata": {},
   "source": [
    " b. Select which ws / wd signals to use. Signals at higher altitude are generally better, but it is even more important to have proper coverage of all seasons.\n",
    " "
   ]
  },
  {
   "cell_type": "markdown",
   "metadata": {},
   "source": [
    "We can observe that both altitudes/heights (77 and 125) have missing values. However, 125 meauserments shows a considerable amount of missing data. Since 77 measurements are more complete and also consisient seasonal distribution , we will proceed with focusing on the 77 measurements."
   ]
  },
  {
   "cell_type": "code",
   "execution_count": 7,
   "metadata": {},
   "outputs": [],
   "source": [
    "# Filter the DataFrame to keep only height 77 data\n",
    "height_77_df = risoe_df[['time','ws77', 'wd77']].copy()\n",
    "\n",
    "# Forward fill missing values\n",
    "height_77_df.ffill(inplace=True)"
   ]
  },
  {
   "cell_type": "code",
   "execution_count": null,
   "metadata": {},
   "outputs": [],
   "source": [
    "# Summary statistics before forward fill\n",
    "original_summary = risoe_df[['ws77', 'wd77']].describe()\n",
    "# Summary statistics after forward fill\n",
    "filled_summary = height_77_df[['ws77', 'wd77']].describe()\n",
    "print(\"Summary Statistics Before Forward Fill:\\n\", original_summary)\n",
    "print(\"Summary Statistics After Forward Fill:\\n\", filled_summary)"
   ]
  },
  {
   "cell_type": "code",
   "execution_count": null,
   "metadata": {},
   "outputs": [],
   "source": [
    "# confirm no null values left\n",
    "missing_values = height_77_df.isnull().sum()\n",
    "print(\"Missing Values in Height 77 Data:\\n\", missing_values)"
   ]
  },
  {
   "cell_type": "markdown",
   "metadata": {},
   "source": [
    "a. Consider the appropriate intervals for wind speeds and wind directions. No negative wind speeds are allowed, and wind directions should be in an appropriate interval (e.g. [0; 360[ degrees)."
   ]
  },
  {
   "cell_type": "code",
   "execution_count": null,
   "metadata": {},
   "outputs": [],
   "source": [
    "print(f\"Risoe Windspeed range: {height_77_df['ws77'].min()} to {height_77_df['ws77'].max()}\")\n",
    "print(f\"Risoe Winddirection range: {height_77_df['wd77'].min()} to {height_77_df['wd77'].max()}\")"
   ]
  },
  {
   "cell_type": "code",
   "execution_count": null,
   "metadata": {},
   "outputs": [],
   "source": [
    "# how many neagtive ws? 0\n",
    "negative_windspeed_count = (height_77_df['ws77'] < 0).sum()\n",
    "print(f\"Number of negative windspeed values: {negative_windspeed_count}\")\n",
    "\n",
    "# Dealing with wd outside of [0; 360[ range\n",
    "height_77_df['wd77'] = height_77_df['wd77'].replace(360, 0)\n",
    "invalid_winddirection_count = ((height_77_df['wd77'] < 0) | (height_77_df['wd77'] >= 360)).sum()\n",
    "print(f\"Number of invalid wind direction measurements: {invalid_winddirection_count}\")"
   ]
  },
  {
   "cell_type": "markdown",
   "metadata": {},
   "source": [
    "d. Convert the mast data from DK time to UTC time (corresponding to the time zone used in the meso data). Remember to account for summer-time in DK."
   ]
  },
  {
   "cell_type": "code",
   "execution_count": null,
   "metadata": {},
   "outputs": [],
   "source": [
    "from datetime import datetime\n",
    "import pytz\n",
    "\n",
    "def convert_dk_to_utc(df):\n",
    "    # Create copy of dataframe to avoid modifying original\n",
    "    df_utc = df.copy()\n",
    "    \n",
    "    # Create timezone objects\n",
    "    dk_tz = pytz.timezone('Europe/Copenhagen')\n",
    "    utc_tz = pytz.UTC\n",
    "    \n",
    "    # Convert index to timezone-aware datetime (Danish time)\n",
    "    # Handle both DST transition cases:\n",
    "    # - nonexistent times during spring forward\n",
    "    # - ambiguous times during fall back\n",
    "    df_utc.index = df_utc.index.tz_localize(\n",
    "        dk_tz,\n",
    "        nonexistent='shift_forward',  # Handle spring forward\n",
    "        ambiguous='NaT'              # Handle fall back\n",
    "    )\n",
    "    \n",
    "    # Convert to UTC\n",
    "    df_utc.index = df_utc.index.tz_convert(utc_tz)\n",
    "    \n",
    "    # Remove timezone information\n",
    "    df_utc.index = df_utc.index.tz_localize(None)\n",
    "    \n",
    "    # Drop any NaT values that were created\n",
    "    df_utc = df_utc.dropna()\n",
    "    \n",
    "    return df_utc\n",
    "\n",
    "# Apply the conversion\n",
    "height_77_df_utc = convert_dk_to_utc(height_77_df.set_index('time'))\n",
    "\n",
    "# Display some results to verify the conversion\n",
    "print(\"Original timestamps (DK time):\")\n",
    "print(height_77_df.head()['time'])\n",
    "print(\"\\nConverted timestamps (UTC):\")\n",
    "print(height_77_df_utc.head().index)\n",
    "\n",
    "# Check the number of rows before and after conversion\n",
    "print(f\"\\nRows before conversion: {len(height_77_df)}\")\n",
    "print(f\"Rows after conversion: {len(height_77_df_utc)}\")"
   ]
  },
  {
   "cell_type": "markdown",
   "metadata": {},
   "source": [
    "e. Resample the mast dataset to have the same frequency as the meso data. The meso data has one record for each hour, the mast data has one record for each 10 min.\n",
    " i. Note: You should not convert the ws / wd signals to vector-quantities and use those for the resampling. Resample the ws and wd signal individually instead. The turbines “yaw” to always point toward the incoming wind, so the interesting value is the wind speed and not the wind velocity.  \n",
    "        ii. Be careful when resampling the wind directions. You don’t want the average of 0 degrees and 359 degrees to become ~180 degrees :-)"
   ]
  },
  {
   "cell_type": "code",
   "execution_count": 13,
   "metadata": {},
   "outputs": [],
   "source": [
    "#Resample Mast data to hourly \n",
    "\n",
    "from scipy.stats import circmean\n",
    "\n",
    "mast_risoe = pd.DataFrame()\n",
    "mast_risoe['ws77'] = height_77_df_utc['ws77'].resample('1h').mean()\n",
    "# Resample wind direction (wd77) using circular mean\n",
    "# Convert to radians, calculate mean, convert back to degrees\n",
    "def circular_mean(x):\n",
    "        if len(x) == 0:\n",
    "            return np.nan\n",
    "        # Convert to radians\n",
    "        rad = np.deg2rad(x)\n",
    "        # Calculate circular mean\n",
    "        result = circmean(rad, high=2*np.pi, low=0)\n",
    "        # Convert back to degrees\n",
    "        return np.rad2deg(result)\n",
    "    \n",
    "mast_risoe['wd77'] = height_77_df_utc['wd77'].resample('1h').apply(circular_mean)"
   ]
  },
  {
   "cell_type": "code",
   "execution_count": null,
   "metadata": {},
   "outputs": [],
   "source": [
    "# describe values before and after resampling\n",
    "print(\"\\nWind Speed Statistics:\")\n",
    "print(\"Before resampling:\")\n",
    "print(height_77_df_utc['ws77'].describe())\n",
    "print(\"\\nAfter resampling:\")\n",
    "print(mast_risoe['ws77'].describe())\n",
    "\n",
    "print(\"\\nWind Direction Statistics:\")\n",
    "print(\"Before resampling:\")\n",
    "print(height_77_df_utc['wd77'].describe())\n",
    "print(\"\\nAfter resampling:\")\n",
    "print(mast_risoe['wd77'].describe())"
   ]
  },
  {
   "cell_type": "markdown",
   "metadata": {},
   "source": [
    "Great, the descriptive statistics are quite close before and after resampling. Now we can focus on the Meso data."
   ]
  },
  {
   "cell_type": "markdown",
   "metadata": {},
   "source": [
    "c. Find the meso-signals closest in height to the mast-data-signal you are using. Or interpolate the values between 2 or more meso-signals to get the values at the exact mast-signal-height.\n",
    "The meso dataset come from Vestas' climate library, and the meso data is in UTC time. They don't think you need anything other than the \"wind speed\" (WSP) and \"wind direction\" (WDIR) signals. They believe it's most appropriate to either use the height closest to the mast height (for example, if you're using the wind speed signal ws125 and the wind direction signal wd125 from the Risø dataset, you should use WSP120 and WDIR120 from the meso dataset) or use multiple signals and interpolate to the desired height (125m) (see the requirements above)."
   ]
  },
  {
   "cell_type": "code",
   "execution_count": null,
   "metadata": {},
   "outputs": [],
   "source": [
    "# Load the meso data\n",
    "meso_risoe = pd.read_csv('./Data/Risoe/meso_Risoe.csv')\n",
    "print(meso_risoe.head())\n",
    "print(meso_risoe.columns)"
   ]
  },
  {
   "cell_type": "markdown",
   "metadata": {},
   "source": [
    "As we use WS77 and WD77 from the mast data, we will look at WSP80 and WDIR80 from the meso data."
   ]
  },
  {
   "cell_type": "code",
   "execution_count": 16,
   "metadata": {},
   "outputs": [],
   "source": [
    "# Convert timestamp to datetime\n",
    "meso_risoe['TIMESTAMP'] = pd.to_datetime(meso_risoe['TIMESTAMP'])\n",
    "\n",
    "# Create a new dataframe with only the columns we need\n",
    "meso_risoe = meso_risoe[['TIMESTAMP', 'WSP080', 'WDIR080']].copy()\n",
    "\n",
    "# Rename columns to match our naming convention\n",
    "meso_risoe = meso_risoe.rename(columns={\n",
    "    'WSP080': 'ws80',\n",
    "    'WDIR080': 'wd80'\n",
    "})\n",
    "# Set timestamp as index\n",
    "meso_risoe = meso_risoe.set_index('TIMESTAMP')\n"
   ]
  },
  {
   "cell_type": "code",
   "execution_count": null,
   "metadata": {},
   "outputs": [],
   "source": [
    "sns.heatmap(meso_risoe.isnull(), cbar=False, cmap='rocket')\n",
    "plt.title(\"Missing Values in Meso Data\")\n",
    "plt.show()"
   ]
  },
  {
   "cell_type": "code",
   "execution_count": null,
   "metadata": {},
   "outputs": [],
   "source": [
    "\n",
    "# Let's check the data\n",
    "print(\"Meso data at 80m summary:\")\n",
    "print(meso_risoe.describe())\n",
    "\n",
    "# Check time range\n",
    "print(\"\\nMeso data time range:\")\n",
    "print(f\"Start: {meso_risoe.index.min()}\")\n",
    "print(f\"End: {meso_risoe.index.max()}\")\n",
    "\n",
    "# Check for missing values\n",
    "print(\"\\nMissing values:\")\n",
    "print(meso_risoe.isnull().sum())"
   ]
  },
  {
   "cell_type": "markdown",
   "metadata": {},
   "source": [
    "f. Find the overlapping timestamps between the meso data and the resampled mast data. You only want to consider data in this overlapping time period in your training."
   ]
  },
  {
   "cell_type": "code",
   "execution_count": null,
   "metadata": {},
   "outputs": [],
   "source": [
    "# making sure both datasets have the same index name\n",
    "meso_risoe = meso_risoe.reset_index().rename(columns={'TIMESTAMP': 'time'}).set_index('time')\n",
    "\n",
    "# Find the overlapping period\n",
    "start_time = max(mast_risoe.index.min(), meso_risoe.index.min())\n",
    "end_time = min(mast_risoe.index.max(), meso_risoe.index.max())\n",
    "\n",
    "# Print the full date range of both datasets before filtering\n",
    "print(\"Date ranges before filtering:\")\n",
    "print(f\"Mast data: {mast_risoe.index.min()} to {mast_risoe.index.max()}\")\n",
    "print(f\"Meso data: {meso_risoe.index.min()} to {meso_risoe.index.max()}\")\n",
    "\n",
    "# Filter both datasets for the overlapping period\n",
    "df_mast = mast_risoe.loc[start_time:end_time].copy()\n",
    "df_meso = meso_risoe.loc[start_time:end_time].copy()\n",
    "\n",
    "# Check for any missing timestamps in either dataset\n",
    "mast_timestamps = set(df_mast.index)\n",
    "meso_timestamps = set(df_meso.index)\n",
    "common_timestamps = mast_timestamps.intersection(meso_timestamps)\n",
    "\n",
    "# Create new dataframes with only the common timestamps\n",
    "df_mast = df_mast.loc[list(common_timestamps)]\n",
    "df_meso = df_meso.loc[list(common_timestamps)]\n",
    "\n",
    "# Sort both dataframes by index to ensure they're aligned\n",
    "df_mast = df_mast.sort_index()\n",
    "df_meso = df_meso.sort_index()\n",
    "\n",
    "print(\"\\n Number of observations after alignment:\")\n",
    "print(f\"in mast data: {len(df_mast)}\")\n",
    "print(f\"in meso data: {len(df_meso)}\")\n",
    "\n",
    "# Verify alignment\n",
    "print(\"\\nMast data:\")\n",
    "print(df_mast.head())\n",
    "print(\"\\nMeso data:\")\n",
    "print(df_meso.head())"
   ]
  },
  {
   "cell_type": "markdown",
   "metadata": {},
   "source": [
    "3. **Model Development:** Use appropriate machine learning principles and methodologies, including model training and testing and perhaps validation, cross-validation, and leave-one-out. You should apply and interpret regression models effectively for this task."
   ]
  },
  {
   "cell_type": "code",
   "execution_count": 19,
   "metadata": {},
   "outputs": [],
   "source": [
    "from sklearn.model_selection import train_test_split\n",
    "\n",
    "\n",
    "# Prepare the data\n",
    "X = df_meso[['ws80', 'wd80']]  # Features from meso data\n",
    "y_ws = df_mast['ws77']         # Target wind speed\n",
    "y_wd = df_mast['wd77']         # Target wind direction\n",
    "\n",
    "# Split the data (80% training, 20% testing)\n",
    "X_train, X_test, y_ws_train, y_ws_test, y_wd_train, y_wd_test = train_test_split(\n",
    "    X, y_ws, y_wd, test_size=0.2, random_state=42)"
   ]
  },
  {
   "cell_type": "code",
   "execution_count": null,
   "metadata": {},
   "outputs": [],
   "source": [
    "# distributions and outliers on training data\n",
    "\n",
    "# Create a figure for distribution plots\n",
    "plt.figure(figsize=(15, 10))\n",
    "\n",
    "# Wind Speed distributions (training data only)\n",
    "plt.subplot(2, 2, 1)\n",
    "sns.boxplot(data=[y_ws_train, X_train['ws80']])\n",
    "plt.xticks([0, 1], ['Mast WS (train)', 'Meso WS (train)'])\n",
    "plt.title('Wind Speed Boxplots - Training Data')\n",
    "\n",
    "plt.subplot(2, 2, 2)\n",
    "sns.histplot(data=y_ws_train, label='Mast WS (train)', alpha=0.5)\n",
    "sns.histplot(data=X_train['ws80'], label='Meso WS (train)', alpha=0.5)\n",
    "plt.legend()\n",
    "plt.title('Wind Speed Distributions - Training Data')\n",
    "\n",
    "# Wind Direction distributions (training data only)\n",
    "plt.subplot(2, 2, 3)\n",
    "sns.boxplot(data=[y_wd_train, X_train['wd80']])\n",
    "plt.xticks([0, 1], ['Mast WD (train)', 'Meso WD (train)'])\n",
    "plt.title('Wind Direction Boxplots - Training Data')\n",
    "\n",
    "plt.subplot(2, 2, 4)\n",
    "sns.histplot(data=y_wd_train, label='Mast WD (train)', alpha=0.5)\n",
    "sns.histplot(data=X_train['wd80'], label='Meso WD (train)', alpha=0.5)\n",
    "plt.legend()\n",
    "plt.title('Wind Direction Distributions - Training Data')\n",
    "\n",
    "plt.tight_layout()\n",
    "plt.show()\n"
   ]
  },
  {
   "cell_type": "code",
   "execution_count": null,
   "metadata": {},
   "outputs": [],
   "source": [
    "# skewness on training data\n",
    "print(\"\\nSkewness (Training Data):\")\n",
    "print(\"Mast Wind Speed:\", y_ws_train.skew())\n",
    "print(\"Meso Wind Speed:\", X_train['ws80'].skew())\n",
    "print(\"Mast Wind Direction:\", y_wd_train.skew())\n",
    "print(\"Meso Wind Direction:\", X_train['wd80'].skew())"
   ]
  },
  {
   "cell_type": "markdown",
   "metadata": {},
   "source": [
    "Wind Speeds (both Mast 0.58 and Meso 0.50) show moderate positive skewness, meaning there's a longer tail towards higher values\n",
    "Wind Directions (Mast -0.31 and Meso -0.37) show slight negative skewness\n",
    "None of these values are > 1, so the skewness is not severe enough to require transformation"
   ]
  },
  {
   "cell_type": "code",
   "execution_count": null,
   "metadata": {},
   "outputs": [],
   "source": [
    "# 4. Check for outliers using IQR method (training data only)\n",
    "def identify_outliers(data, column_name=None):\n",
    "    if column_name is None:\n",
    "        data = pd.Series(data)\n",
    "    else:\n",
    "        data = data[column_name]\n",
    "    \n",
    "    Q1 = data.quantile(0.25)\n",
    "    Q3 = data.quantile(0.75)\n",
    "    IQR = Q3 - Q1\n",
    "    lower_bound = Q1 - 1.5 * IQR\n",
    "    upper_bound = Q3 + 1.5 * IQR\n",
    "    outliers = data[(data < lower_bound) | (data > upper_bound)]\n",
    "    return len(outliers), lower_bound, upper_bound\n",
    "\n",
    "print(\"\\nOutliers Analysis (Training Data):\")\n",
    "# For X_train\n",
    "for col in X_train.columns:\n",
    "    n_outliers, lower, upper = identify_outliers(X_train, col)\n",
    "    print(f\"Meso {col}: {n_outliers} outliers\")\n",
    "    print(f\"Lower bound: {lower:.2f}, Upper bound: {upper:.2f}\")\n",
    "\n",
    "# For y_train (wind speed and direction)\n",
    "n_outliers, lower, upper = identify_outliers(y_ws_train)\n",
    "print(f\"Mast wind speed: {n_outliers} outliers\")\n",
    "print(f\"Lower bound: {lower:.2f}, Upper bound: {upper:.2f}\")\n",
    "\n",
    "n_outliers, lower, upper = identify_outliers(y_wd_train)\n",
    "print(f\"Mast wind direction: {n_outliers} outliers\")\n",
    "print(f\"Lower bound: {lower:.2f}, Upper bound: {upper:.2f}\")"
   ]
  },
  {
   "cell_type": "markdown",
   "metadata": {},
   "source": [
    "There are no outliers for wind direction (it makes sense, as it is between the range of 0-360). For wind speed, there are potential outliers, but as wind can behave unexpectedly, especially in Denmark and in flat landscape, let us build our model as is."
   ]
  },
  {
   "cell_type": "code",
   "execution_count": null,
   "metadata": {},
   "outputs": [],
   "source": [
    "# 5. Correlation analysis (training data only)\n",
    "print(\"\\nCorrelation between Mast and Meso (Training Data):\")\n",
    "print(\"Wind Speed correlation:\", y_ws_train.corr(X_train['ws80']))\n",
    "print(\"Wind Direction correlation:\", y_wd_train.corr(X_train['wd80']))"
   ]
  },
  {
   "cell_type": "markdown",
   "metadata": {},
   "source": [
    "Strong positive correlation between meso and mast wind speed, and moderate correlation for wind direction. This indicates that there are other factors affecting local wind, but the meso data should be still useful for predicting mast wind speed and direction."
   ]
  },
  {
   "cell_type": "code",
   "execution_count": null,
   "metadata": {},
   "outputs": [],
   "source": [
    "from sklearn.linear_model import LinearRegression\n",
    "from sklearn.metrics import mean_squared_error, r2_score\n",
    "from sklearn.preprocessing import StandardScaler\n",
    "\n",
    "# 1. Create separate models for wind speed and direction\n",
    "# Wind Speed Model\n",
    "ws_model = LinearRegression()\n",
    "ws_model.fit(X_train[['ws80']], y_ws_train)\n",
    "\n",
    "# Wind Direction Model\n",
    "wd_model = LinearRegression()\n",
    "wd_model.fit(X_train[['wd80']], y_wd_train)\n",
    "\n",
    "# 2. Make predictions on test set\n",
    "ws_pred = ws_model.predict(X_test[['ws80']])\n",
    "wd_pred = wd_model.predict(X_test[['wd80']])\n",
    "\n",
    "# 3. Evaluate models\n",
    "print(\"Wind Speed Model Performance:\")\n",
    "print(f\"R² Score: {r2_score(y_ws_test, ws_pred):.4f}\")\n",
    "print(f\"RMSE: {np.sqrt(mean_squared_error(y_ws_test, ws_pred)):.4f}\")\n",
    "\n",
    "print(\"\\nWind Direction Model Performance:\")\n",
    "print(f\"R² Score: {r2_score(y_wd_test, wd_pred):.4f}\")\n",
    "print(f\"RMSE: {np.sqrt(mean_squared_error(y_wd_test, wd_pred)):.4f}\")\n",
    "\n",
    "# 4. Visualize predictions vs actual values\n",
    "plt.figure(figsize=(15, 5))\n",
    "\n",
    "# Wind Speed\n",
    "plt.subplot(1, 2, 1)\n",
    "plt.scatter(y_ws_test, ws_pred, alpha=0.5)\n",
    "plt.plot([y_ws_test.min(), y_ws_test.max()], [y_ws_test.min(), y_ws_test.max()], 'r--')\n",
    "plt.xlabel('Actual Wind Speed')\n",
    "plt.ylabel('Predicted Wind Speed')\n",
    "plt.title('Wind Speed: Predicted vs Actual')\n",
    "\n",
    "# Wind Direction\n",
    "plt.subplot(1, 2, 2)\n",
    "plt.scatter(y_wd_test, wd_pred, alpha=0.5)\n",
    "plt.plot([y_wd_test.min(), y_wd_test.max()], [y_wd_test.min(), y_wd_test.max()], 'r--')\n",
    "plt.xlabel('Actual Wind Direction')\n",
    "plt.ylabel('Predicted Wind Direction')\n",
    "plt.title('Wind Direction: Predicted vs Actual')\n",
    "\n",
    "plt.tight_layout()\n",
    "plt.show()"
   ]
  },
  {
   "cell_type": "markdown",
   "metadata": {},
   "source": [
    "4. **Model Evaluation:** Evaluate the developed model using appropriate metrics such as Mean Squared Error (MSE), R-squared (R²), etc. The evaluation should give an indication of the usefulness of your model in predicting wind conditions accurately. "
   ]
  }
 ],
 "metadata": {
  "kernelspec": {
   "display_name": "Python 3",
   "language": "python",
   "name": "python3"
  },
  "language_info": {
   "codemirror_mode": {
    "name": "ipython",
    "version": 3
   },
   "file_extension": ".py",
   "mimetype": "text/x-python",
   "name": "python",
   "nbconvert_exporter": "python",
   "pygments_lexer": "ipython3",
   "version": "3.12.4"
  }
 },
 "nbformat": 4,
 "nbformat_minor": 2
}
