{
 "cells": [
  {
   "cell_type": "markdown",
   "metadata": {},
   "source": [
    "## Pandas"
   ]
  },
  {
   "cell_type": "markdown",
   "metadata": {},
   "source": [
    "- Comprehensive Python library for data manipulation and analysis, in particular tables and time series\n",
    "- Pandas **data frames** = tables\n",
    "- Supports interaction with SQL, CSV, JSON, ...\n",
    "- Integrates with Jupyter, numpy, matplotlib, ...\n"
   ]
  },
  {
   "cell_type": "markdown",
   "metadata": {},
   "source": [
    "### Reading CSV"
   ]
  },
  {
   "cell_type": "code",
   "execution_count": 1,
   "metadata": {},
   "outputs": [
    {
     "data": {
      "text/html": [
       "<div>\n",
       "<style scoped>\n",
       "    .dataframe tbody tr th:only-of-type {\n",
       "        vertical-align: middle;\n",
       "    }\n",
       "\n",
       "    .dataframe tbody tr th {\n",
       "        vertical-align: top;\n",
       "    }\n",
       "\n",
       "    .dataframe thead th {\n",
       "        text-align: right;\n",
       "    }\n",
       "</style>\n",
       "<table border=\"1\" class=\"dataframe\">\n",
       "  <thead>\n",
       "    <tr style=\"text-align: right;\">\n",
       "      <th></th>\n",
       "      <th>name</th>\n",
       "      <th>nationality</th>\n",
       "      <th>city</th>\n",
       "      <th>latitude</th>\n",
       "      <th>longitude</th>\n",
       "      <th>gender</th>\n",
       "      <th>age</th>\n",
       "      <th>english.grade</th>\n",
       "      <th>math.grade</th>\n",
       "      <th>sciences.grade</th>\n",
       "      <th>language.grade</th>\n",
       "      <th>portfolio.rating</th>\n",
       "      <th>coverletter.rating</th>\n",
       "      <th>refletter.rating</th>\n",
       "    </tr>\n",
       "  </thead>\n",
       "  <tbody>\n",
       "    <tr>\n",
       "      <th>0</th>\n",
       "      <td>Kiana Lor</td>\n",
       "      <td>China</td>\n",
       "      <td>Suzhou</td>\n",
       "      <td>31.31</td>\n",
       "      <td>120.62</td>\n",
       "      <td>F</td>\n",
       "      <td>22</td>\n",
       "      <td>3.5</td>\n",
       "      <td>3.7</td>\n",
       "      <td>3.1</td>\n",
       "      <td>1.0</td>\n",
       "      <td>4</td>\n",
       "      <td>4.0</td>\n",
       "      <td>4</td>\n",
       "    </tr>\n",
       "    <tr>\n",
       "      <th>1</th>\n",
       "      <td>Joshua Lonaker</td>\n",
       "      <td>United States of America</td>\n",
       "      <td>Santa Clarita</td>\n",
       "      <td>34.39</td>\n",
       "      <td>-118.54</td>\n",
       "      <td>M</td>\n",
       "      <td>22</td>\n",
       "      <td>2.9</td>\n",
       "      <td>3.2</td>\n",
       "      <td>3.6</td>\n",
       "      <td>5.0</td>\n",
       "      <td>5</td>\n",
       "      <td>4.0</td>\n",
       "      <td>5</td>\n",
       "    </tr>\n",
       "    <tr>\n",
       "      <th>2</th>\n",
       "      <td>Dakota Blanco</td>\n",
       "      <td>United States of America</td>\n",
       "      <td>Oakland</td>\n",
       "      <td>37.80</td>\n",
       "      <td>-122.27</td>\n",
       "      <td>F</td>\n",
       "      <td>22</td>\n",
       "      <td>3.9</td>\n",
       "      <td>3.8</td>\n",
       "      <td>3.2</td>\n",
       "      <td>5.0</td>\n",
       "      <td>3</td>\n",
       "      <td>3.0</td>\n",
       "      <td>4</td>\n",
       "    </tr>\n",
       "    <tr>\n",
       "      <th>3</th>\n",
       "      <td>Natasha Yarusso</td>\n",
       "      <td>United States of America</td>\n",
       "      <td>Castro Valley</td>\n",
       "      <td>37.69</td>\n",
       "      <td>-122.09</td>\n",
       "      <td>F</td>\n",
       "      <td>20</td>\n",
       "      <td>3.3</td>\n",
       "      <td>2.8</td>\n",
       "      <td>3.2</td>\n",
       "      <td>5.0</td>\n",
       "      <td>5</td>\n",
       "      <td>2.0</td>\n",
       "      <td>4</td>\n",
       "    </tr>\n",
       "    <tr>\n",
       "      <th>4</th>\n",
       "      <td>Brooke Cazares</td>\n",
       "      <td>Brazil</td>\n",
       "      <td>São José dos Campos</td>\n",
       "      <td>-23.18</td>\n",
       "      <td>-45.88</td>\n",
       "      <td>F</td>\n",
       "      <td>21</td>\n",
       "      <td>3.7</td>\n",
       "      <td>2.6</td>\n",
       "      <td>3.4</td>\n",
       "      <td>1.0</td>\n",
       "      <td>4</td>\n",
       "      <td>4.0</td>\n",
       "      <td>5</td>\n",
       "    </tr>\n",
       "    <tr>\n",
       "      <th>...</th>\n",
       "      <td>...</td>\n",
       "      <td>...</td>\n",
       "      <td>...</td>\n",
       "      <td>...</td>\n",
       "      <td>...</td>\n",
       "      <td>...</td>\n",
       "      <td>...</td>\n",
       "      <td>...</td>\n",
       "      <td>...</td>\n",
       "      <td>...</td>\n",
       "      <td>...</td>\n",
       "      <td>...</td>\n",
       "      <td>...</td>\n",
       "      <td>...</td>\n",
       "    </tr>\n",
       "    <tr>\n",
       "      <th>302</th>\n",
       "      <td>Austin Haas</td>\n",
       "      <td>United States of America</td>\n",
       "      <td>Columbus</td>\n",
       "      <td>39.96</td>\n",
       "      <td>-83.00</td>\n",
       "      <td>M</td>\n",
       "      <td>20</td>\n",
       "      <td>3.6</td>\n",
       "      <td>3.7</td>\n",
       "      <td>3.1</td>\n",
       "      <td>5.0</td>\n",
       "      <td>4</td>\n",
       "      <td>5.0</td>\n",
       "      <td>5</td>\n",
       "    </tr>\n",
       "    <tr>\n",
       "      <th>303</th>\n",
       "      <td>Madison Fithian</td>\n",
       "      <td>United States of America</td>\n",
       "      <td>Los Angeles</td>\n",
       "      <td>34.05</td>\n",
       "      <td>-118.24</td>\n",
       "      <td>F</td>\n",
       "      <td>20</td>\n",
       "      <td>3.6</td>\n",
       "      <td>3.9</td>\n",
       "      <td>4.0</td>\n",
       "      <td>5.0</td>\n",
       "      <td>5</td>\n",
       "      <td>5.0</td>\n",
       "      <td>3</td>\n",
       "    </tr>\n",
       "    <tr>\n",
       "      <th>304</th>\n",
       "      <td>Zachary Mulvahill</td>\n",
       "      <td>United States of America</td>\n",
       "      <td>Los Angeles</td>\n",
       "      <td>34.05</td>\n",
       "      <td>-118.24</td>\n",
       "      <td>M</td>\n",
       "      <td>20</td>\n",
       "      <td>3.2</td>\n",
       "      <td>3.4</td>\n",
       "      <td>3.9</td>\n",
       "      <td>5.0</td>\n",
       "      <td>5</td>\n",
       "      <td>5.0</td>\n",
       "      <td>3</td>\n",
       "    </tr>\n",
       "    <tr>\n",
       "      <th>305</th>\n",
       "      <td>Eliana Michelsen</td>\n",
       "      <td>United States of America</td>\n",
       "      <td>Oakland</td>\n",
       "      <td>37.80</td>\n",
       "      <td>-122.27</td>\n",
       "      <td>F</td>\n",
       "      <td>23</td>\n",
       "      <td>3.0</td>\n",
       "      <td>2.8</td>\n",
       "      <td>2.9</td>\n",
       "      <td>5.0</td>\n",
       "      <td>4</td>\n",
       "      <td>4.0</td>\n",
       "      <td>5</td>\n",
       "    </tr>\n",
       "    <tr>\n",
       "      <th>306</th>\n",
       "      <td>Dane Whittemore</td>\n",
       "      <td>Canada</td>\n",
       "      <td>Toronto</td>\n",
       "      <td>43.67</td>\n",
       "      <td>-79.42</td>\n",
       "      <td>M</td>\n",
       "      <td>21</td>\n",
       "      <td>3.8</td>\n",
       "      <td>3.2</td>\n",
       "      <td>4.0</td>\n",
       "      <td>5.0</td>\n",
       "      <td>5</td>\n",
       "      <td>4.0</td>\n",
       "      <td>5</td>\n",
       "    </tr>\n",
       "  </tbody>\n",
       "</table>\n",
       "<p>307 rows × 14 columns</p>\n",
       "</div>"
      ],
      "text/plain": [
       "                  name               nationality                 city  \\\n",
       "0            Kiana Lor                     China               Suzhou   \n",
       "1       Joshua Lonaker  United States of America        Santa Clarita   \n",
       "2        Dakota Blanco  United States of America              Oakland   \n",
       "3      Natasha Yarusso  United States of America        Castro Valley   \n",
       "4       Brooke Cazares                    Brazil  São José dos Campos   \n",
       "..                 ...                       ...                  ...   \n",
       "302        Austin Haas  United States of America             Columbus   \n",
       "303    Madison Fithian  United States of America          Los Angeles   \n",
       "304  Zachary Mulvahill  United States of America          Los Angeles   \n",
       "305   Eliana Michelsen  United States of America              Oakland   \n",
       "306    Dane Whittemore                    Canada              Toronto   \n",
       "\n",
       "     latitude  longitude gender  age  english.grade  math.grade  \\\n",
       "0       31.31     120.62      F   22            3.5         3.7   \n",
       "1       34.39    -118.54      M   22            2.9         3.2   \n",
       "2       37.80    -122.27      F   22            3.9         3.8   \n",
       "3       37.69    -122.09      F   20            3.3         2.8   \n",
       "4      -23.18     -45.88      F   21            3.7         2.6   \n",
       "..        ...        ...    ...  ...            ...         ...   \n",
       "302     39.96     -83.00      M   20            3.6         3.7   \n",
       "303     34.05    -118.24      F   20            3.6         3.9   \n",
       "304     34.05    -118.24      M   20            3.2         3.4   \n",
       "305     37.80    -122.27      F   23            3.0         2.8   \n",
       "306     43.67     -79.42      M   21            3.8         3.2   \n",
       "\n",
       "     sciences.grade  language.grade  portfolio.rating  coverletter.rating  \\\n",
       "0               3.1             1.0                 4                 4.0   \n",
       "1               3.6             5.0                 5                 4.0   \n",
       "2               3.2             5.0                 3                 3.0   \n",
       "3               3.2             5.0                 5                 2.0   \n",
       "4               3.4             1.0                 4                 4.0   \n",
       "..              ...             ...               ...                 ...   \n",
       "302             3.1             5.0                 4                 5.0   \n",
       "303             4.0             5.0                 5                 5.0   \n",
       "304             3.9             5.0                 5                 5.0   \n",
       "305             2.9             5.0                 4                 4.0   \n",
       "306             4.0             5.0                 5                 4.0   \n",
       "\n",
       "     refletter.rating  \n",
       "0                   4  \n",
       "1                   5  \n",
       "2                   4  \n",
       "3                   4  \n",
       "4                   5  \n",
       "..                ...  \n",
       "302                 5  \n",
       "303                 3  \n",
       "304                 3  \n",
       "305                 5  \n",
       "306                 5  \n",
       "\n",
       "[307 rows x 14 columns]"
      ]
     },
     "execution_count": 1,
     "metadata": {},
     "output_type": "execute_result"
    }
   ],
   "source": [
    "import pandas as pd\n",
    "students = pd.read_csv('students.csv')\n",
    "students"
   ]
  },
  {
   "cell_type": "markdown",
   "metadata": {},
   "source": [
    "### Indexing data frames"
   ]
  },
  {
   "cell_type": "code",
   "execution_count": null,
   "metadata": {},
   "outputs": [],
   "source": [
    "students['name']  # single column"
   ]
  },
  {
   "cell_type": "code",
   "execution_count": null,
   "metadata": {},
   "outputs": [],
   "source": [
    "students.name"
   ]
  },
  {
   "cell_type": "code",
   "execution_count": null,
   "metadata": {},
   "outputs": [],
   "source": [
    "students[['name', 'nationality']]    # select multiple columns"
   ]
  },
  {
   "cell_type": "code",
   "execution_count": null,
   "metadata": {},
   "outputs": [],
   "source": [
    "students.head(2)  # only display two top entries"
   ]
  },
  {
   "cell_type": "code",
   "execution_count": null,
   "metadata": {},
   "outputs": [],
   "source": [
    "students.tail(1)    # only display last entry"
   ]
  },
  {
   "cell_type": "code",
   "execution_count": null,
   "metadata": {},
   "outputs": [],
   "source": [
    "students[1:3]   # row slicing by row label"
   ]
  },
  {
   "cell_type": "code",
   "execution_count": null,
   "metadata": {},
   "outputs": [],
   "source": [
    "students[::2]   # every second row"
   ]
  },
  {
   "cell_type": "code",
   "execution_count": null,
   "metadata": {},
   "outputs": [],
   "source": [
    "students.at[2, 'nationality'] # use at to lookup single cell"
   ]
  },
  {
   "cell_type": "code",
   "execution_count": null,
   "metadata": {},
   "outputs": [],
   "source": [
    "students.loc[1] # single row is accessed using .loc[row label]"
   ]
  },
  {
   "cell_type": "code",
   "execution_count": null,
   "metadata": {},
   "outputs": [],
   "source": [
    "students.loc[1]['name']  # another way to get a single value"
   ]
  },
  {
   "cell_type": "code",
   "execution_count": null,
   "metadata": {},
   "outputs": [],
   "source": [
    "students.loc[[1, 3], ['nationality', 'name']]  # extract sub data frame"
   ]
  },
  {
   "cell_type": "code",
   "execution_count": null,
   "metadata": {},
   "outputs": [],
   "source": [
    "students['nationality'].unique()   # check unique entries of a column"
   ]
  },
  {
   "cell_type": "code",
   "execution_count": null,
   "metadata": {},
   "outputs": [],
   "source": [
    "students[students.nationality == 'Mexico'] # create a mask, similar to WHERE in SQL"
   ]
  },
  {
   "cell_type": "code",
   "execution_count": null,
   "metadata": {},
   "outputs": [],
   "source": [
    "# You can also do operations on columns +, -, &, /, ....\n",
    "students[(students.nationality == 'Mexico') & (students.age > 22)]"
   ]
  },
  {
   "cell_type": "markdown",
   "metadata": {},
   "source": [
    "### Creating data frames from data"
   ]
  },
  {
   "cell_type": "code",
   "execution_count": null,
   "metadata": {},
   "outputs": [],
   "source": [
    "pd.DataFrame([10, 11, 12, 13]) # one dimensional data"
   ]
  },
  {
   "cell_type": "code",
   "execution_count": null,
   "metadata": {},
   "outputs": [],
   "source": [
    "# data frame using dictionary\n",
    "pd.DataFrame({'A': [1, 2, 3], 'B': ['one', 'two', 'three']})  \n"
   ]
  },
  {
   "cell_type": "code",
   "execution_count": null,
   "metadata": {},
   "outputs": [],
   "source": [
    "pd.DataFrame([[10, 11], [12, 13]])  # two dimensional list"
   ]
  },
  {
   "cell_type": "markdown",
   "metadata": {},
   "source": [
    "This looks like a matrix! Both data frames and matrices are 2-dimensional data structures. In general, data frames can include **multiple** types of data (numeric, character, factor, etc) while matrices can only store **one** type of data."
   ]
  },
  {
   "cell_type": "markdown",
   "metadata": {},
   "source": [
    "### Data frame in Python"
   ]
  },
  {
   "cell_type": "markdown",
   "metadata": {},
   "source": [
    "In Python, a data frame is a two-dimensional, tabular, mutable data structure that may store tabular data containing objects of various data types. A data frame has axes that are labeled in the form of rows and columns. data frames are useful tools in data preprocessing because they provide valuable data handling methods."
   ]
  },
  {
   "attachments": {
    "image.png": {
     "image/png": "[encoded data removed]"
    }
   },
   "cell_type": "markdown",
   "metadata": {},
   "source": [
    "### Applications of data frames\n",
    "![image.png](attachment:image.png)"
   ]
  },
  {
   "cell_type": "markdown",
   "metadata": {},
   "source": [
    "### Matrix in Python\n",
    "Matrix is a homogeneous collection of data sets organised in a two-dimensional rectangular grid. It’s an m*n array with the same data type. It is created with a vector input. There are a fixed number of rows and columns. Python supports numerous arithmetic operations such as addition, subtraction, multiplication, and division on Matrix."
   ]
  },
  {
   "cell_type": "code",
   "execution_count": null,
   "metadata": {},
   "outputs": [],
   "source": [
    "import numpy as np\n",
    "A = np.random.random((3, 4))\n",
    "A"
   ]
  },
  {
   "cell_type": "markdown",
   "metadata": {},
   "source": [
    "Why is `random` used twice?\n",
    "- `np. random`: The first `random` refers to the module within NumPy that contains all the functions related to random number generation. It's the name of the module, and it's accessed via `np.random`.\n",
    "- `random((5,7))`: The second `random` is the actual function that generates random numbers. This function is called with the argument `(5,7)`, specifying the dimensions of the output array."
   ]
  },
  {
   "cell_type": "code",
   "execution_count": null,
   "metadata": {},
   "outputs": [],
   "source": [
    "pd.DataFrame(A)"
   ]
  },
  {
   "cell_type": "code",
   "execution_count": null,
   "metadata": {},
   "outputs": [],
   "source": [
    "R = pd.DataFrame(A, columns=list('ABCD'), index=list('xyz'))\n",
    "R"
   ]
  },
  {
   "attachments": {
    "image.png": {
     "image/png": "[encoded data removed]"
    }
   },
   "cell_type": "markdown",
   "metadata": {},
   "source": [
    "### Matrix vs Data Frame\n",
    "![image.png](attachment:image.png)"
   ]
  },
  {
   "cell_type": "markdown",
   "metadata": {},
   "source": [
    "### Data Frames summary\n",
    "\n",
    "A **DataFrame** in Pandas is a flexible data structure designed for data manipulation and analysis in Python. It organizes data in a 2D tabular format, where rows represent individual records, and columns represent variables or features. \n",
    "\n",
    "**Similarities to SQL Tables:**\n",
    "- **Tabular Structure**: Both DataFrames and SQL tables organize data in a similar row-and-column format.\n",
    "- **Schema**: Just like SQL tables, DataFrames have a defined schema, with each column having a specific data type.\n",
    "- **Operations**: You can perform SQL-like operations on DataFrames, such as filtering, grouping, joining, and aggregating data.\n",
    "\n",
    "**Differences:**\n",
    "- **In-Memory vs. Persistent Storage**: DataFrames are in-memory structures, meaning they exist in the computer's memory and are lost when the session ends. SQL tables, however, are stored persistently in a database.\n",
    "- **Flexibility**: DataFrames offer more flexibility for data manipulation with Python, allowing operations that would be more complex in SQL, like applying custom functions to columns or rows.\n",
    "- **Scalability**: SQL databases are designed for handling large datasets and concurrent users, whereas DataFrames are better suited for in-memory analysis of smaller to moderately large datasets.\n",
    "\n",
    "In essence, DataFrames combine the familiarity of SQL tables with the cool stuff you get from Python, making them the s!#t for Machine Learning."
   ]
  },
  {
   "cell_type": "markdown",
   "metadata": {},
   "source": [
    "# Example application\n",
    "\n",
    "Here we will go through the steps of a simple machine learning application based on the Titanic data set"
   ]
  },
  {
   "cell_type": "markdown",
   "metadata": {},
   "source": [
    "## Load the data and print a bit of information"
   ]
  },
  {
   "cell_type": "code",
   "execution_count": null,
   "metadata": {},
   "outputs": [],
   "source": [
    "import pandas as pd\n",
    "import numpy as np\n",
    "titanic = pd.read_csv(\"titanic.csv\")"
   ]
  },
  {
   "cell_type": "code",
   "execution_count": null,
   "metadata": {},
   "outputs": [],
   "source": [
    "titanic"
   ]
  },
  {
   "cell_type": "markdown",
   "metadata": {},
   "source": [
    "Before we can start, we need to handle a few issues: There are several \"NaN\"-values in the data set, which our machine learning algorithms won't be able to handle. It can't handle non-numeric values either, which we will deal with in two different ways: we change the \"sex\"-feature to a dummy variable and remove all other non-numeric columns. "
   ]
  },
  {
   "cell_type": "code",
   "execution_count": null,
   "metadata": {},
   "outputs": [],
   "source": [
    "#Dropping unwanted columns:\n",
    "titanic = titanic.drop(['Name',\"Ticket\",\"Cabin\",\"Embarked\"], axis='columns')\n",
    "\n",
    "#Creating dummy variable for sex:\n",
    "titanic[\"Sex\"] = pd.get_dummies(titanic[\"Sex\"])[\"male\"]\n",
    "\n",
    "#We will also drop all rows that contain NaN-values:\n",
    "titanic = titanic.dropna()\n",
    "titanic"
   ]
  },
  {
   "cell_type": "markdown",
   "metadata": {},
   "source": [
    "We want to try to predict whether a given passenger survived or not. So \"survived\" is our target variable (i.e. our labels)."
   ]
  },
  {
   "cell_type": "code",
   "execution_count": null,
   "metadata": {},
   "outputs": [],
   "source": [
    "labels = titanic[\"Survived\"]\n",
    "labels"
   ]
  },
  {
   "cell_type": "code",
   "execution_count": null,
   "metadata": {},
   "outputs": [],
   "source": [
    "data = titanic.drop(['Survived'], axis='columns')\n",
    "data"
   ]
  },
  {
   "cell_type": "markdown",
   "metadata": {
    "collapsed": true
   },
   "source": [
    "## Building a model\n",
    "\n",
    "For illustrating the process we use the naïve Bayes model (more on this later). In scikit-learn all ML algorithms are implemented in their own class (for naïve Bayes it is `GaussianNB` under `sklearn.naive_bayes`) that should be instantiated. "
   ]
  },
  {
   "cell_type": "code",
   "execution_count": null,
   "metadata": {},
   "outputs": [],
   "source": [
    "from sklearn.naive_bayes import GaussianNB\n",
    "model = GaussianNB()\n",
    "\n",
    "# It is extremely easy to try with a different machine learning algorithm instead! \n",
    "# Just uncomment the two lines below to use a \"k Nearest Neighbors\"-model instead of Naive Bayes:\n",
    "\n",
    "# from sklearn.neighbors import KNeighborsClassifier \n",
    "# model = KNeighborsClassifier()"
   ]
  },
  {
   "cell_type": "markdown",
   "metadata": {},
   "source": [
    "Use the `fit` method for learning the model; this function takes as arguments the training data and the corresponding labels "
   ]
  },
  {
   "cell_type": "code",
   "execution_count": null,
   "metadata": {},
   "outputs": [],
   "source": [
    "model.fit(data, labels)\n",
    "\n",
    "# f(x) = a_1 * x_1 + a_2 * x_2 + .....\n"
   ]
  },
  {
   "cell_type": "markdown",
   "metadata": {},
   "source": [
    "## Making predictions\n",
    "\n",
    "We use the learned model to make predictions about new data instances for which we do not know the labels.\n",
    "Let's see if a person with PassengerId 100, class 3, female, age 20, no siblings, parch 0 and a fare of 30 is predicted to survive:"
   ]
  },
  {
   "cell_type": "code",
   "execution_count": null,
   "metadata": {},
   "outputs": [],
   "source": [
    "# New data organized in a two-dimensional array \n",
    "x_new = np.array([[100, 1, 1, 10, 1, 2, 55]])\n",
    "\n",
    "# Create a dataframe\n",
    "feature_names = data.columns.tolist()\n",
    "x_new_df = pd.DataFrame(x_new, columns=feature_names)\n",
    "\n",
    "# Make the prediction\n",
    "predict = model.predict(x_new_df)\n",
    "print(\"Prediction: {}\".format(predict))"
   ]
  },
  {
   "cell_type": "markdown",
   "metadata": {},
   "source": [
    "Lastly, let's see for how many of the passengers it was correctly predicted whether they survived or not:"
   ]
  },
  {
   "cell_type": "code",
   "execution_count": null,
   "metadata": {},
   "outputs": [],
   "source": [
    "print(\"Accuracy score: {}\".format(model.score(data, labels)))"
   ]
  },
  {
   "cell_type": "markdown",
   "metadata": {},
   "source": [
    "## Tuning HyperParameters"
   ]
  },
  {
   "cell_type": "code",
   "execution_count": null,
   "metadata": {},
   "outputs": [],
   "source": [
    "from sklearn.model_selection import train_test_split\n",
    "from sklearn.neighbors import KNeighborsClassifier\n",
    "from sklearn.metrics import accuracy_score\n",
    "\n",
    "# Rename the data\n",
    "X = data\n",
    "y = labels\n",
    "\n",
    "# Split the dataset into training and testing sets\n",
    "X_train, X_test, y_train, y_test = train_test_split(X, y, test_size=0.2, random_state=42) # Try to remove random_state\n",
    "\n",
    "# Define the range of hyperparameters to test\n",
    "neighbors_range = range(3, 20)  # Number of neighbors from 3 to 19\n",
    "distance_metrics = ['euclidean', 'manhattan', ('minkowski')]  # Common distance metrics, only illustration, doesn't make sense!\n",
    "\n",
    "# Variables to store the best parameters and highest accuracy\n",
    "best_accuracy = 0\n",
    "best_params = {'n_neighbors': None, 'metric': None}\n",
    "\n",
    "# Nested loop to iterate over the hyperparameters\n",
    "for n_neighbors in neighbors_range:\n",
    "    for metric in distance_metrics:\n",
    "        # Initialize the KNN model with current hyperparameters\n",
    "        knn = KNeighborsClassifier(n_neighbors=n_neighbors, metric=metric)\n",
    "\n",
    "        # Train the model\n",
    "        knn.fit(X_train, y_train)\n",
    "\n",
    "        # Make predictions on the test set\n",
    "        predictions = knn.predict(X_test)\n",
    "\n",
    "        # Calculate the accuracy\n",
    "        accuracy = accuracy_score(y_test, predictions)\n",
    "\n",
    "        # Update the best parameters if current accuracy is higher\n",
    "        if accuracy > best_accuracy:\n",
    "            best_accuracy = accuracy\n",
    "            best_params['n_neighbors'] = n_neighbors\n",
    "            best_params['metric'] = metric\n",
    "\n",
    "# Print the best set of parameters and the highest accuracy achieved\n",
    "print(f\"Best parameters: Number of Neighbors - {best_params['n_neighbors']}, Distance Metric - {best_params['metric']}\")\n",
    "print(f\"Highest Accuracy: {best_accuracy*100:.2f}%\")\n"
   ]
  }
 ],
 "metadata": {
  "kernelspec": {
   "display_name": "Python 3",
   "language": "python",
   "name": "python3"
  },
  "language_info": {
   "codemirror_mode": {
    "name": "ipython",
    "version": 3
   },
   "file_extension": ".py",
   "mimetype": "text/x-python",
   "name": "python",
   "nbconvert_exporter": "python",
   "pygments_lexer": "ipython3",
   "version": "3.12.4"
  }
 },
 "nbformat": 4,
 "nbformat_minor": 2
}
