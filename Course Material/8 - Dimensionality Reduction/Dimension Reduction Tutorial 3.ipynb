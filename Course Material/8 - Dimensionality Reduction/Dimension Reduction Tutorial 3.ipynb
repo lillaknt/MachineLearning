{
  "cells": [
    {
      "cell_type": "markdown",
      "metadata": {
        "id": "T2Mu9i-uXWmF"
      },
      "source": [
        "# Dimensionality reduction techniques comparison"
      ]
    },
    {
      "cell_type": "markdown",
      "metadata": {
        "id": "b8FP4IkCXTVo"
      },
      "source": [
        "### Dataset\n",
        "\n"
      ]
    },
    {
      "cell_type": "markdown",
      "metadata": {
        "id": "xwVkTR97ueF0"
      },
      "source": [
        "These data are the results of a chemical analysis of wines grown in the same region in Italy but derived from three different cultivars. The analysis determined the quantities of 13 constituents found in each of the three types of wines.\n",
        "\n",
        "I think that the initial data set had around 30 variables, but for some reason I only have the 13 dimensional version. I had a list of what the 30 or so variables were, but a.)  I lost it, and b.), I would not know which 13 variables are included in the set.\n",
        "\n",
        "For simplicity we use the Wine dataset from sklearn (UCI).\n",
        "\n",
        "Features:\n",
        "- alcohol\n",
        "- malic_acid\n",
        "- ash\n",
        "- alcalinity_of_ash\n",
        "- magnesium\n",
        "- total_phenols\n",
        "- flavanoids\n",
        "- nonflavanoid_phenols\n",
        "- proanthocyanins\n",
        "- color_intensity\n",
        "- hue\n",
        "- od280od315_of_diluted_wines'\n",
        "- proline\n",
        "\n",
        "Labels: Wine classes"
      ]
    },
    {
      "cell_type": "code",
      "execution_count": 1,
      "metadata": {
        "colab": {
          "base_uri": "https://localhost:8080/"
        },
        "id": "3BZwrBgQV92w",
        "outputId": "53afb70d-02a6-4ebe-a476-93708b486623"
      },
      "outputs": [
        {
          "data": {
            "text/plain": [
              "(178, 13)"
            ]
          },
          "execution_count": 1,
          "metadata": {},
          "output_type": "execute_result"
        }
      ],
      "source": [
        "from sklearn.datasets import load_wine\n",
        "import numpy as np\n",
        "\n",
        "data = load_wine()\n",
        "features = data[\"data\"]\n",
        "labels = data[\"target\"]\n",
        "features.shape"
      ]
    },
    {
      "cell_type": "code",
      "execution_count": 2,
      "metadata": {
        "colab": {
          "base_uri": "https://localhost:8080/",
          "height": 277
        },
        "id": "SLXy-xwXXJse",
        "outputId": "d123a81f-474f-4d74-c76e-2fbc3c5466bf"
      },
      "outputs": [],
      "source": [
        "import seaborn as sns\n",
        "import matplotlib.pyplot as plt\n",
        "try:\n",
        "  import ipyvolume as ipv\n",
        "except:\n",
        "  %pip install ipyvolume -q\n",
        "  import ipyvolume as ipv\n",
        "  !jupyter nbextension enable --py --sys-prefix ipyvolume\n",
        "\n",
        "def visualize_2d(x, labels):\n",
        "    sns.scatterplot(x=x[:, 0], y=x[:, 1], hue=labels, s=100, alpha=0.8,\n",
        "                    palette=\"Greens\", edgecolor=\"black\")\n",
        "\n",
        "def visualize_3d(x, labels):\n",
        "    # Workaround as axis limits are not auto-scaling\n",
        "    x_norm = (x - x.min(axis=0)) / (x.max(axis=0) - x.min(axis=0))\n",
        "    fig = ipv.figure(height=400, width=400)\n",
        "    x, y, z = x_norm[:, 0], x_norm[:, 1], x_norm[:, 2]\n",
        "\n",
        "    # Colors\n",
        "    cmap = plt.get_cmap('Greens', 3)\n",
        "    color = cmap(labels)\n",
        "    ipv.scatter(x, y, z, size=4, marker=\"sphere\", color=color)\n",
        "    ipv.show()"
      ]
    },
    {
      "cell_type": "markdown",
      "metadata": {
        "id": "vkYfDhshXBq8"
      },
      "source": [
        "### PCA"
      ]
    },
    {
      "cell_type": "code",
      "execution_count": 3,
      "metadata": {
        "colab": {
          "base_uri": "https://localhost:8080/"
        },
        "id": "2EsEdNhXDoLa",
        "outputId": "a1c44298-af86-4ebd-e2fb-8aaab7ede402"
      },
      "outputs": [
        {
          "name": "stdout",
          "output_type": "stream",
          "text": [
            "Eigenvalues: \n",
            " [2.75887696e+05 5.66833522e+01 1.34732230e+00]\n",
            "Eigenvectors: \n",
            " [[-0.55810925 -0.78959847  0.25504573]\n",
            " [-0.55046096  0.12232505 -0.82585066]\n",
            " [-0.62089193  0.60130761  0.50291387]]\n"
          ]
        }
      ],
      "source": [
        "# It's also possible to manually compute eigenvectors and eigenvalues\n",
        "subset_idx = 3\n",
        "cov = np.cov(features)[:subset_idx, :subset_idx]\n",
        "eig_vals, eig_vecs = np.linalg.eig(cov)\n",
        "print(\"Eigenvalues: \\n\", eig_vals)\n",
        "print(\"Eigenvectors: \\n\", eig_vecs)"
      ]
    },
    {
      "cell_type": "markdown",
      "metadata": {
        "id": "GCmJ56_Yr7yy"
      },
      "source": [
        "2D Projection"
      ]
    },
    {
      "cell_type": "code",
      "execution_count": 4,
      "metadata": {
        "colab": {
          "base_uri": "https://localhost:8080/",
          "height": 465
        },
        "id": "R_UWS5FjXWLZ",
        "outputId": "5635fa1d-80db-40b5-b600-5e4fc79ca0b3"
      },
      "outputs": [
        {
          "name": "stdout",
          "output_type": "stream",
          "text": [
            "CPU times: total: 0 ns\n",
            "Wall time: 997 µs\n"
          ]
        },
        {
          "data": {
            "image/png": "[encoded data removed]",
            "text/plain": [
              "<Figure size 640x480 with 1 Axes>"
            ]
          },
          "metadata": {},
          "output_type": "display_data"
        }
      ],
      "source": [
        "from sklearn.decomposition import PCA\n",
        "\n",
        "pca = PCA(n_components=2)\n",
        "%time pca_2d = pca.fit_transform(features)\n",
        "visualize_2d(x=pca_2d, labels=labels)"
      ]
    },
    {
      "cell_type": "code",
      "execution_count": 5,
      "metadata": {
        "colab": {
          "base_uri": "https://localhost:8080/"
        },
        "id": "_Jl-kZFysET8",
        "outputId": "d4f1265d-5db2-484b-f962-e3dbae44b3e4"
      },
      "outputs": [
        {
          "name": "stdout",
          "output_type": "stream",
          "text": [
            "Eigenvalues: \n",
            " [0.99809123 0.00173592]\n",
            "Eigenvectors: \n",
            " [[ 1.65926472e-03 -6.81015556e-04  1.94905742e-04 -4.67130058e-03\n",
            "   1.78680075e-02  9.89829680e-04  1.56728830e-03 -1.23086662e-04\n",
            "   6.00607792e-04  2.32714319e-03  1.71380037e-04  7.04931645e-04\n",
            "   9.99822937e-01]\n",
            " [ 1.20340617e-03  2.15498184e-03  4.59369254e-03  2.64503930e-02\n",
            "   9.99344186e-01  8.77962152e-04 -5.18507284e-05 -1.35447892e-03\n",
            "   5.00440040e-03  1.51003530e-02 -7.62673115e-04 -3.49536431e-03\n",
            "  -1.77738095e-02]]\n"
          ]
        }
      ],
      "source": [
        "print(\"Eigenvalues: \\n\", pca.explained_variance_ratio_)\n",
        "print(\"Eigenvectors: \\n\", pca.components_)\n"
      ]
    },
    {
      "cell_type": "markdown",
      "metadata": {
        "id": "jOfNM5vZr_FF"
      },
      "source": [
        "3D Projection"
      ]
    },
    {
      "cell_type": "code",
      "execution_count": 6,
      "metadata": {
        "colab": {
          "base_uri": "https://localhost:8080/",
          "height": 487,
          "referenced_widgets": [
            "363aa2ad00a54e428fecb9d611b78b49",
            "4b759eeb367e4fb9a069b44426c2f061",
            "a775614913c1487b86c69fc19671d87d",
            "7aa8e025f867458393760878b11b372a",
            "be23f18a80b4417e98e740b60feb4399",
            "23570b5360344cea90f066cc6c6cf344",
            "46672a2eb751413ab5b67408a7b7d7b3",
            "81787dd43b704daf877f63682e7efd5e",
            "26f2533168aa4ad3854bfcdb64f85006",
            "ac7ba6d9ee624386b3b75aa10a5f83e6",
            "6621b04f20604de9910c5ed1297f8224",
            "4ef36b32fe844289a3e8ef35dcd50578",
            "9f800cc4a3a149b389462fc2f8d5e273",
            "a556753cb3014cabaecf6ac075dd9e08",
            "7362633029b34ad9847f8120b2ed5c7d",
            "545fe4f5c4bd40869f1eae60454ec9ee",
            "7e6051b7ccc4406ebf957696d8f1ab1a"
          ]
        },
        "id": "uCJVO5VqXi-6",
        "outputId": "2912d1c0-2d59-4669-c376-a888774a98c2"
      },
      "outputs": [
        {
          "name": "stdout",
          "output_type": "stream",
          "text": [
            "CPU times: total: 0 ns\n",
            "Wall time: 0 ns\n"
          ]
        },
        {
          "data": {
            "application/vnd.jupyter.widget-view+json": {
              "model_id": "c8312e764f804b22ab5592160be0dd29",
              "version_major": 2,
              "version_minor": 0
            },
            "text/plain": [
              "Container(figure=Figure(box_center=[0.5, 0.5, 0.5], box_size=[1.0, 1.0, 1.0], camera=PerspectiveCamera(fov=45.…"
            ]
          },
          "metadata": {},
          "output_type": "display_data"
        }
      ],
      "source": [
        "pca = PCA(n_components=3)\n",
        "%time pca_3d = pca.fit_transform(features)\n",
        "visualize_3d(pca_3d, labels)"
      ]
    },
    {
      "cell_type": "markdown",
      "metadata": {
        "id": "jq1pxpnKXDmC"
      },
      "source": [
        "### MDS"
      ]
    },
    {
      "cell_type": "code",
      "execution_count": 7,
      "metadata": {
        "colab": {
          "base_uri": "https://localhost:8080/"
        },
        "id": "mRPVbjpB5Rcc",
        "outputId": "c0ef8780-2e24-401a-c84e-55025bc328aa"
      },
      "outputs": [
        {
          "data": {
            "text/plain": [
              "array([[  0.  ,  51.06, 152.48, ..., 257.14, 249.41, 558.28],\n",
              "       [ 51.06,   0.  , 148.3 , ..., 257.98, 250.55, 521.18],\n",
              "       [152.48, 148.3 ,   0.  , ..., 384.76, 376.83, 649.14],\n",
              "       ...,\n",
              "       [257.14, 257.98, 384.76, ...,   0.  ,   8.15, 306.74],\n",
              "       [249.41, 250.55, 376.83, ...,   8.15,   0.  , 312.09],\n",
              "       [558.28, 521.18, 649.14, ..., 306.74, 312.09,   0.  ]])"
            ]
          },
          "execution_count": 7,
          "metadata": {},
          "output_type": "execute_result"
        }
      ],
      "source": [
        "# Precompute distance\n",
        "from sklearn.metrics.pairwise import manhattan_distances\n",
        "\n",
        "d_matrix = manhattan_distances(features)\n",
        "d_matrix"
      ]
    },
    {
      "cell_type": "code",
      "execution_count": 8,
      "metadata": {
        "colab": {
          "base_uri": "https://localhost:8080/",
          "height": 777
        },
        "id": "mALKH9NE5eVw",
        "outputId": "2dba73c9-26bc-4bdd-9ad1-cce13cc2d610"
      },
      "outputs": [
        {
          "name": "stdout",
          "output_type": "stream",
          "text": [
            "Distance matrix of the first 10 data points...\n"
          ]
        },
        {
          "data": {
            "text/plain": [
              "<Axes: >"
            ]
          },
          "execution_count": 8,
          "metadata": {},
          "output_type": "execute_result"
        },
        {
          "data": {
            "image/png": "[encoded data removed]",
            "text/plain": [
              "<Figure size 1100x900 with 2 Axes>"
            ]
          },
          "metadata": {},
          "output_type": "display_data"
        }
      ],
      "source": [
        "import seaborn as sns\n",
        "print(\"Distance matrix of the first 10 data points...\")\n",
        "distances = d_matrix[:10, :10]\n",
        "\n",
        "mask = np.triu(np.ones_like(distances, dtype=bool))\n",
        "\n",
        "# Set up the matplotlib figure\n",
        "f, ax = plt.subplots(figsize=(11, 9))\n",
        "\n",
        "# Generate a custom diverging colormap\n",
        "cmap = sns.diverging_palette(230, 20, as_cmap=True)\n",
        "\n",
        "# Draw the heatmap with the mask and correct aspect ratio\n",
        "sns.heatmap(distances, mask=mask, cmap=cmap, vmax=distances.max(), center=0,\n",
        "            square=True, linewidths=.5, cbar_kws={\"shrink\": .5})"
      ]
    },
    {
      "cell_type": "code",
      "execution_count": 9,
      "metadata": {
        "colab": {
          "base_uri": "https://localhost:8080/",
          "height": 477,
          "referenced_widgets": [
            "4c2654f702ea446ca9d5c9faee75323d",
            "dda9ae6cbb0548aa8d17aada053a29b2",
            "54ded0a1f63640a7ba57bbe8133fb416",
            "48bc94faf047424d904440c2b4add96d",
            "c81e060bf8204253a1a62a0cab41fa47",
            "3784fab3eeaa47cf96d81e9fed2a8fcd",
            "66eabad37349445b885126183b2cc9e6",
            "4e1e62e7203d41dc988ebdb705b8865e",
            "1e0f832718884795a66b5298f76d5849",
            "01329d4b71484b26839a0ad7e03e3fa0",
            "fccefc6b6eec47c7b06e30ca426d3899",
            "d5c29923c1a74f0881f58f7b67078818",
            "54090b4ff19049e4b682599cdf4878e8",
            "c16922b46d8d418ab9beda8e5aa483bf",
            "21c7343e5a90449199dd29d07a16cca6",
            "6d9be9bf1d03425b899b0e18364c061e",
            "f9a93d3f779146a5bfb98c54cbefd70f"
          ]
        },
        "id": "zIwKtuNeagX9",
        "outputId": "3bcd8058-f90c-48f7-d66e-19507665b031"
      },
      "outputs": [
        {
          "name": "stdout",
          "output_type": "stream",
          "text": [
            "CPU times: total: 594 ms\n",
            "Wall time: 548 ms\n"
          ]
        },
        {
          "data": {
            "application/vnd.jupyter.widget-view+json": {
              "model_id": "895af230bef448979da4f5cb38af08a6",
              "version_major": 2,
              "version_minor": 0
            },
            "text/plain": [
              "Container(figure=Figure(box_center=[0.5, 0.5, 0.5], box_size=[1.0, 1.0, 1.0], camera=PerspectiveCamera(fov=45.…"
            ]
          },
          "metadata": {},
          "output_type": "display_data"
        }
      ],
      "source": [
        "from sklearn.manifold import MDS\n",
        "\n",
        "mds = MDS(n_components=3,\n",
        "          normalized_stress=False,\n",
        "          metric=True,\n",
        "          dissimilarity=\"precomputed\",\n",
        "          random_state=2023,\n",
        "          eps=1e-9)\n",
        "%time mds_3d = mds.fit_transform(d_matrix)\n",
        "visualize_3d(mds_3d, labels)"
      ]
    },
    {
      "cell_type": "markdown",
      "metadata": {
        "id": "YjheWxwFHPUB"
      },
      "source": [
        "Note: It works better with Manhatten distances - most likely the high dimension is a problem using the euclidean distance"
      ]
    },
    {
      "cell_type": "code",
      "execution_count": 10,
      "metadata": {
        "colab": {
          "base_uri": "https://localhost:8080/"
        },
        "id": "xsnxAFY92Tjq",
        "outputId": "f41efbfc-8c8d-4d43-c899-3b487dd802bc"
      },
      "outputs": [
        {
          "name": "stdout",
          "output_type": "stream",
          "text": [
            "Raw stress:  882441.0641476295\n"
          ]
        }
      ],
      "source": [
        "print(\"Raw stress: \", mds.stress_)"
      ]
    },
    {
      "cell_type": "code",
      "execution_count": 11,
      "metadata": {
        "colab": {
          "base_uri": "https://localhost:8080/",
          "height": 465
        },
        "id": "dO2xvR42QMV_",
        "outputId": "ccfa2339-dd21-4aa7-feaa-8e752a25a4ac"
      },
      "outputs": [
        {
          "name": "stdout",
          "output_type": "stream",
          "text": [
            "CPU times: total: 875 ms\n",
            "Wall time: 479 ms\n"
          ]
        },
        {
          "data": {
            "image/png": "[encoded data removed]",
            "text/plain": [
              "<Figure size 640x480 with 1 Axes>"
            ]
          },
          "metadata": {},
          "output_type": "display_data"
        }
      ],
      "source": [
        "mds = MDS(n_components=2, normalized_stress=False, eps=1e-9)\n",
        "%time mds_2d = mds.fit_transform(features)\n",
        "visualize_2d(mds_2d, labels)"
      ]
    },
    {
      "cell_type": "markdown",
      "metadata": {
        "id": "yXDvxsoo7mBE"
      },
      "source": []
    },
    {
      "cell_type": "markdown",
      "metadata": {
        "id": "qblaXaOWXFPq"
      },
      "source": [
        "### TSNE"
      ]
    },
    {
      "cell_type": "code",
      "execution_count": 12,
      "metadata": {
        "colab": {
          "base_uri": "https://localhost:8080/",
          "height": 477,
          "referenced_widgets": [
            "b5fbfebf6dee46cd862afde8779e433f",
            "d3492bb051a6476b9d92eee4bb65e872",
            "08c6b55367b9434b8d361c2fe0349aa8",
            "239d78cd02d64c689d69d03f8f4606e7",
            "5dcbd461c4ed42e3a92ab5fe30706b7c",
            "c014188cb4ff412c95bd0f87b8fb76e8",
            "c72fbb3215b447acaa9628a8d064fc15",
            "23ea77b5a1424e839f60a3f642d851ee",
            "968ce395262e4b568573ea7e1e2abf2f",
            "81787dd43b704daf877f63682e7efd5e",
            "3d639bda4e4b439c9f23404a850e2502",
            "7aa8e025f867458393760878b11b372a",
            "842c9f27e89a4a2c992d94a52ad86c29",
            "b8983e30d3e04b12bd8629cd46a35a9a",
            "db23d036d2594bbf94412a8c3fc0b615",
            "f4501d35773f41ccbe30061d67e70e34",
            "eb9f6ee5e26f4d17a51bf7d8a51c9cec"
          ]
        },
        "id": "mcUFLFOoeqZ7",
        "outputId": "e896f0c9-79f7-44fa-f187-7816772a36a0"
      },
      "outputs": [
        {
          "name": "stdout",
          "output_type": "stream",
          "text": [
            "CPU times: total: 1 s\n",
            "Wall time: 538 ms\n"
          ]
        },
        {
          "data": {
            "application/vnd.jupyter.widget-view+json": {
              "model_id": "1288668113714b6f9bf855e976bbe8dc",
              "version_major": 2,
              "version_minor": 0
            },
            "text/plain": [
              "Container(figure=Figure(box_center=[0.5, 0.5, 0.5], box_size=[1.0, 1.0, 1.0], camera=PerspectiveCamera(fov=45.…"
            ]
          },
          "metadata": {},
          "output_type": "display_data"
        }
      ],
      "source": [
        "from sklearn.manifold import TSNE\n",
        "\n",
        "%time tsne_3d = TSNE(n_components=3, perplexity=10, early_exaggeration=12, learning_rate='auto', init='pca', n_jobs=4).fit_transform(features)\n",
        "visualize_3d(tsne_3d, labels)"
      ]
    },
    {
      "cell_type": "code",
      "execution_count": 13,
      "metadata": {
        "colab": {
          "base_uri": "https://localhost:8080/",
          "height": 469
        },
        "id": "_-XmSpLRQV5H",
        "outputId": "0ab596f4-ed54-4925-aeb5-4fc2b064124d"
      },
      "outputs": [
        {
          "name": "stdout",
          "output_type": "stream",
          "text": [
            "CPU times: total: 328 ms\n",
            "Wall time: 293 ms\n"
          ]
        },
        {
          "data": {
            "image/png": "[encoded data removed]",
            "text/plain": [
              "<Figure size 640x480 with 1 Axes>"
            ]
          },
          "metadata": {},
          "output_type": "display_data"
        }
      ],
      "source": [
        "%time tsne_2d = TSNE(n_components=2, perplexity=10, early_exaggeration=12, learning_rate='auto', init='random', n_jobs=4).fit_transform(features)\n",
        "visualize_2d(tsne_2d, labels)"
      ]
    },
    {
      "cell_type": "markdown",
      "metadata": {
        "id": "mOeZnhdSXG0w"
      },
      "source": [
        "### UMAP"
      ]
    },
    {
      "cell_type": "code",
      "execution_count": 14,
      "metadata": {
        "colab": {
          "base_uri": "https://localhost:8080/",
          "height": 585,
          "referenced_widgets": [
            "a1b9d36ba8de400db467859624a982c3",
            "42e015fec4a24dc8bf5f6ba26fba301a",
            "c8155cf85c314b15a2b36cc944a165f1",
            "7133ec1b445342ca83d991ba8d6304f8",
            "228598a2ec644d2f8229140a944ec2e1",
            "759814705c424378b2fb4634d944ef69",
            "0f6c020b136a4e849688301c4e4b02c7",
            "89b8df5eb7e34a02baa73e451ecf310e",
            "48351f99852c4da887b3b3360c1f6452",
            "1e7f913fbc9c4df3aa18167ecdb823fc",
            "1ac112f3b2dd4780aa92fb9fa2389689",
            "567e8937596245a1a4c92f248cc3441a",
            "a10aaee4b80041889b2719843d60bdcf",
            "380790b1cb884e9db354ce8403895007",
            "1e5e5e125cb4416d847e01fffb2d7540",
            "4a764dd2723c42b2a52ee05136786aab",
            "5e56c6165a5949d2bfe85bedfb78f331"
          ]
        },
        "id": "WYbZ5eamXdDc",
        "outputId": "7e954da8-366c-4c29-de94-d4e3e922e69c"
      },
      "outputs": [
        {
          "name": "stdout",
          "output_type": "stream",
          "text": [
            "CPU times: total: 4.94 s\n",
            "Wall time: 6.84 s\n"
          ]
        },
        {
          "data": {
            "application/vnd.jupyter.widget-view+json": {
              "model_id": "8d58ffc840084de9abb9f52154f4fd81",
              "version_major": 2,
              "version_minor": 0
            },
            "text/plain": [
              "Container(figure=Figure(box_center=[0.5, 0.5, 0.5], box_size=[1.0, 1.0, 1.0], camera=PerspectiveCamera(fov=45.…"
            ]
          },
          "metadata": {},
          "output_type": "display_data"
        }
      ],
      "source": [
        "try:\n",
        "  import umap.umap_ as umap\n",
        "except:\n",
        "  !pip install umap-learn -q\n",
        "  import umap.umap_ as umap\n",
        "\n",
        "\n",
        "# n_neighbors=15, min_dist=0.1, n_components=2, metric='euclidean'\n",
        "\n",
        "reducer = umap.UMAP(n_components=3)\n",
        "%time umap_3d = reducer.fit_transform(features)\n",
        "visualize_3d(umap_3d, labels)"
      ]
    },
    {
      "cell_type": "code",
      "execution_count": 15,
      "metadata": {
        "colab": {
          "base_uri": "https://localhost:8080/",
          "height": 465
        },
        "id": "X0uTw9IfQhi4",
        "outputId": "83b5a2f0-af92-49ee-c7a3-9fa61e738a6a"
      },
      "outputs": [
        {
          "name": "stdout",
          "output_type": "stream",
          "text": [
            "CPU times: total: 1.3 s\n",
            "Wall time: 2 s\n"
          ]
        },
        {
          "data": {
            "image/png": "[encoded data removed]",
            "text/plain": [
              "<Figure size 640x480 with 1 Axes>"
            ]
          },
          "metadata": {},
          "output_type": "display_data"
        }
      ],
      "source": [
        "reducer = umap.UMAP(n_components=2)\n",
        "%time umap_2d = reducer.fit_transform(features)\n",
        "visualize_2d(umap_2d, labels)"
      ]
    },
    {
      "cell_type": "code",
      "execution_count": null,
      "metadata": {
        "id": "lC_Qq45AQkJ3"
      },
      "outputs": [],
      "source": []
    }
  ],
  "metadata": {
    "colab": {
      "collapsed_sections": [
        "b8FP4IkCXTVo",
        "vkYfDhshXBq8",
        "jq1pxpnKXDmC",
        "qblaXaOWXFPq",
        "mOeZnhdSXG0w"
      ],
      "provenance": []
    },
    "kernelspec": {
      "display_name": "Python 3",
      "name": "python3"
    },
    "language_info": {
      "codemirror_mode": {
        "name": "ipython",
        "version": 3
      },
      "file_extension": ".py",
      "mimetype": "text/x-python",
      "name": "python",
      "nbconvert_exporter": "python",
      "pygments_lexer": "ipython3",
      "version": "3.11.4"
    },
    "widgets": {
      "application/vnd.jupyter.widget-state+json": {
        "01329d4b71484b26839a0ad7e03e3fa0": {
          "model_module": "@jupyter-widgets/base",
          "model_module_version": "1.2.0",
          "model_name": "LayoutModel",
          "state": {
            "_model_module": "@jupyter-widgets/base",
            "_model_module_version": "1.2.0",
            "_model_name": "LayoutModel",
            "_view_count": null,
            "_view_module": "@jupyter-widgets/base",
            "_view_module_version": "1.2.0",
            "_view_name": "LayoutView",
            "align_content": null,
            "align_items": null,
            "align_self": null,
            "border": null,
            "bottom": null,
            "display": null,
            "flex": null,
            "flex_flow": null,
            "grid_area": null,
            "grid_auto_columns": null,
            "grid_auto_flow": null,
            "grid_auto_rows": null,
            "grid_column": null,
            "grid_gap": null,
            "grid_row": null,
            "grid_template_areas": null,
            "grid_template_columns": null,
            "grid_template_rows": null,
            "height": null,
            "justify_content": null,
            "justify_items": null,
            "left": null,
            "margin": null,
            "max_height": null,
            "max_width": null,
            "min_height": null,
            "min_width": null,
            "object_fit": null,
            "object_position": null,
            "order": null,
            "overflow": null,
            "overflow_x": null,
            "overflow_y": null,
            "padding": null,
            "right": null,
            "top": null,
            "visibility": null,
            "width": null
          }
        },
        "08c6b55367b9434b8d361c2fe0349aa8": {
          "model_module": "jupyter-threejs",
          "model_module_version": "^2.4.1",
          "model_name": "PerspectiveCameraModel",
          "state": {
            "_model_module": "jupyter-threejs",
            "_model_module_version": "^2.4.1",
            "_model_name": "PerspectiveCameraModel",
            "_view_count": null,
            "_view_module": null,
            "_view_module_version": "",
            "_view_name": null,
            "aspect": 1,
            "castShadow": false,
            "children": [],
            "far": 2000,
            "focus": 10,
            "fov": 45,
            "frustumCulled": true,
            "matrix": [
              -0.5016663834103454,
              0.6996574728732441,
              0.5087339780362721,
              0,
              -0.23875056827935442,
              -0.677231374807213,
              0.6959567738897421,
              0,
              0.8314619690053597,
              0.22767759140802185,
              0.5067878337809345,
              0,
              2.065845211553399,
              0.5656863206274216,
              1.2591618843881418,
              1
            ],
            "matrixAutoUpdate": true,
            "matrixWorld": [
              -0.5016663834103454,
              0.6996574728732441,
              0.5087339780362721,
              0,
              -0.23875056827935442,
              -0.677231374807213,
              0.6959567738897421,
              0,
              0.8314619690053597,
              0.22767759140802185,
              0.5067878337809345,
              0,
              2.065845211553399,
              0.5656863206274216,
              1.2591618843881418,
              1
            ],
            "matrixWorldInverse": [
              -0.5016663834103453,
              -0.23875056827935442,
              0.8314619690053597,
              0,
              0.699657472873244,
              -0.677231374807213,
              0.22767759140802188,
              0,
              0.5087339780362722,
              0.6959567738897423,
              0.5067878337809346,
              0,
              2.7755575615628914e-16,
              -2.7755575615628914e-17,
              -2.484593749999987,
              1.0000000000000002
            ],
            "matrixWorldNeedsUpdate": true,
            "modelViewMatrix": [
              1,
              0,
              0,
              0,
              0,
              1,
              0,
              0,
              0,
              0,
              1,
              0,
              0,
              0,
              0,
              1
            ],
            "name": "",
            "near": 0.1,
            "normalMatrix": [
              1,
              0,
              0,
              0,
              1,
              0,
              0,
              0,
              1
            ],
            "position": [
              2.065845211553399,
              0.5656863206274216,
              1.2591618843881418
            ],
            "projectionMatrix": [
              2.4142135623730954,
              0,
              0,
              0,
              0,
              2.4142135623730954,
              0,
              0,
              0,
              0,
              -1.00010000500025,
              -1,
              0,
              0,
              -0.200010000500025,
              0
            ],
            "quaternion": [
              0.4088939830860602,
              0.2818009824424845,
              0.8194030741946379,
              0.28630843314657023
            ],
            "receiveShadow": false,
            "renderOrder": 0,
            "rotation": [
              -0.42223523391976736,
              0.9817339468169722,
              2.697398005518671,
              "XYZ"
            ],
            "scale": [
              1,
              1,
              1
            ],
            "type": "PerspectiveCamera",
            "up": [
              -0.23875056827935442,
              -0.677231374807213,
              0.6959567738897421
            ],
            "visible": true,
            "zoom": 1
          }
        },
        "0f6c020b136a4e849688301c4e4b02c7": {
          "model_module": "bqplot",
          "model_module_version": "^0.5",
          "model_name": "LinearScaleModel",
          "state": {
            "_model_module": "bqplot",
            "_model_module_version": "^0.5",
            "_model_name": "LinearScaleModel",
            "_view_count": null,
            "_view_module": "bqplot",
            "_view_module_version": "^0.5",
            "_view_name": "LinearScale",
            "allow_padding": true,
            "max": 1,
            "mid_range": 0.8,
            "min": 0,
            "min_range": 0.6,
            "reverse": false,
            "stabilized": false
          }
        },
        "1ac112f3b2dd4780aa92fb9fa2389689": {
          "model_module": "jupyter-vue",
          "model_module_version": "^1.10.1",
          "model_name": "TemplateModel",
          "state": {
            "_model_module": "jupyter-vue",
            "_model_module_version": "^1.10.1",
            "_model_name": "TemplateModel",
            "_view_count": null,
            "_view_module": null,
            "_view_module_version": "",
            "_view_name": null,
            "template": "<template>\n    <div style=\"padding: 5px;\">\n        <div v-for=\"(mark, index) in marks\" :key=\"index\">\n            <v-checkbox hide-details dense style=\"margin-top: 0px; padding-top 0px\"\n                v-model=\"mark.visible\"\n                off-icon=\"mdi-eye-off\"\n                :on-icon=\"mark.icon\"\n                :color=\"mark.description_color\"\n                :background-color=\"mark.hovered ? '#ccc' : 'unset'\"\n                :label=\"mark.description\"></v-checkbox>\n        </div>\n    </div>\n</template>\n<style id=\"fruit-selector-style-file\">\n    .fruit-selector-file td {\n        border: 1px solid #999;\n        padding: 5px 10px ;\n    }\n    .fruit-selector-file {\n        border-collapse: collapse;\n    }\n    .fruit-selector-file td.selected {\n        width: 50px;\n    }\n    .ipv-main-container {\n        background-color: white;\n    }\n    .ipv-main-container:fullscreen {\n        display: flex;\n        justify-content: center;\n        align-items: center;\n        align-items: center;\n    }\n</style>\n<script>\n    module.export = {\n        mounted() {\n            (async () => {\n                const figureWidgetModel = await this.viewCtx.getModelById(this.figure.substr(10));\n                console.log('figure', figureWidgetModel);\n                this.$set(this.models, 'figure', this.bbproxy(figureWidgetModel, [\"stereo\"], {\n                    \"scatters\": [\"visible\", \"description\", \"icon\", \"description_color\", \"hovered\"],\n                    \"meshes\": [\"visible\", \"description\", \"icon\", \"description_color\", \"hovered\"],\n                    \"volumes\": [\"visible\", \"description\", \"icon\", \"description_color\", \"hovered\"],\n                }));\n            })();\n        },\n        computed: {\n            marks() {\n                return [...this.models.figure.scatters, ...this.models.figure.meshes, ...this.models.figure.volumes]\n            },\n            // anyhover() {\n            //     if(this.models.scatters) {\n\n            //     }\n            //     return this.models.scatters && !this.models.scatters.every((s) => !s.hovered)\n            // }\n        },\n        methods: {\n            bbproxy(model, attrs, widgetAttrs) {\n                const proxy = {}\n\n                attrs.forEach((attr) => {\n                    console.log('setting', attr)\n                    let valueCopy = model.get(attr);\n                    model.on('change:' + attr, (_widget, value) => {\n                        proxy[attr] = value\n                    })\n                    Object.defineProperty(proxy, attr, {\n                        enumerable: true,\n                        configurable: true,                            \n                        get: () => {\n                            return valueCopy;\n                        },\n                        set: (value) => {\n                            valueCopy = value;\n                            model.set(attr, value);\n                            model.save_changes();\n                        },\n                    });\n                })\n                if(widgetAttrs) {\n                    Object.keys(widgetAttrs).forEach((attr) => {\n                        console.log('setting list', attr)\n                        let listValue = model.get(attr);\n                        let listValueProxy = [];\n                        if(listValue) {\n                            listValueProxy = listValue.map((k) => this.bbproxy(k, widgetAttrs[attr]));\n                        }\n                        model.on('change:' + attr, (_widget, value) => {\n                            console.log('changed list', attr, value)\n                            if(value) {\n                                proxy[attr] = value.map((k) => this.bbproxy(k, widgetAttrs[attr]))\n                            } else {\n                                proxy[attr] = null;\n                            }\n                        });\n\n                        Object.defineProperty(proxy, attr, {\n                            enumerable: true,\n                            configurable: true,                            \n                            get: () => {\n                                return listValueProxy;\n                            },\n                            set: (value) => {\n                                listValueProxy = value;\n                                console.log('ignore propagating set')\n                            },\n                        });\n                    })\n                }\n\n                return proxy;\n            },\n        }\n    }\n\n</script>\n"
          }
        },
        "1e0f832718884795a66b5298f76d5849": {
          "model_module": "ipyvolume",
          "model_module_version": "~0.6.3",
          "model_name": "ScatterModel",
          "state": {
            "_model_module": "ipyvolume",
            "_model_module_version": "~0.6.3",
            "_model_name": "ScatterModel",
            "_view_count": null,
            "_view_module": "ipyvolume",
            "_view_module_version": "~0.6.3",
            "_view_name": "ScatterView",
            "aux": null,
            "aux_scale": null,
            "cast_shadow": true,
            "clicked": false,
            "clicked_index": null,
            "color": [
              {
                "dtype": "float32",
                "shape": [
                  178,
                  4
                ]
              }
            ],
            "color_scale": null,
            "color_selected": "white",
            "connected": false,
            "description": "Scatter 0",
            "description_color": "red",
            "geo": "sphere",
            "geo_matrix": [
              1,
              0,
              0,
              0,
              0,
              1,
              0,
              0,
              0,
              0,
              1,
              0,
              0,
              0,
              0,
              1
            ],
            "hovered": false,
            "hovered_index": null,
            "icon": "mdi-chart-bubble",
            "line_material": "IPY_MODEL_c16922b46d8d418ab9beda8e5aa483bf",
            "material": "IPY_MODEL_21c7343e5a90449199dd29d07a16cca6",
            "popup": null,
            "receive_shadow": true,
            "selected": null,
            "sequence_index": 0,
            "shader_snippets": {
              "size": "\n"
            },
            "size": 4,
            "size_selected": 2.6,
            "size_x_scale": null,
            "size_y_scale": null,
            "size_z_scale": null,
            "texture": null,
            "visible": true,
            "vx": null,
            "vy": null,
            "vz": null,
            "x": [
              {
                "dtype": "float32",
                "shape": [
                  178
                ]
              }
            ],
            "y": [
              {
                "dtype": "float32",
                "shape": [
                  178
                ]
              }
            ],
            "z": [
              {
                "dtype": "float32",
                "shape": [
                  178
                ]
              }
            ]
          }
        },
        "1e5e5e125cb4416d847e01fffb2d7540": {
          "model_module": "jupyter-threejs",
          "model_module_version": "^2.4.1",
          "model_name": "ShaderMaterialModel",
          "state": {
            "_model_module": "jupyter-threejs",
            "_model_module_version": "^2.4.1",
            "_model_name": "ShaderMaterialModel",
            "_view_count": null,
            "_view_module": null,
            "_view_module_version": "",
            "_view_name": null,
            "alphaTest": 0,
            "blendDst": "OneMinusSrcAlphaFactor",
            "blendDstAlpha": 0,
            "blendEquation": "AddEquation",
            "blendEquationAlpha": 0,
            "blendSrc": "SrcAlphaFactor",
            "blendSrcAlpha": 0,
            "blending": "NormalBlending",
            "clipIntersection": false,
            "clipShadows": false,
            "clipping": false,
            "clippingPlanes": [],
            "colorWrite": true,
            "defines": null,
            "depthFunc": "LessEqualDepth",
            "depthTest": true,
            "depthWrite": true,
            "dithering": false,
            "extensions": {},
            "flatShading": false,
            "fog": false,
            "fragmentShader": "",
            "lights": false,
            "linewidth": 1,
            "morphNormals": false,
            "morphTargets": false,
            "name": "",
            "opacity": 1,
            "overdraw": 0,
            "polygonOffset": false,
            "polygonOffsetFactor": 0,
            "polygonOffsetUnits": 0,
            "precision": null,
            "premultipliedAlpha": false,
            "shadowSide": null,
            "side": "FrontSide",
            "skinning": false,
            "transparent": false,
            "type": "ShaderMaterial",
            "uniforms": {},
            "uniformsNeedUpdate": false,
            "vertexColors": "NoColors",
            "vertexShader": "",
            "visible": true,
            "wireframe": false,
            "wireframeLinewidth": 1
          }
        },
        "1e7f913fbc9c4df3aa18167ecdb823fc": {
          "model_module": "@jupyter-widgets/base",
          "model_module_version": "1.2.0",
          "model_name": "LayoutModel",
          "state": {
            "_model_module": "@jupyter-widgets/base",
            "_model_module_version": "1.2.0",
            "_model_name": "LayoutModel",
            "_view_count": null,
            "_view_module": "@jupyter-widgets/base",
            "_view_module_version": "1.2.0",
            "_view_name": "LayoutView",
            "align_content": null,
            "align_items": null,
            "align_self": null,
            "border": null,
            "bottom": null,
            "display": null,
            "flex": null,
            "flex_flow": null,
            "grid_area": null,
            "grid_auto_columns": null,
            "grid_auto_flow": null,
            "grid_auto_rows": null,
            "grid_column": null,
            "grid_gap": null,
            "grid_row": null,
            "grid_template_areas": null,
            "grid_template_columns": null,
            "grid_template_rows": null,
            "height": null,
            "justify_content": null,
            "justify_items": null,
            "left": null,
            "margin": null,
            "max_height": null,
            "max_width": null,
            "min_height": null,
            "min_width": null,
            "object_fit": null,
            "object_position": null,
            "order": null,
            "overflow": null,
            "overflow_x": null,
            "overflow_y": null,
            "padding": null,
            "right": null,
            "top": null,
            "visibility": null,
            "width": null
          }
        },
        "21c7343e5a90449199dd29d07a16cca6": {
          "model_module": "jupyter-threejs",
          "model_module_version": "^2.4.1",
          "model_name": "ShaderMaterialModel",
          "state": {
            "_model_module": "jupyter-threejs",
            "_model_module_version": "^2.4.1",
            "_model_name": "ShaderMaterialModel",
            "_view_count": null,
            "_view_module": null,
            "_view_module_version": "",
            "_view_name": null,
            "alphaTest": 0,
            "blendDst": "OneMinusSrcAlphaFactor",
            "blendDstAlpha": 0,
            "blendEquation": "AddEquation",
            "blendEquationAlpha": 0,
            "blendSrc": "SrcAlphaFactor",
            "blendSrcAlpha": 0,
            "blending": "NormalBlending",
            "clipIntersection": false,
            "clipShadows": false,
            "clipping": false,
            "clippingPlanes": [],
            "colorWrite": true,
            "defines": null,
            "depthFunc": "LessEqualDepth",
            "depthTest": true,
            "depthWrite": true,
            "dithering": false,
            "extensions": {},
            "flatShading": false,
            "fog": false,
            "fragmentShader": "",
            "lights": false,
            "linewidth": 1,
            "morphNormals": false,
            "morphTargets": false,
            "name": "",
            "opacity": 1,
            "overdraw": 0,
            "polygonOffset": false,
            "polygonOffsetFactor": 0,
            "polygonOffsetUnits": 0,
            "precision": null,
            "premultipliedAlpha": false,
            "shadowSide": null,
            "side": "FrontSide",
            "skinning": false,
            "transparent": false,
            "type": "ShaderMaterial",
            "uniforms": {},
            "uniformsNeedUpdate": false,
            "vertexColors": "NoColors",
            "vertexShader": "",
            "visible": true,
            "wireframe": false,
            "wireframeLinewidth": 1
          }
        },
        "228598a2ec644d2f8229140a944ec2e1": {
          "model_module": "bqplot",
          "model_module_version": "^0.5",
          "model_name": "LinearScaleModel",
          "state": {
            "_model_module": "bqplot",
            "_model_module_version": "^0.5",
            "_model_name": "LinearScaleModel",
            "_view_count": null,
            "_view_module": "bqplot",
            "_view_module_version": "^0.5",
            "_view_name": "LinearScale",
            "allow_padding": true,
            "max": 1,
            "mid_range": 0.8,
            "min": 0,
            "min_range": 0.6,
            "reverse": false,
            "stabilized": false
          }
        },
        "23570b5360344cea90f066cc6c6cf344": {
          "model_module": "jupyter-vuetify",
          "model_module_version": "^1.9.4",
          "model_name": "VuetifyTemplateModel",
          "state": {
            "_component_instances": [],
            "_dom_classes": [],
            "_jupyter_vue": "IPY_MODEL_bce73640a4854073b8c5b06d7f4fbc2f",
            "_model_module": "jupyter-vuetify",
            "_model_module_version": "^1.9.4",
            "_model_name": "VuetifyTemplateModel",
            "_view_count": null,
            "_view_module": "jupyter-vuetify",
            "_view_module_version": "^1.9.4",
            "_view_name": "VuetifyView",
            "components": null,
            "css": null,
            "data": null,
            "events": [],
            "figure": "IPY_MODEL_be23f18a80b4417e98e740b60feb4399",
            "layout": "IPY_MODEL_46672a2eb751413ab5b67408a7b7d7b3",
            "methods": null,
            "models": {
              "figure": {
                "meshes": [],
                "scatters": [
                  {
                    "description": "Scatter 0",
                    "description_color": "red",
                    "hovered": false,
                    "icon": "mdi-chart-bubble",
                    "visible": true
                  }
                ],
                "stereo": false,
                "volumes": []
              }
            },
            "template": "IPY_MODEL_81787dd43b704daf877f63682e7efd5e"
          }
        },
        "239d78cd02d64c689d69d03f8f4606e7": {
          "model_module": "@jupyter-widgets/base",
          "model_module_version": "1.2.0",
          "model_name": "LayoutModel",
          "state": {
            "_model_module": "@jupyter-widgets/base",
            "_model_module_version": "1.2.0",
            "_model_name": "LayoutModel",
            "_view_count": null,
            "_view_module": "@jupyter-widgets/base",
            "_view_module_version": "1.2.0",
            "_view_name": "LayoutView",
            "align_content": null,
            "align_items": null,
            "align_self": null,
            "border": null,
            "bottom": null,
            "display": null,
            "flex": null,
            "flex_flow": null,
            "grid_area": null,
            "grid_auto_columns": null,
            "grid_auto_flow": null,
            "grid_auto_rows": null,
            "grid_column": null,
            "grid_gap": null,
            "grid_row": null,
            "grid_template_areas": null,
            "grid_template_columns": null,
            "grid_template_rows": null,
            "height": null,
            "justify_content": null,
            "justify_items": null,
            "left": null,
            "margin": null,
            "max_height": null,
            "max_width": null,
            "min_height": null,
            "min_width": null,
            "object_fit": null,
            "object_position": null,
            "order": null,
            "overflow": null,
            "overflow_x": null,
            "overflow_y": null,
            "padding": null,
            "right": null,
            "top": null,
            "visibility": null,
            "width": null
          }
        },
        "23ea77b5a1424e839f60a3f642d851ee": {
          "model_module": "jupyter-threejs",
          "model_module_version": "^2.4.1",
          "model_name": "SceneModel",
          "state": {
            "_model_module": "jupyter-threejs",
            "_model_module_version": "^2.4.1",
            "_model_name": "SceneModel",
            "_view_count": null,
            "_view_module": null,
            "_view_module_version": "",
            "_view_name": null,
            "autoUpdate": true,
            "background": null,
            "castShadow": false,
            "children": [],
            "fog": null,
            "frustumCulled": true,
            "matrix": [
              1,
              0,
              0,
              0,
              0,
              1,
              0,
              0,
              0,
              0,
              1,
              0,
              0,
              0,
              0,
              1
            ],
            "matrixAutoUpdate": true,
            "matrixWorld": [
              1,
              0,
              0,
              0,
              0,
              1,
              0,
              0,
              0,
              0,
              1,
              0,
              0,
              0,
              0,
              1
            ],
            "matrixWorldNeedsUpdate": false,
            "modelViewMatrix": [
              1,
              0,
              0,
              0,
              0,
              1,
              0,
              0,
              0,
              0,
              1,
              0,
              0,
              0,
              0,
              1
            ],
            "name": "",
            "normalMatrix": [
              1,
              0,
              0,
              0,
              1,
              0,
              0,
              0,
              1
            ],
            "overrideMaterial": null,
            "position": [
              0,
              0,
              0
            ],
            "quaternion": [
              0,
              0,
              0,
              1
            ],
            "receiveShadow": false,
            "renderOrder": 0,
            "rotation": [
              0,
              0,
              0,
              "XYZ"
            ],
            "scale": [
              1,
              1,
              1
            ],
            "type": "Scene",
            "up": [
              0,
              1,
              0
            ],
            "visible": true
          }
        },
        "26f2533168aa4ad3854bfcdb64f85006": {
          "model_module": "jupyter-threejs",
          "model_module_version": "^2.4.1",
          "model_name": "PerspectiveCameraModel",
          "state": {
            "_model_module": "jupyter-threejs",
            "_model_module_version": "^2.4.1",
            "_model_name": "PerspectiveCameraModel",
            "_view_count": null,
            "_view_module": null,
            "_view_module_version": "",
            "_view_name": null,
            "aspect": 1,
            "castShadow": false,
            "children": [],
            "far": 2000,
            "focus": 10,
            "fov": 45,
            "frustumCulled": true,
            "matrix": [
              1,
              0,
              0,
              0,
              0,
              1,
              -6.123233995736766e-17,
              0,
              0,
              6.123233995736766e-17,
              1,
              0,
              0,
              1.2246467991473532e-16,
              2,
              1
            ],
            "matrixAutoUpdate": true,
            "matrixWorld": [
              1,
              0,
              0,
              0,
              0,
              1,
              -6.123233995736766e-17,
              0,
              0,
              6.123233995736766e-17,
              1,
              0,
              0,
              1.2246467991473532e-16,
              2,
              1
            ],
            "matrixWorldInverse": [
              1,
              0,
              0,
              0,
              0,
              1,
              6.123233995736766e-17,
              0,
              0,
              -6.123233995736766e-17,
              1,
              0,
              0,
              0,
              -2,
              1
            ],
            "matrixWorldNeedsUpdate": true,
            "modelViewMatrix": [
              1,
              0,
              0,
              0,
              0,
              1,
              0,
              0,
              0,
              0,
              1,
              0,
              0,
              0,
              0,
              1
            ],
            "name": "",
            "near": 0.1,
            "normalMatrix": [
              1,
              0,
              0,
              0,
              1,
              0,
              0,
              0,
              1
            ],
            "position": [
              0,
              1.2246467991473532e-16,
              2
            ],
            "projectionMatrix": [
              2.4142135623730954,
              0,
              0,
              0,
              0,
              2.4142135623730954,
              0,
              0,
              0,
              0,
              -1.00010000500025,
              -1,
              0,
              0,
              -0.200010000500025,
              0
            ],
            "quaternion": [
              -3.061616997868383e-17,
              0,
              0,
              1
            ],
            "receiveShadow": false,
            "renderOrder": 0,
            "rotation": [
              -6.123233995736766e-17,
              0,
              0,
              "XYZ"
            ],
            "scale": [
              1,
              1,
              1
            ],
            "type": "PerspectiveCamera",
            "up": [
              0,
              1,
              -6.123233995736766e-17
            ],
            "visible": true,
            "zoom": 1
          }
        },
        "363aa2ad00a54e428fecb9d611b78b49": {
          "model_module": "jupyter-vue",
          "model_module_version": "^1.10.2",
          "model_name": "HtmlModel",
          "state": {
            "_dom_classes": [],
            "_events": [],
            "_jupyter_vue": "IPY_MODEL_bce73640a4854073b8c5b06d7f4fbc2f",
            "_model_module": "jupyter-vue",
            "_model_module_version": "^1.10.2",
            "_model_name": "HtmlModel",
            "_view_count": null,
            "_view_module": "jupyter-vue",
            "_view_module_version": "^1.10.2",
            "_view_name": "VueView",
            "attributes": {},
            "children": [],
            "class_": null,
            "layout": null,
            "slot": null,
            "style_": "display: none",
            "tag": "span",
            "v_model": "!!disabled!!",
            "v_on": null,
            "v_slots": []
          }
        },
        "3784fab3eeaa47cf96d81e9fed2a8fcd": {
          "model_module": "bqplot",
          "model_module_version": "^0.5",
          "model_name": "LinearScaleModel",
          "state": {
            "_model_module": "bqplot",
            "_model_module_version": "^0.5",
            "_model_name": "LinearScaleModel",
            "_view_count": null,
            "_view_module": "bqplot",
            "_view_module_version": "^0.5",
            "_view_name": "LinearScale",
            "allow_padding": true,
            "max": 1,
            "mid_range": 0.8,
            "min": 0,
            "min_range": 0.6,
            "reverse": false,
            "stabilized": false
          }
        },
        "380790b1cb884e9db354ce8403895007": {
          "model_module": "jupyter-threejs",
          "model_module_version": "^2.4.1",
          "model_name": "ShaderMaterialModel",
          "state": {
            "_model_module": "jupyter-threejs",
            "_model_module_version": "^2.4.1",
            "_model_name": "ShaderMaterialModel",
            "_view_count": null,
            "_view_module": null,
            "_view_module_version": "",
            "_view_name": null,
            "alphaTest": 0,
            "blendDst": "OneMinusSrcAlphaFactor",
            "blendDstAlpha": 0,
            "blendEquation": "AddEquation",
            "blendEquationAlpha": 0,
            "blendSrc": "SrcAlphaFactor",
            "blendSrcAlpha": 0,
            "blending": "NormalBlending",
            "clipIntersection": false,
            "clipShadows": false,
            "clipping": false,
            "clippingPlanes": [],
            "colorWrite": true,
            "defines": null,
            "depthFunc": "LessEqualDepth",
            "depthTest": true,
            "depthWrite": true,
            "dithering": false,
            "extensions": {},
            "flatShading": false,
            "fog": false,
            "fragmentShader": "",
            "lights": false,
            "linewidth": 1,
            "morphNormals": false,
            "morphTargets": false,
            "name": "",
            "opacity": 1,
            "overdraw": 0,
            "polygonOffset": false,
            "polygonOffsetFactor": 0,
            "polygonOffsetUnits": 0,
            "precision": null,
            "premultipliedAlpha": false,
            "shadowSide": null,
            "side": "FrontSide",
            "skinning": false,
            "transparent": false,
            "type": "ShaderMaterial",
            "uniforms": {},
            "uniformsNeedUpdate": false,
            "vertexColors": "NoColors",
            "vertexShader": "",
            "visible": true,
            "wireframe": false,
            "wireframeLinewidth": 1
          }
        },
        "3d639bda4e4b439c9f23404a850e2502": {
          "model_module": "@jupyter-widgets/base",
          "model_module_version": "1.2.0",
          "model_name": "LayoutModel",
          "state": {
            "_model_module": "@jupyter-widgets/base",
            "_model_module_version": "1.2.0",
            "_model_name": "LayoutModel",
            "_view_count": null,
            "_view_module": "@jupyter-widgets/base",
            "_view_module_version": "1.2.0",
            "_view_name": "LayoutView",
            "align_content": null,
            "align_items": null,
            "align_self": null,
            "border": null,
            "bottom": null,
            "display": null,
            "flex": null,
            "flex_flow": null,
            "grid_area": null,
            "grid_auto_columns": null,
            "grid_auto_flow": null,
            "grid_auto_rows": null,
            "grid_column": null,
            "grid_gap": null,
            "grid_row": null,
            "grid_template_areas": null,
            "grid_template_columns": null,
            "grid_template_rows": null,
            "height": null,
            "justify_content": null,
            "justify_items": null,
            "left": null,
            "margin": null,
            "max_height": null,
            "max_width": null,
            "min_height": null,
            "min_width": null,
            "object_fit": null,
            "object_position": null,
            "order": null,
            "overflow": null,
            "overflow_x": null,
            "overflow_y": null,
            "padding": null,
            "right": null,
            "top": null,
            "visibility": null,
            "width": null
          }
        },
        "42e015fec4a24dc8bf5f6ba26fba301a": {
          "model_module": "jupyter-vuetify",
          "model_module_version": "^1.8.10",
          "model_name": "VuetifyTemplateModel",
          "state": {
            "_component_instances": [],
            "_dom_classes": [],
            "_jupyter_vue": "IPY_MODEL_7f5dd8a8a54b44f7bc38f6c927003f1a",
            "_model_module": "jupyter-vuetify",
            "_model_module_version": "^1.8.10",
            "_model_name": "VuetifyTemplateModel",
            "_view_count": null,
            "_view_module": "jupyter-vuetify",
            "_view_module_version": "^1.8.10",
            "_view_name": "VuetifyView",
            "children": [],
            "components": null,
            "css": null,
            "data": null,
            "events": [],
            "figure": "IPY_MODEL_4a764dd2723c42b2a52ee05136786aab",
            "layout": "IPY_MODEL_567e8937596245a1a4c92f248cc3441a",
            "legend": "IPY_MODEL_5e56c6165a5949d2bfe85bedfb78f331",
            "legend_show": true,
            "methods": null,
            "models": {
              "figure": {
                "show": "render"
              }
            },
            "panels": [
              0,
              1,
              2
            ],
            "template": "IPY_MODEL_a10aaee4b80041889b2719843d60bdcf"
          }
        },
        "46672a2eb751413ab5b67408a7b7d7b3": {
          "model_module": "@jupyter-widgets/base",
          "model_module_version": "1.2.0",
          "model_name": "LayoutModel",
          "state": {
            "_model_module": "@jupyter-widgets/base",
            "_model_module_version": "1.2.0",
            "_model_name": "LayoutModel",
            "_view_count": null,
            "_view_module": "@jupyter-widgets/base",
            "_view_module_version": "1.2.0",
            "_view_name": "LayoutView",
            "align_content": null,
            "align_items": null,
            "align_self": null,
            "border": null,
            "bottom": null,
            "display": null,
            "flex": null,
            "flex_flow": null,
            "grid_area": null,
            "grid_auto_columns": null,
            "grid_auto_flow": null,
            "grid_auto_rows": null,
            "grid_column": null,
            "grid_gap": null,
            "grid_row": null,
            "grid_template_areas": null,
            "grid_template_columns": null,
            "grid_template_rows": null,
            "height": null,
            "justify_content": null,
            "justify_items": null,
            "left": null,
            "margin": null,
            "max_height": null,
            "max_width": null,
            "min_height": null,
            "min_width": null,
            "object_fit": null,
            "object_position": null,
            "order": null,
            "overflow": null,
            "overflow_x": null,
            "overflow_y": null,
            "padding": null,
            "right": null,
            "top": null,
            "visibility": null,
            "width": null
          }
        },
        "48351f99852c4da887b3b3360c1f6452": {
          "model_module": "ipyvolume",
          "model_module_version": "~0.6.3",
          "model_name": "ScatterModel",
          "state": {
            "_model_module": "ipyvolume",
            "_model_module_version": "~0.6.3",
            "_model_name": "ScatterModel",
            "_view_count": null,
            "_view_module": "ipyvolume",
            "_view_module_version": "~0.6.3",
            "_view_name": "ScatterView",
            "aux": null,
            "aux_scale": null,
            "cast_shadow": true,
            "clicked": false,
            "clicked_index": null,
            "color": [
              {
                "dtype": "float32",
                "shape": [
                  178,
                  4
                ]
              }
            ],
            "color_scale": null,
            "color_selected": "white",
            "connected": false,
            "description": "Scatter 0",
            "description_color": "red",
            "geo": "sphere",
            "geo_matrix": [
              1,
              0,
              0,
              0,
              0,
              1,
              0,
              0,
              0,
              0,
              1,
              0,
              0,
              0,
              0,
              1
            ],
            "hovered": false,
            "hovered_index": null,
            "icon": "mdi-chart-bubble",
            "line_material": "IPY_MODEL_380790b1cb884e9db354ce8403895007",
            "material": "IPY_MODEL_1e5e5e125cb4416d847e01fffb2d7540",
            "popup": null,
            "receive_shadow": true,
            "selected": null,
            "sequence_index": 0,
            "shader_snippets": {
              "size": "\n"
            },
            "size": 4,
            "size_selected": 2.6,
            "size_x_scale": null,
            "size_y_scale": null,
            "size_z_scale": null,
            "texture": null,
            "visible": true,
            "vx": null,
            "vy": null,
            "vz": null,
            "x": [
              {
                "dtype": "float32",
                "shape": [
                  178
                ]
              }
            ],
            "y": [
              {
                "dtype": "float32",
                "shape": [
                  178
                ]
              }
            ],
            "z": [
              {
                "dtype": "float32",
                "shape": [
                  178
                ]
              }
            ]
          }
        },
        "48bc94faf047424d904440c2b4add96d": {
          "model_module": "@jupyter-widgets/base",
          "model_module_version": "1.2.0",
          "model_name": "LayoutModel",
          "state": {
            "_model_module": "@jupyter-widgets/base",
            "_model_module_version": "1.2.0",
            "_model_name": "LayoutModel",
            "_view_count": null,
            "_view_module": "@jupyter-widgets/base",
            "_view_module_version": "1.2.0",
            "_view_name": "LayoutView",
            "align_content": null,
            "align_items": null,
            "align_self": null,
            "border": null,
            "bottom": null,
            "display": null,
            "flex": null,
            "flex_flow": null,
            "grid_area": null,
            "grid_auto_columns": null,
            "grid_auto_flow": null,
            "grid_auto_rows": null,
            "grid_column": null,
            "grid_gap": null,
            "grid_row": null,
            "grid_template_areas": null,
            "grid_template_columns": null,
            "grid_template_rows": null,
            "height": null,
            "justify_content": null,
            "justify_items": null,
            "left": null,
            "margin": null,
            "max_height": null,
            "max_width": null,
            "min_height": null,
            "min_width": null,
            "object_fit": null,
            "object_position": null,
            "order": null,
            "overflow": null,
            "overflow_x": null,
            "overflow_y": null,
            "padding": null,
            "right": null,
            "top": null,
            "visibility": null,
            "width": null
          }
        },
        "4a764dd2723c42b2a52ee05136786aab": {
          "model_module": "ipyvolume",
          "model_module_version": "~0.6.3",
          "model_name": "FigureModel",
          "state": {
            "_dom_classes": [],
            "_model_module": "ipyvolume",
            "_model_module_version": "~0.6.3",
            "_model_name": "FigureModel",
            "_shaders": {},
            "_view_count": null,
            "_view_module": "ipyvolume",
            "_view_module_version": "~0.6.3",
            "_view_name": "FigureView",
            "ambient_coefficient": 0.5,
            "animation": 1000,
            "animation_exponent": 1,
            "box_center": [
              0.5,
              0.5,
              0.5
            ],
            "box_size": [
              1,
              1,
              1
            ],
            "camera": "IPY_MODEL_c8155cf85c314b15a2b36cc944a165f1",
            "camera_center": [
              0,
              0,
              0
            ],
            "camera_control": "trackball",
            "camera_fov": 45,
            "capture_fps": null,
            "controls": null,
            "cube_resolution": 512,
            "diffuse_coefficient": 0.8,
            "displayscale": 1,
            "eye_separation": 6.4,
            "height": 400,
            "layout": "IPY_MODEL_7133ec1b445342ca83d991ba8d6304f8",
            "lights": [],
            "matrix_projection": [
              2.4142135623730954,
              0,
              0,
              0,
              0,
              2.4142135623730954,
              0,
              0,
              0,
              0,
              -1.00010000500025,
              -1,
              0,
              0,
              -0.200010000500025,
              0
            ],
            "matrix_world": [
              -0.6629501883064248,
              -0.2173984982797977,
              0.7164041741713714,
              0,
              -0.1323328766423279,
              0.9758710827772183,
              0.1736768250480936,
              0,
              -0.7368751981061938,
              0.02033525866342675,
              -0.6757228867450392,
              0,
              0.7660791315274735,
              -0.3894039215804237,
              -2.107179056237186,
              1
            ],
            "meshes": [],
            "mouse_mode": "normal",
            "orientation_control": false,
            "panorama_mode": "no",
            "pixel_ratio": null,
            "popup_debouce": 100,
            "render_continuous": false,
            "scales": {
              "x": "IPY_MODEL_228598a2ec644d2f8229140a944ec2e1",
              "y": "IPY_MODEL_759814705c424378b2fb4634d944ef69",
              "z": "IPY_MODEL_0f6c020b136a4e849688301c4e4b02c7"
            },
            "scatters": [
              "IPY_MODEL_48351f99852c4da887b3b3360c1f6452"
            ],
            "scene": "IPY_MODEL_89b8df5eb7e34a02baa73e451ecf310e",
            "selection_mode": "replace",
            "selector": "lasso",
            "show": "render",
            "slice_x": 0,
            "slice_y": 0,
            "slice_z": 0,
            "specular_coefficient": 0.5,
            "specular_exponent": 5,
            "stereo": false,
            "style": {
              "axes": {
                "color": "black",
                "label": {
                  "color": "black"
                },
                "ticklabel": {
                  "color": "black"
                },
                "visible": true
              },
              "background-color": "white",
              "box": {
                "visible": true
              }
            },
            "volumes": [],
            "width": 400,
            "xlabel": "x",
            "ylabel": "y",
            "zlabel": "z"
          }
        },
        "4b759eeb367e4fb9a069b44426c2f061": {
          "model_module": "jupyter-vuetify",
          "model_module_version": "^1.9.4",
          "model_name": "VuetifyTemplateModel",
          "state": {
            "_component_instances": [],
            "_dom_classes": [],
            "_jupyter_vue": "IPY_MODEL_bce73640a4854073b8c5b06d7f4fbc2f",
            "_model_module": "jupyter-vuetify",
            "_model_module_version": "^1.9.4",
            "_model_name": "VuetifyTemplateModel",
            "_view_count": null,
            "_view_module": "jupyter-vuetify",
            "_view_module_version": "^1.9.4",
            "_view_name": "VuetifyView",
            "children": [],
            "components": null,
            "css": null,
            "data": null,
            "events": [],
            "figure": "IPY_MODEL_be23f18a80b4417e98e740b60feb4399",
            "layout": "IPY_MODEL_a775614913c1487b86c69fc19671d87d",
            "legend": "IPY_MODEL_23570b5360344cea90f066cc6c6cf344",
            "legend_show": true,
            "methods": null,
            "models": {
              "figure": {
                "show": "render"
              }
            },
            "panels": [
              0,
              1,
              2
            ],
            "template": "IPY_MODEL_7aa8e025f867458393760878b11b372a"
          }
        },
        "4c2654f702ea446ca9d5c9faee75323d": {
          "model_module": "jupyter-vue",
          "model_module_version": "^1.10.1",
          "model_name": "HtmlModel",
          "state": {
            "_dom_classes": [],
            "_events": [],
            "_jupyter_vue": "IPY_MODEL_2797283294ff4825a1fb50aa1c6ac9f6",
            "_model_module": "jupyter-vue",
            "_model_module_version": "^1.10.1",
            "_model_name": "HtmlModel",
            "_view_count": null,
            "_view_module": "jupyter-vue",
            "_view_module_version": "^1.10.1",
            "_view_name": "VueView",
            "attributes": {},
            "children": [],
            "class_": null,
            "layout": null,
            "slot": null,
            "style_": "display: none",
            "tag": "span",
            "v_model": "!!disabled!!",
            "v_on": null,
            "v_slots": []
          }
        },
        "4e1e62e7203d41dc988ebdb705b8865e": {
          "model_module": "jupyter-threejs",
          "model_module_version": "^2.4.1",
          "model_name": "SceneModel",
          "state": {
            "_model_module": "jupyter-threejs",
            "_model_module_version": "^2.4.1",
            "_model_name": "SceneModel",
            "_view_count": null,
            "_view_module": null,
            "_view_module_version": "",
            "_view_name": null,
            "autoUpdate": true,
            "background": null,
            "castShadow": false,
            "children": [],
            "fog": null,
            "frustumCulled": true,
            "matrix": [
              1,
              0,
              0,
              0,
              0,
              1,
              0,
              0,
              0,
              0,
              1,
              0,
              0,
              0,
              0,
              1
            ],
            "matrixAutoUpdate": true,
            "matrixWorld": [
              1,
              0,
              0,
              0,
              0,
              1,
              0,
              0,
              0,
              0,
              1,
              0,
              0,
              0,
              0,
              1
            ],
            "matrixWorldNeedsUpdate": false,
            "modelViewMatrix": [
              1,
              0,
              0,
              0,
              0,
              1,
              0,
              0,
              0,
              0,
              1,
              0,
              0,
              0,
              0,
              1
            ],
            "name": "",
            "normalMatrix": [
              1,
              0,
              0,
              0,
              1,
              0,
              0,
              0,
              1
            ],
            "overrideMaterial": null,
            "position": [
              0,
              0,
              0
            ],
            "quaternion": [
              0,
              0,
              0,
              1
            ],
            "receiveShadow": false,
            "renderOrder": 0,
            "rotation": [
              0,
              0,
              0,
              "XYZ"
            ],
            "scale": [
              1,
              1,
              1
            ],
            "type": "Scene",
            "up": [
              0,
              1,
              0
            ],
            "visible": true
          }
        },
        "4ef36b32fe844289a3e8ef35dcd50578": {
          "model_module": "bqplot",
          "model_module_version": "^0.5",
          "model_name": "LinearScaleModel",
          "state": {
            "_model_module": "bqplot",
            "_model_module_version": "^0.5",
            "_model_name": "LinearScaleModel",
            "_view_count": null,
            "_view_module": "bqplot",
            "_view_module_version": "^0.5",
            "_view_name": "LinearScale",
            "allow_padding": true,
            "max": 1,
            "mid_range": 0.8,
            "min": 0,
            "min_range": 0.6,
            "reverse": false,
            "stabilized": false
          }
        },
        "54090b4ff19049e4b682599cdf4878e8": {
          "model_module": "jupyter-vue",
          "model_module_version": "^1.10.1",
          "model_name": "TemplateModel",
          "state": {
            "_model_module": "jupyter-vue",
            "_model_module_version": "^1.10.1",
            "_model_name": "TemplateModel",
            "_view_count": null,
            "_view_module": null,
            "_view_module_version": "",
            "_view_name": null,
            "template": "<template>\n    <div class=\"ipyvolume-container-root\">\n        <jupyter-widget ref=\"figure\" :widget=\"figure\"></jupyter-widget>\n        <div class=ipyvolume-container-controls>\n            <v-expansion-panels accordion multiple v-model=\"panels\" flat>\n                <v-expansion-panel>\n                    <v-expansion-panel-header>Legend</v-expansion-panel-header>\n                    <v-expansion-panel-content>\n                        <jupyter-widget ref=\"legend\" :widget=\"legend\"></jupyter-widget>\n                    </v-expansion-panel-content>\n                </v-expansion-panel>\n                <v-expansion-panel>\n                    <v-expansion-panel-header>Misc</v-expansion-panel-header>\n                    <v-expansion-panel-content>\n                        <jupyter-widget v-for=\"child in children\" :key=\"child\" :widget=\"child\"></jupyter-widget>\n                    </v-expansion-panel-content>\n                </v-expansion-panel>\n                <v-expansion-panel>\n                    <v-expansion-panel-header>Debug</v-expansion-panel-header>\n                    <v-expansion-panel-content>\n                        <p>Show render pass:</p>\n                        <v-btn-toggle v-model=\"models.figure.show\" tile group>\n                            <v-btn value=\"render\">Render</v-btn>\n                            <v-btn value=\"front\">Front</v-btn>\n                            <v-btn value=\"back\">Back</v-btn>\n                            <v-btn value=\"id\">ID</v-btn>\n                            <v-btn value=\"coordinate\">Coordinate</v-btn>\n                        </v-btn-toggle>\n                    </v-expansion-panel-content>\n                </v-expansion-panel>\n            </v-expansion-panels>\n        </div>\n    </div>\n</template>\n<style id=\"ipyvolume-container\">\n    .ipyvolume-container-root {\n        display: flex;\n    }\n    .ipyvolume-container-controls {\n        display: flex;\n        flex-direction: column;\n    }\n</style>\n\n<script>\n    module.export = {\n        created() {\n            console.log('created', this.$refs)\n        },\n        mounted() {\n            const figureComponent = this.$refs.figure;\n            (async () => {\n                const figure = await this.viewCtx.getModelById(this.figure.substr(10));\n                function bbproxy(model, attrs, widgetAttrs) {\n                    const proxy = {}\n\n                    attrs.forEach((attr) => {\n                        console.log('setting', attr)\n                        let valueCopy = model.get(attr);\n                        model.on('change:' + attr, (_widget, value) => {\n                            proxy[attr] = value\n                        })\n                        Object.defineProperty(proxy, attr, {\n                            enumerable: true,\n                            configurable: true,\n                            get: () => {\n                                return valueCopy;\n                            },\n                            set: (value) => {\n                                valueCopy = value;\n                                model.set(attr, value);\n                                model.save_changes();\n                            },\n                        });\n                    })\n                    if(widgetAttrs) {\n                        Object.keys(widgetAttrs).forEach((attr) => {\n                            console.log('setting list', attr)\n                            let listValue = model.get(attr);\n                            let listValueProxy = [];\n                            if(listValue) {\n                                listValueProxy = listValue.map((k) => bbproxy(k, widgetAttrs[attr]));\n                            }\n                            proxy[attr] = listValueProxy;\n                            model.on('change:' + attr, (_widget, value) => {\n                                console.log('changed list', attr, value)\n                                if(value) {\n                                    proxy[attr] = value.map((k) => bbproxy(k, widgetAttrs[attr]))\n                                } else {\n                                    proxy[attr] = null;\n                                }\n                            });\n                            Object.defineProperty(proxy, attr, {\n                                enumerable: true,\n                                configurable: true,\n                                get: () => {\n                                    return listValueProxy;\n                                },\n                                set: (value) => {\n                                    listValueProxy = value;\n                                    console.log('ignore propagating set')\n                                },\n                            });\n                        })\n                    }\n\n                    return proxy;\n                }\n                this.$set(this.models, 'figure', bbproxy(figure, [\"show\"]));\n            })();\n        },\n        methods: {\n        }\n    }\n\n</script>\n"
          }
        },
        "545fe4f5c4bd40869f1eae60454ec9ee": {
          "model_module": "jupyter-threejs",
          "model_module_version": "^2.4.1",
          "model_name": "ShaderMaterialModel",
          "state": {
            "_model_module": "jupyter-threejs",
            "_model_module_version": "^2.4.1",
            "_model_name": "ShaderMaterialModel",
            "_view_count": null,
            "_view_module": null,
            "_view_module_version": "",
            "_view_name": null,
            "alphaTest": 0,
            "blendDst": "OneMinusSrcAlphaFactor",
            "blendDstAlpha": 0,
            "blendEquation": "AddEquation",
            "blendEquationAlpha": 0,
            "blendSrc": "SrcAlphaFactor",
            "blendSrcAlpha": 0,
            "blending": "NormalBlending",
            "clipIntersection": false,
            "clipShadows": false,
            "clipping": false,
            "clippingPlanes": [],
            "colorWrite": true,
            "defines": null,
            "depthFunc": "LessEqualDepth",
            "depthTest": true,
            "depthWrite": true,
            "dithering": false,
            "extensions": {},
            "flatShading": false,
            "fog": false,
            "fragmentShader": "",
            "lights": false,
            "linewidth": 1,
            "morphNormals": false,
            "morphTargets": false,
            "name": "",
            "opacity": 1,
            "overdraw": 0,
            "polygonOffset": false,
            "polygonOffsetFactor": 0,
            "polygonOffsetUnits": 0,
            "precision": null,
            "premultipliedAlpha": false,
            "shadowSide": null,
            "side": "FrontSide",
            "skinning": false,
            "transparent": false,
            "type": "ShaderMaterial",
            "uniforms": {},
            "uniformsNeedUpdate": false,
            "vertexColors": "NoColors",
            "vertexShader": "",
            "visible": true,
            "wireframe": false,
            "wireframeLinewidth": 1
          }
        },
        "54ded0a1f63640a7ba57bbe8133fb416": {
          "model_module": "jupyter-threejs",
          "model_module_version": "^2.4.1",
          "model_name": "PerspectiveCameraModel",
          "state": {
            "_model_module": "jupyter-threejs",
            "_model_module_version": "^2.4.1",
            "_model_name": "PerspectiveCameraModel",
            "_view_count": null,
            "_view_module": null,
            "_view_module_version": "",
            "_view_name": null,
            "aspect": 1,
            "castShadow": false,
            "children": [],
            "far": 2000,
            "focus": 10,
            "fov": 45,
            "frustumCulled": true,
            "matrix": [
              0.23327157323413172,
              -0.1024324757568443,
              0.9670015310387035,
              0,
              0.08535611409600599,
              0.9927548902909363,
              0.0845698621842352,
              0,
              -0.9686581992154419,
              0.0628117482144418,
              0.2403247331818822,
              0,
              -1.9373163984308568,
              0.12562349642888185,
              0.4806494663637579,
              1
            ],
            "matrixAutoUpdate": true,
            "matrixWorld": [
              0.23327157323413172,
              -0.1024324757568443,
              0.9670015310387035,
              0,
              0.08535611409600599,
              0.9927548902909363,
              0.0845698621842352,
              0,
              -0.9686581992154419,
              0.0628117482144418,
              0.2403247331818822,
              0,
              -1.9373163984308568,
              0.12562349642888185,
              0.4806494663637579,
              1
            ],
            "matrixWorldInverse": [
              0.23327157323413183,
              0.085356114096006,
              -0.968658199215442,
              0,
              -0.10243247575684433,
              0.9927548902909367,
              0.06281174821444181,
              0,
              0.9670015310387037,
              0.08456986218423523,
              0.2403247331818822,
              0,
              -1.7087026238371555e-16,
              -2.6020852139652113e-17,
              -1.9999999999999725,
              1.0000000000000002
            ],
            "matrixWorldNeedsUpdate": true,
            "modelViewMatrix": [
              1,
              0,
              0,
              0,
              0,
              1,
              0,
              0,
              0,
              0,
              1,
              0,
              0,
              0,
              0,
              1
            ],
            "name": "",
            "near": 0.1,
            "normalMatrix": [
              1,
              0,
              0,
              0,
              1,
              0,
              0,
              0,
              1
            ],
            "position": [
              -1.9373163984308568,
              0.12562349642888185,
              0.4806494663637579
            ],
            "projectionMatrix": [
              2.4142135623730954,
              0,
              0,
              0,
              0,
              2.4142135623730954,
              0,
              0,
              0,
              0,
              -1.00010000500025,
              -1,
              0,
              0,
              -0.200010000500025,
              0
            ],
            "quaternion": [
              0.006927296754745645,
              -0.6162707570287029,
              -0.05978768614190981,
              0.7852310482760712
            ],
            "receiveShadow": false,
            "renderOrder": 0,
            "rotation": [
              -0.25564337524341274,
              -1.3197708255831038,
              -0.3507765517412125,
              "XYZ"
            ],
            "scale": [
              1,
              1,
              1
            ],
            "type": "PerspectiveCamera",
            "up": [
              0.08535611409600599,
              0.9927548902909363,
              0.08456986218423519
            ],
            "visible": true,
            "zoom": 1
          }
        },
        "567e8937596245a1a4c92f248cc3441a": {
          "model_module": "@jupyter-widgets/base",
          "model_module_version": "1.2.0",
          "model_name": "LayoutModel",
          "state": {
            "_model_module": "@jupyter-widgets/base",
            "_model_module_version": "1.2.0",
            "_model_name": "LayoutModel",
            "_view_count": null,
            "_view_module": "@jupyter-widgets/base",
            "_view_module_version": "1.2.0",
            "_view_name": "LayoutView",
            "align_content": null,
            "align_items": null,
            "align_self": null,
            "border": null,
            "bottom": null,
            "display": null,
            "flex": null,
            "flex_flow": null,
            "grid_area": null,
            "grid_auto_columns": null,
            "grid_auto_flow": null,
            "grid_auto_rows": null,
            "grid_column": null,
            "grid_gap": null,
            "grid_row": null,
            "grid_template_areas": null,
            "grid_template_columns": null,
            "grid_template_rows": null,
            "height": null,
            "justify_content": null,
            "justify_items": null,
            "left": null,
            "margin": null,
            "max_height": null,
            "max_width": null,
            "min_height": null,
            "min_width": null,
            "object_fit": null,
            "object_position": null,
            "order": null,
            "overflow": null,
            "overflow_x": null,
            "overflow_y": null,
            "padding": null,
            "right": null,
            "top": null,
            "visibility": null,
            "width": null
          }
        },
        "5dcbd461c4ed42e3a92ab5fe30706b7c": {
          "model_module": "bqplot",
          "model_module_version": "^0.5",
          "model_name": "LinearScaleModel",
          "state": {
            "_model_module": "bqplot",
            "_model_module_version": "^0.5",
            "_model_name": "LinearScaleModel",
            "_view_count": null,
            "_view_module": "bqplot",
            "_view_module_version": "^0.5",
            "_view_name": "LinearScale",
            "allow_padding": true,
            "max": 1,
            "mid_range": 0.8,
            "min": 0,
            "min_range": 0.6,
            "reverse": false,
            "stabilized": false
          }
        },
        "5e56c6165a5949d2bfe85bedfb78f331": {
          "model_module": "jupyter-vuetify",
          "model_module_version": "^1.8.10",
          "model_name": "VuetifyTemplateModel",
          "state": {
            "_component_instances": [],
            "_dom_classes": [],
            "_jupyter_vue": "IPY_MODEL_7f5dd8a8a54b44f7bc38f6c927003f1a",
            "_model_module": "jupyter-vuetify",
            "_model_module_version": "^1.8.10",
            "_model_name": "VuetifyTemplateModel",
            "_view_count": null,
            "_view_module": "jupyter-vuetify",
            "_view_module_version": "^1.8.10",
            "_view_name": "VuetifyView",
            "components": null,
            "css": null,
            "data": null,
            "events": [],
            "figure": "IPY_MODEL_4a764dd2723c42b2a52ee05136786aab",
            "layout": "IPY_MODEL_1e7f913fbc9c4df3aa18167ecdb823fc",
            "methods": null,
            "models": {
              "figure": {
                "meshes": [],
                "scatters": [
                  {
                    "description": "Scatter 0",
                    "description_color": "red",
                    "hovered": false,
                    "icon": "mdi-chart-bubble",
                    "visible": true
                  }
                ],
                "stereo": false,
                "volumes": []
              }
            },
            "template": "IPY_MODEL_1ac112f3b2dd4780aa92fb9fa2389689"
          }
        },
        "6621b04f20604de9910c5ed1297f8224": {
          "model_module": "bqplot",
          "model_module_version": "^0.5",
          "model_name": "LinearScaleModel",
          "state": {
            "_model_module": "bqplot",
            "_model_module_version": "^0.5",
            "_model_name": "LinearScaleModel",
            "_view_count": null,
            "_view_module": "bqplot",
            "_view_module_version": "^0.5",
            "_view_name": "LinearScale",
            "allow_padding": true,
            "max": 1,
            "mid_range": 0.8,
            "min": 0,
            "min_range": 0.6,
            "reverse": false,
            "stabilized": false
          }
        },
        "66eabad37349445b885126183b2cc9e6": {
          "model_module": "bqplot",
          "model_module_version": "^0.5",
          "model_name": "LinearScaleModel",
          "state": {
            "_model_module": "bqplot",
            "_model_module_version": "^0.5",
            "_model_name": "LinearScaleModel",
            "_view_count": null,
            "_view_module": "bqplot",
            "_view_module_version": "^0.5",
            "_view_name": "LinearScale",
            "allow_padding": true,
            "max": 1,
            "mid_range": 0.8,
            "min": 0,
            "min_range": 0.6,
            "reverse": false,
            "stabilized": false
          }
        },
        "6d9be9bf1d03425b899b0e18364c061e": {
          "model_module": "ipyvolume",
          "model_module_version": "~0.6.3",
          "model_name": "FigureModel",
          "state": {
            "_dom_classes": [],
            "_model_module": "ipyvolume",
            "_model_module_version": "~0.6.3",
            "_model_name": "FigureModel",
            "_shaders": {},
            "_view_count": null,
            "_view_module": "ipyvolume",
            "_view_module_version": "~0.6.3",
            "_view_name": "FigureView",
            "ambient_coefficient": 0.5,
            "animation": 1000,
            "animation_exponent": 1,
            "box_center": [
              0.5,
              0.5,
              0.5
            ],
            "box_size": [
              1,
              1,
              1
            ],
            "camera": "IPY_MODEL_54ded0a1f63640a7ba57bbe8133fb416",
            "camera_center": [
              0,
              0,
              0
            ],
            "camera_control": "trackball",
            "camera_fov": 45,
            "capture_fps": null,
            "controls": null,
            "cube_resolution": 512,
            "diffuse_coefficient": 0.8,
            "displayscale": 1,
            "eye_separation": 6.4,
            "height": 400,
            "layout": "IPY_MODEL_48bc94faf047424d904440c2b4add96d",
            "lights": [],
            "matrix_projection": [
              2.4142135623730954,
              0,
              0,
              0,
              0,
              2.4142135623730954,
              0,
              0,
              0,
              0,
              -1.00010000500025,
              -1,
              0,
              0,
              -0.200010000500025,
              0
            ],
            "matrix_world": [
              0.23327157323413183,
              0.085356114096006,
              -0.968658199215442,
              0,
              -0.10243247575684433,
              0.9927548902909367,
              0.06281174821444181,
              0,
              0.9670015310387037,
              0.08456986218423523,
              0.2403247331818822,
              0,
              -0.5489203142579958,
              -0.5813404332855889,
              -1.6672391410904135,
              1.0000000000000002
            ],
            "meshes": [],
            "mouse_mode": "normal",
            "orientation_control": false,
            "panorama_mode": "no",
            "pixel_ratio": null,
            "popup_debouce": 100,
            "render_continuous": false,
            "scales": {
              "x": "IPY_MODEL_c81e060bf8204253a1a62a0cab41fa47",
              "y": "IPY_MODEL_3784fab3eeaa47cf96d81e9fed2a8fcd",
              "z": "IPY_MODEL_66eabad37349445b885126183b2cc9e6"
            },
            "scatters": [
              "IPY_MODEL_1e0f832718884795a66b5298f76d5849"
            ],
            "scene": "IPY_MODEL_4e1e62e7203d41dc988ebdb705b8865e",
            "selection_mode": "replace",
            "selector": "lasso",
            "show": "render",
            "slice_x": 0,
            "slice_y": 0,
            "slice_z": 0,
            "specular_coefficient": 0.5,
            "specular_exponent": 5,
            "stereo": false,
            "style": {
              "axes": {
                "color": "black",
                "label": {
                  "color": "black"
                },
                "ticklabel": {
                  "color": "black"
                },
                "visible": true
              },
              "background-color": "white",
              "box": {
                "visible": true
              }
            },
            "volumes": [],
            "width": 400,
            "xlabel": "x",
            "ylabel": "y",
            "zlabel": "z"
          }
        },
        "7133ec1b445342ca83d991ba8d6304f8": {
          "model_module": "@jupyter-widgets/base",
          "model_module_version": "1.2.0",
          "model_name": "LayoutModel",
          "state": {
            "_model_module": "@jupyter-widgets/base",
            "_model_module_version": "1.2.0",
            "_model_name": "LayoutModel",
            "_view_count": null,
            "_view_module": "@jupyter-widgets/base",
            "_view_module_version": "1.2.0",
            "_view_name": "LayoutView",
            "align_content": null,
            "align_items": null,
            "align_self": null,
            "border": null,
            "bottom": null,
            "display": null,
            "flex": null,
            "flex_flow": null,
            "grid_area": null,
            "grid_auto_columns": null,
            "grid_auto_flow": null,
            "grid_auto_rows": null,
            "grid_column": null,
            "grid_gap": null,
            "grid_row": null,
            "grid_template_areas": null,
            "grid_template_columns": null,
            "grid_template_rows": null,
            "height": null,
            "justify_content": null,
            "justify_items": null,
            "left": null,
            "margin": null,
            "max_height": null,
            "max_width": null,
            "min_height": null,
            "min_width": null,
            "object_fit": null,
            "object_position": null,
            "order": null,
            "overflow": null,
            "overflow_x": null,
            "overflow_y": null,
            "padding": null,
            "right": null,
            "top": null,
            "visibility": null,
            "width": null
          }
        },
        "7362633029b34ad9847f8120b2ed5c7d": {
          "model_module": "jupyter-threejs",
          "model_module_version": "^2.4.1",
          "model_name": "SceneModel",
          "state": {
            "_model_module": "jupyter-threejs",
            "_model_module_version": "^2.4.1",
            "_model_name": "SceneModel",
            "_view_count": null,
            "_view_module": null,
            "_view_module_version": "",
            "_view_name": null,
            "autoUpdate": true,
            "background": null,
            "castShadow": false,
            "children": [],
            "fog": null,
            "frustumCulled": true,
            "matrix": [
              1,
              0,
              0,
              0,
              0,
              1,
              0,
              0,
              0,
              0,
              1,
              0,
              0,
              0,
              0,
              1
            ],
            "matrixAutoUpdate": true,
            "matrixWorld": [
              1,
              0,
              0,
              0,
              0,
              1,
              0,
              0,
              0,
              0,
              1,
              0,
              0,
              0,
              0,
              1
            ],
            "matrixWorldNeedsUpdate": false,
            "modelViewMatrix": [
              1,
              0,
              0,
              0,
              0,
              1,
              0,
              0,
              0,
              0,
              1,
              0,
              0,
              0,
              0,
              1
            ],
            "name": "",
            "normalMatrix": [
              1,
              0,
              0,
              0,
              1,
              0,
              0,
              0,
              1
            ],
            "overrideMaterial": null,
            "position": [
              0,
              0,
              0
            ],
            "quaternion": [
              0,
              0,
              0,
              1
            ],
            "receiveShadow": false,
            "renderOrder": 0,
            "rotation": [
              0,
              0,
              0,
              "XYZ"
            ],
            "scale": [
              1,
              1,
              1
            ],
            "type": "Scene",
            "up": [
              0,
              1,
              0
            ],
            "visible": true
          }
        },
        "759814705c424378b2fb4634d944ef69": {
          "model_module": "bqplot",
          "model_module_version": "^0.5",
          "model_name": "LinearScaleModel",
          "state": {
            "_model_module": "bqplot",
            "_model_module_version": "^0.5",
            "_model_name": "LinearScaleModel",
            "_view_count": null,
            "_view_module": "bqplot",
            "_view_module_version": "^0.5",
            "_view_name": "LinearScale",
            "allow_padding": true,
            "max": 1,
            "mid_range": 0.8,
            "min": 0,
            "min_range": 0.6,
            "reverse": false,
            "stabilized": false
          }
        },
        "7aa8e025f867458393760878b11b372a": {
          "model_module": "jupyter-vue",
          "model_module_version": "^1.10.2",
          "model_name": "TemplateModel",
          "state": {
            "_model_module": "jupyter-vue",
            "_model_module_version": "^1.10.2",
            "_model_name": "TemplateModel",
            "_view_count": null,
            "_view_module": null,
            "_view_module_version": "",
            "_view_name": null,
            "template": "<template>\n    <div class=\"ipyvolume-container-root\">\n        <jupyter-widget ref=\"figure\" :widget=\"figure\"></jupyter-widget>\n        <div class=ipyvolume-container-controls>\n            <v-expansion-panels accordion multiple v-model=\"panels\" flat>\n                <v-expansion-panel>\n                    <v-expansion-panel-header>Legend</v-expansion-panel-header>\n                    <v-expansion-panel-content>\n                        <jupyter-widget ref=\"legend\" :widget=\"legend\"></jupyter-widget>\n                    </v-expansion-panel-content>\n                </v-expansion-panel>\n                <v-expansion-panel>\n                    <v-expansion-panel-header>Misc</v-expansion-panel-header>\n                    <v-expansion-panel-content>\n                        <jupyter-widget v-for=\"child in children\" :key=\"child\" :widget=\"child\"></jupyter-widget>\n                    </v-expansion-panel-content>\n                </v-expansion-panel>\n                <v-expansion-panel>\n                    <v-expansion-panel-header>Debug</v-expansion-panel-header>\n                    <v-expansion-panel-content>\n                        <p>Show render pass:</p>\n                        <v-btn-toggle v-model=\"models.figure.show\" tile group>\n                            <v-btn value=\"render\">Render</v-btn>\n                            <v-btn value=\"front\">Front</v-btn>\n                            <v-btn value=\"back\">Back</v-btn>\n                            <v-btn value=\"id\">ID</v-btn>\n                            <v-btn value=\"coordinate\">Coordinate</v-btn>\n                        </v-btn-toggle>\n                    </v-expansion-panel-content>\n                </v-expansion-panel>\n            </v-expansion-panels>\n        </div>\n    </div>\n</template>\n<style id=\"ipyvolume-container\">\n    .ipyvolume-container-root {\n        display: flex;\n    }\n    .ipyvolume-container-controls {\n        display: flex;\n        flex-direction: column;\n    }\n</style>\n\n<script>\n    module.export = {\n        created() {\n            console.log('created', this.$refs)\n        },\n        mounted() {\n            const figureComponent = this.$refs.figure;\n            (async () => {\n                const figure = await this.viewCtx.getModelById(this.figure.substr(10));\n                function bbproxy(model, attrs, widgetAttrs) {\n                    const proxy = {}\n\n                    attrs.forEach((attr) => {\n                        console.log('setting', attr)\n                        let valueCopy = model.get(attr);\n                        model.on('change:' + attr, (_widget, value) => {\n                            proxy[attr] = value\n                        })\n                        Object.defineProperty(proxy, attr, {\n                            enumerable: true,\n                            configurable: true,\n                            get: () => {\n                                return valueCopy;\n                            },\n                            set: (value) => {\n                                valueCopy = value;\n                                model.set(attr, value);\n                                model.save_changes();\n                            },\n                        });\n                    })\n                    if(widgetAttrs) {\n                        Object.keys(widgetAttrs).forEach((attr) => {\n                            console.log('setting list', attr)\n                            let listValue = model.get(attr);\n                            let listValueProxy = [];\n                            if(listValue) {\n                                listValueProxy = listValue.map((k) => bbproxy(k, widgetAttrs[attr]));\n                            }\n                            proxy[attr] = listValueProxy;\n                            model.on('change:' + attr, (_widget, value) => {\n                                console.log('changed list', attr, value)\n                                if(value) {\n                                    proxy[attr] = value.map((k) => bbproxy(k, widgetAttrs[attr]))\n                                } else {\n                                    proxy[attr] = null;\n                                }\n                            });\n                            Object.defineProperty(proxy, attr, {\n                                enumerable: true,\n                                configurable: true,\n                                get: () => {\n                                    return listValueProxy;\n                                },\n                                set: (value) => {\n                                    listValueProxy = value;\n                                    console.log('ignore propagating set')\n                                },\n                            });\n                        })\n                    }\n\n                    return proxy;\n                }\n                this.$set(this.models, 'figure', bbproxy(figure, [\"show\"]));\n            })();\n        },\n        methods: {\n        }\n    }\n\n</script>\n"
          }
        },
        "7e6051b7ccc4406ebf957696d8f1ab1a": {
          "model_module": "jupyter-threejs",
          "model_module_version": "^2.4.1",
          "model_name": "ShaderMaterialModel",
          "state": {
            "_model_module": "jupyter-threejs",
            "_model_module_version": "^2.4.1",
            "_model_name": "ShaderMaterialModel",
            "_view_count": null,
            "_view_module": null,
            "_view_module_version": "",
            "_view_name": null,
            "alphaTest": 0,
            "blendDst": "OneMinusSrcAlphaFactor",
            "blendDstAlpha": 0,
            "blendEquation": "AddEquation",
            "blendEquationAlpha": 0,
            "blendSrc": "SrcAlphaFactor",
            "blendSrcAlpha": 0,
            "blending": "NormalBlending",
            "clipIntersection": false,
            "clipShadows": false,
            "clipping": false,
            "clippingPlanes": [],
            "colorWrite": true,
            "defines": null,
            "depthFunc": "LessEqualDepth",
            "depthTest": true,
            "depthWrite": true,
            "dithering": false,
            "extensions": {},
            "flatShading": false,
            "fog": false,
            "fragmentShader": "",
            "lights": false,
            "linewidth": 1,
            "morphNormals": false,
            "morphTargets": false,
            "name": "",
            "opacity": 1,
            "overdraw": 0,
            "polygonOffset": false,
            "polygonOffsetFactor": 0,
            "polygonOffsetUnits": 0,
            "precision": null,
            "premultipliedAlpha": false,
            "shadowSide": null,
            "side": "FrontSide",
            "skinning": false,
            "transparent": false,
            "type": "ShaderMaterial",
            "uniforms": {},
            "uniformsNeedUpdate": false,
            "vertexColors": "NoColors",
            "vertexShader": "",
            "visible": true,
            "wireframe": false,
            "wireframeLinewidth": 1
          }
        },
        "81787dd43b704daf877f63682e7efd5e": {
          "model_module": "jupyter-vue",
          "model_module_version": "^1.10.2",
          "model_name": "TemplateModel",
          "state": {
            "_model_module": "jupyter-vue",
            "_model_module_version": "^1.10.2",
            "_model_name": "TemplateModel",
            "_view_count": null,
            "_view_module": null,
            "_view_module_version": "",
            "_view_name": null,
            "template": "<template>\n    <div style=\"padding: 5px;\">\n        <div v-for=\"(mark, index) in marks\" :key=\"index\">\n            <v-checkbox hide-details dense style=\"margin-top: 0px; padding-top 0px\"\n                v-model=\"mark.visible\"\n                off-icon=\"mdi-eye-off\"\n                :on-icon=\"mark.icon\"\n                :color=\"mark.description_color\"\n                :background-color=\"mark.hovered ? '#ccc' : 'unset'\"\n                :label=\"mark.description\"></v-checkbox>\n        </div>\n    </div>\n</template>\n<style id=\"fruit-selector-style-file\">\n    .fruit-selector-file td {\n        border: 1px solid #999;\n        padding: 5px 10px ;\n    }\n    .fruit-selector-file {\n        border-collapse: collapse;\n    }\n    .fruit-selector-file td.selected {\n        width: 50px;\n    }\n    .ipv-main-container {\n        background-color: white;\n    }\n    .ipv-main-container:fullscreen {\n        display: flex;\n        justify-content: center;\n        align-items: center;\n        align-items: center;\n    }\n</style>\n<script>\n    module.export = {\n        mounted() {\n            (async () => {\n                const figureWidgetModel = await this.viewCtx.getModelById(this.figure.substr(10));\n                console.log('figure', figureWidgetModel);\n                this.$set(this.models, 'figure', this.bbproxy(figureWidgetModel, [\"stereo\"], {\n                    \"scatters\": [\"visible\", \"description\", \"icon\", \"description_color\", \"hovered\"],\n                    \"meshes\": [\"visible\", \"description\", \"icon\", \"description_color\", \"hovered\"],\n                    \"volumes\": [\"visible\", \"description\", \"icon\", \"description_color\", \"hovered\"],\n                }));\n            })();\n        },\n        computed: {\n            marks() {\n                return [...this.models.figure.scatters, ...this.models.figure.meshes, ...this.models.figure.volumes]\n            },\n            // anyhover() {\n            //     if(this.models.scatters) {\n\n            //     }\n            //     return this.models.scatters && !this.models.scatters.every((s) => !s.hovered)\n            // }\n        },\n        methods: {\n            bbproxy(model, attrs, widgetAttrs) {\n                const proxy = {}\n\n                attrs.forEach((attr) => {\n                    console.log('setting', attr)\n                    let valueCopy = model.get(attr);\n                    model.on('change:' + attr, (_widget, value) => {\n                        proxy[attr] = value\n                    })\n                    Object.defineProperty(proxy, attr, {\n                        enumerable: true,\n                        configurable: true,                            \n                        get: () => {\n                            return valueCopy;\n                        },\n                        set: (value) => {\n                            valueCopy = value;\n                            model.set(attr, value);\n                            model.save_changes();\n                        },\n                    });\n                })\n                if(widgetAttrs) {\n                    Object.keys(widgetAttrs).forEach((attr) => {\n                        console.log('setting list', attr)\n                        let listValue = model.get(attr);\n                        let listValueProxy = [];\n                        if(listValue) {\n                            listValueProxy = listValue.map((k) => this.bbproxy(k, widgetAttrs[attr]));\n                        }\n                        model.on('change:' + attr, (_widget, value) => {\n                            console.log('changed list', attr, value)\n                            if(value) {\n                                proxy[attr] = value.map((k) => this.bbproxy(k, widgetAttrs[attr]))\n                            } else {\n                                proxy[attr] = null;\n                            }\n                        });\n\n                        Object.defineProperty(proxy, attr, {\n                            enumerable: true,\n                            configurable: true,                            \n                            get: () => {\n                                return listValueProxy;\n                            },\n                            set: (value) => {\n                                listValueProxy = value;\n                                console.log('ignore propagating set')\n                            },\n                        });\n                    })\n                }\n\n                return proxy;\n            },\n        }\n    }\n\n</script>\n"
          }
        },
        "842c9f27e89a4a2c992d94a52ad86c29": {
          "model_module": "ipyvolume",
          "model_module_version": "~0.6.3",
          "model_name": "ScatterModel",
          "state": {
            "_model_module": "ipyvolume",
            "_model_module_version": "~0.6.3",
            "_model_name": "ScatterModel",
            "_view_count": null,
            "_view_module": "ipyvolume",
            "_view_module_version": "~0.6.3",
            "_view_name": "ScatterView",
            "aux": null,
            "aux_scale": null,
            "cast_shadow": true,
            "clicked": false,
            "clicked_index": null,
            "color": [
              {
                "dtype": "float32",
                "shape": [
                  178,
                  4
                ]
              }
            ],
            "color_scale": null,
            "color_selected": "white",
            "connected": false,
            "description": "Scatter 0",
            "description_color": "red",
            "geo": "sphere",
            "geo_matrix": [
              1,
              0,
              0,
              0,
              0,
              1,
              0,
              0,
              0,
              0,
              1,
              0,
              0,
              0,
              0,
              1
            ],
            "hovered": false,
            "hovered_index": null,
            "icon": "mdi-chart-bubble",
            "line_material": "IPY_MODEL_f4501d35773f41ccbe30061d67e70e34",
            "material": "IPY_MODEL_eb9f6ee5e26f4d17a51bf7d8a51c9cec",
            "popup": null,
            "receive_shadow": true,
            "selected": null,
            "sequence_index": 0,
            "shader_snippets": {
              "size": "\n"
            },
            "size": 4,
            "size_selected": 2.6,
            "size_x_scale": null,
            "size_y_scale": null,
            "size_z_scale": null,
            "texture": null,
            "visible": true,
            "vx": null,
            "vy": null,
            "vz": null,
            "x": [
              {
                "dtype": "float32",
                "shape": [
                  178
                ]
              }
            ],
            "y": [
              {
                "dtype": "float32",
                "shape": [
                  178
                ]
              }
            ],
            "z": [
              {
                "dtype": "float32",
                "shape": [
                  178
                ]
              }
            ]
          }
        },
        "89b8df5eb7e34a02baa73e451ecf310e": {
          "model_module": "jupyter-threejs",
          "model_module_version": "^2.4.1",
          "model_name": "SceneModel",
          "state": {
            "_model_module": "jupyter-threejs",
            "_model_module_version": "^2.4.1",
            "_model_name": "SceneModel",
            "_view_count": null,
            "_view_module": null,
            "_view_module_version": "",
            "_view_name": null,
            "autoUpdate": true,
            "background": null,
            "castShadow": false,
            "children": [],
            "fog": null,
            "frustumCulled": true,
            "matrix": [
              1,
              0,
              0,
              0,
              0,
              1,
              0,
              0,
              0,
              0,
              1,
              0,
              0,
              0,
              0,
              1
            ],
            "matrixAutoUpdate": true,
            "matrixWorld": [
              1,
              0,
              0,
              0,
              0,
              1,
              0,
              0,
              0,
              0,
              1,
              0,
              0,
              0,
              0,
              1
            ],
            "matrixWorldNeedsUpdate": false,
            "modelViewMatrix": [
              1,
              0,
              0,
              0,
              0,
              1,
              0,
              0,
              0,
              0,
              1,
              0,
              0,
              0,
              0,
              1
            ],
            "name": "",
            "normalMatrix": [
              1,
              0,
              0,
              0,
              1,
              0,
              0,
              0,
              1
            ],
            "overrideMaterial": null,
            "position": [
              0,
              0,
              0
            ],
            "quaternion": [
              0,
              0,
              0,
              1
            ],
            "receiveShadow": false,
            "renderOrder": 0,
            "rotation": [
              0,
              0,
              0,
              "XYZ"
            ],
            "scale": [
              1,
              1,
              1
            ],
            "type": "Scene",
            "up": [
              0,
              1,
              0
            ],
            "visible": true
          }
        },
        "968ce395262e4b568573ea7e1e2abf2f": {
          "model_module": "@jupyter-widgets/base",
          "model_module_version": "1.2.0",
          "model_name": "LayoutModel",
          "state": {
            "_model_module": "@jupyter-widgets/base",
            "_model_module_version": "1.2.0",
            "_model_name": "LayoutModel",
            "_view_count": null,
            "_view_module": "@jupyter-widgets/base",
            "_view_module_version": "1.2.0",
            "_view_name": "LayoutView",
            "align_content": null,
            "align_items": null,
            "align_self": null,
            "border": null,
            "bottom": null,
            "display": null,
            "flex": null,
            "flex_flow": null,
            "grid_area": null,
            "grid_auto_columns": null,
            "grid_auto_flow": null,
            "grid_auto_rows": null,
            "grid_column": null,
            "grid_gap": null,
            "grid_row": null,
            "grid_template_areas": null,
            "grid_template_columns": null,
            "grid_template_rows": null,
            "height": null,
            "justify_content": null,
            "justify_items": null,
            "left": null,
            "margin": null,
            "max_height": null,
            "max_width": null,
            "min_height": null,
            "min_width": null,
            "object_fit": null,
            "object_position": null,
            "order": null,
            "overflow": null,
            "overflow_x": null,
            "overflow_y": null,
            "padding": null,
            "right": null,
            "top": null,
            "visibility": null,
            "width": null
          }
        },
        "9f800cc4a3a149b389462fc2f8d5e273": {
          "model_module": "bqplot",
          "model_module_version": "^0.5",
          "model_name": "LinearScaleModel",
          "state": {
            "_model_module": "bqplot",
            "_model_module_version": "^0.5",
            "_model_name": "LinearScaleModel",
            "_view_count": null,
            "_view_module": "bqplot",
            "_view_module_version": "^0.5",
            "_view_name": "LinearScale",
            "allow_padding": true,
            "max": 1,
            "mid_range": 0.8,
            "min": 0,
            "min_range": 0.6,
            "reverse": false,
            "stabilized": false
          }
        },
        "a10aaee4b80041889b2719843d60bdcf": {
          "model_module": "jupyter-vue",
          "model_module_version": "^1.10.1",
          "model_name": "TemplateModel",
          "state": {
            "_model_module": "jupyter-vue",
            "_model_module_version": "^1.10.1",
            "_model_name": "TemplateModel",
            "_view_count": null,
            "_view_module": null,
            "_view_module_version": "",
            "_view_name": null,
            "template": "<template>\n    <div class=\"ipyvolume-container-root\">\n        <jupyter-widget ref=\"figure\" :widget=\"figure\"></jupyter-widget>\n        <div class=ipyvolume-container-controls>\n            <v-expansion-panels accordion multiple v-model=\"panels\" flat>\n                <v-expansion-panel>\n                    <v-expansion-panel-header>Legend</v-expansion-panel-header>\n                    <v-expansion-panel-content>\n                        <jupyter-widget ref=\"legend\" :widget=\"legend\"></jupyter-widget>\n                    </v-expansion-panel-content>\n                </v-expansion-panel>\n                <v-expansion-panel>\n                    <v-expansion-panel-header>Misc</v-expansion-panel-header>\n                    <v-expansion-panel-content>\n                        <jupyter-widget v-for=\"child in children\" :key=\"child\" :widget=\"child\"></jupyter-widget>\n                    </v-expansion-panel-content>\n                </v-expansion-panel>\n                <v-expansion-panel>\n                    <v-expansion-panel-header>Debug</v-expansion-panel-header>\n                    <v-expansion-panel-content>\n                        <p>Show render pass:</p>\n                        <v-btn-toggle v-model=\"models.figure.show\" tile group>\n                            <v-btn value=\"render\">Render</v-btn>\n                            <v-btn value=\"front\">Front</v-btn>\n                            <v-btn value=\"back\">Back</v-btn>\n                            <v-btn value=\"id\">ID</v-btn>\n                            <v-btn value=\"coordinate\">Coordinate</v-btn>\n                        </v-btn-toggle>\n                    </v-expansion-panel-content>\n                </v-expansion-panel>\n            </v-expansion-panels>\n        </div>\n    </div>\n</template>\n<style id=\"ipyvolume-container\">\n    .ipyvolume-container-root {\n        display: flex;\n    }\n    .ipyvolume-container-controls {\n        display: flex;\n        flex-direction: column;\n    }\n</style>\n\n<script>\n    module.export = {\n        created() {\n            console.log('created', this.$refs)\n        },\n        mounted() {\n            const figureComponent = this.$refs.figure;\n            (async () => {\n                const figure = await this.viewCtx.getModelById(this.figure.substr(10));\n                function bbproxy(model, attrs, widgetAttrs) {\n                    const proxy = {}\n\n                    attrs.forEach((attr) => {\n                        console.log('setting', attr)\n                        let valueCopy = model.get(attr);\n                        model.on('change:' + attr, (_widget, value) => {\n                            proxy[attr] = value\n                        })\n                        Object.defineProperty(proxy, attr, {\n                            enumerable: true,\n                            configurable: true,\n                            get: () => {\n                                return valueCopy;\n                            },\n                            set: (value) => {\n                                valueCopy = value;\n                                model.set(attr, value);\n                                model.save_changes();\n                            },\n                        });\n                    })\n                    if(widgetAttrs) {\n                        Object.keys(widgetAttrs).forEach((attr) => {\n                            console.log('setting list', attr)\n                            let listValue = model.get(attr);\n                            let listValueProxy = [];\n                            if(listValue) {\n                                listValueProxy = listValue.map((k) => bbproxy(k, widgetAttrs[attr]));\n                            }\n                            proxy[attr] = listValueProxy;\n                            model.on('change:' + attr, (_widget, value) => {\n                                console.log('changed list', attr, value)\n                                if(value) {\n                                    proxy[attr] = value.map((k) => bbproxy(k, widgetAttrs[attr]))\n                                } else {\n                                    proxy[attr] = null;\n                                }\n                            });\n                            Object.defineProperty(proxy, attr, {\n                                enumerable: true,\n                                configurable: true,\n                                get: () => {\n                                    return listValueProxy;\n                                },\n                                set: (value) => {\n                                    listValueProxy = value;\n                                    console.log('ignore propagating set')\n                                },\n                            });\n                        })\n                    }\n\n                    return proxy;\n                }\n                this.$set(this.models, 'figure', bbproxy(figure, [\"show\"]));\n            })();\n        },\n        methods: {\n        }\n    }\n\n</script>\n"
          }
        },
        "a1b9d36ba8de400db467859624a982c3": {
          "model_module": "jupyter-vue",
          "model_module_version": "^1.10.1",
          "model_name": "HtmlModel",
          "state": {
            "_dom_classes": [],
            "_events": [],
            "_jupyter_vue": "IPY_MODEL_7f5dd8a8a54b44f7bc38f6c927003f1a",
            "_model_module": "jupyter-vue",
            "_model_module_version": "^1.10.1",
            "_model_name": "HtmlModel",
            "_view_count": null,
            "_view_module": "jupyter-vue",
            "_view_module_version": "^1.10.1",
            "_view_name": "VueView",
            "attributes": {},
            "children": [],
            "class_": null,
            "layout": null,
            "slot": null,
            "style_": "display: none",
            "tag": "span",
            "v_model": "!!disabled!!",
            "v_on": null,
            "v_slots": []
          }
        },
        "a556753cb3014cabaecf6ac075dd9e08": {
          "model_module": "ipyvolume",
          "model_module_version": "~0.6.3",
          "model_name": "ScatterModel",
          "state": {
            "_model_module": "ipyvolume",
            "_model_module_version": "~0.6.3",
            "_model_name": "ScatterModel",
            "_view_count": null,
            "_view_module": "ipyvolume",
            "_view_module_version": "~0.6.3",
            "_view_name": "ScatterView",
            "aux": null,
            "aux_scale": null,
            "cast_shadow": true,
            "clicked": null,
            "clicked_index": null,
            "color": [
              {
                "dtype": "float32",
                "shape": [
                  178,
                  4
                ]
              }
            ],
            "color_scale": null,
            "color_selected": "white",
            "connected": false,
            "description": "Scatter 0",
            "description_color": "red",
            "geo": "sphere",
            "geo_matrix": [
              1,
              0,
              0,
              0,
              0,
              1,
              0,
              0,
              0,
              0,
              1,
              0,
              0,
              0,
              0,
              1
            ],
            "hovered": false,
            "hovered_index": null,
            "icon": "mdi-chart-bubble",
            "line_material": "IPY_MODEL_545fe4f5c4bd40869f1eae60454ec9ee",
            "material": "IPY_MODEL_7e6051b7ccc4406ebf957696d8f1ab1a",
            "popup": null,
            "receive_shadow": true,
            "selected": null,
            "sequence_index": 0,
            "shader_snippets": {
              "size": "\n"
            },
            "size": 4,
            "size_selected": 2.6,
            "size_x_scale": null,
            "size_y_scale": null,
            "size_z_scale": null,
            "texture": null,
            "visible": true,
            "vx": null,
            "vy": null,
            "vz": null,
            "x": [
              {
                "dtype": "float32",
                "shape": [
                  178
                ]
              }
            ],
            "y": [
              {
                "dtype": "float32",
                "shape": [
                  178
                ]
              }
            ],
            "z": [
              {
                "dtype": "float32",
                "shape": [
                  178
                ]
              }
            ]
          }
        },
        "a775614913c1487b86c69fc19671d87d": {
          "model_module": "@jupyter-widgets/base",
          "model_module_version": "1.2.0",
          "model_name": "LayoutModel",
          "state": {
            "_model_module": "@jupyter-widgets/base",
            "_model_module_version": "1.2.0",
            "_model_name": "LayoutModel",
            "_view_count": null,
            "_view_module": "@jupyter-widgets/base",
            "_view_module_version": "1.2.0",
            "_view_name": "LayoutView",
            "align_content": null,
            "align_items": null,
            "align_self": null,
            "border": null,
            "bottom": null,
            "display": null,
            "flex": null,
            "flex_flow": null,
            "grid_area": null,
            "grid_auto_columns": null,
            "grid_auto_flow": null,
            "grid_auto_rows": null,
            "grid_column": null,
            "grid_gap": null,
            "grid_row": null,
            "grid_template_areas": null,
            "grid_template_columns": null,
            "grid_template_rows": null,
            "height": null,
            "justify_content": null,
            "justify_items": null,
            "left": null,
            "margin": null,
            "max_height": null,
            "max_width": null,
            "min_height": null,
            "min_width": null,
            "object_fit": null,
            "object_position": null,
            "order": null,
            "overflow": null,
            "overflow_x": null,
            "overflow_y": null,
            "padding": null,
            "right": null,
            "top": null,
            "visibility": null,
            "width": null
          }
        },
        "ac7ba6d9ee624386b3b75aa10a5f83e6": {
          "model_module": "@jupyter-widgets/base",
          "model_module_version": "1.2.0",
          "model_name": "LayoutModel",
          "state": {
            "_model_module": "@jupyter-widgets/base",
            "_model_module_version": "1.2.0",
            "_model_name": "LayoutModel",
            "_view_count": null,
            "_view_module": "@jupyter-widgets/base",
            "_view_module_version": "1.2.0",
            "_view_name": "LayoutView",
            "align_content": null,
            "align_items": null,
            "align_self": null,
            "border": null,
            "bottom": null,
            "display": null,
            "flex": null,
            "flex_flow": null,
            "grid_area": null,
            "grid_auto_columns": null,
            "grid_auto_flow": null,
            "grid_auto_rows": null,
            "grid_column": null,
            "grid_gap": null,
            "grid_row": null,
            "grid_template_areas": null,
            "grid_template_columns": null,
            "grid_template_rows": null,
            "height": null,
            "justify_content": null,
            "justify_items": null,
            "left": null,
            "margin": null,
            "max_height": null,
            "max_width": null,
            "min_height": null,
            "min_width": null,
            "object_fit": null,
            "object_position": null,
            "order": null,
            "overflow": null,
            "overflow_x": null,
            "overflow_y": null,
            "padding": null,
            "right": null,
            "top": null,
            "visibility": null,
            "width": null
          }
        },
        "b5fbfebf6dee46cd862afde8779e433f": {
          "model_module": "jupyter-vue",
          "model_module_version": "^1.10.2",
          "model_name": "HtmlModel",
          "state": {
            "_dom_classes": [],
            "_events": [],
            "_jupyter_vue": "IPY_MODEL_bce73640a4854073b8c5b06d7f4fbc2f",
            "_model_module": "jupyter-vue",
            "_model_module_version": "^1.10.2",
            "_model_name": "HtmlModel",
            "_view_count": null,
            "_view_module": "jupyter-vue",
            "_view_module_version": "^1.10.2",
            "_view_name": "VueView",
            "attributes": {},
            "children": [],
            "class_": null,
            "layout": null,
            "slot": null,
            "style_": "display: none",
            "tag": "span",
            "v_model": "!!disabled!!",
            "v_on": null,
            "v_slots": []
          }
        },
        "b8983e30d3e04b12bd8629cd46a35a9a": {
          "model_module": "ipyvolume",
          "model_module_version": "~0.6.3",
          "model_name": "FigureModel",
          "state": {
            "_dom_classes": [],
            "_model_module": "ipyvolume",
            "_model_module_version": "~0.6.3",
            "_model_name": "FigureModel",
            "_shaders": {},
            "_view_count": null,
            "_view_module": "ipyvolume",
            "_view_module_version": "~0.6.3",
            "_view_name": "FigureView",
            "ambient_coefficient": 0.5,
            "animation": 1000,
            "animation_exponent": 1,
            "box_center": [
              0.5,
              0.5,
              0.5
            ],
            "box_size": [
              1,
              1,
              1
            ],
            "camera": "IPY_MODEL_08c6b55367b9434b8d361c2fe0349aa8",
            "camera_center": [
              0,
              0,
              0
            ],
            "camera_control": "trackball",
            "camera_fov": 45,
            "capture_fps": null,
            "controls": null,
            "cube_resolution": 512,
            "diffuse_coefficient": 0.8,
            "displayscale": 1,
            "eye_separation": 6.4,
            "height": 400,
            "layout": "IPY_MODEL_239d78cd02d64c689d69d03f8f4606e7",
            "lights": [],
            "matrix_projection": [
              2.4142135623730954,
              0,
              0,
              0,
              0,
              2.4142135623730954,
              0,
              0,
              0,
              0,
              -1.00010000500025,
              -1,
              0,
              0,
              -0.200010000500025,
              0
            ],
            "matrix_world": [
              -0.5016663834103453,
              -0.23875056827935442,
              0.8314619690053597,
              0,
              0.699657472873244,
              -0.677231374807213,
              0.22767759140802188,
              0,
              0.5087339780362722,
              0.6959567738897423,
              0.5067878337809346,
              0,
              -0.35336253374958515,
              0.11001258459841254,
              -3.267557447097145,
              1.0000000000000002
            ],
            "meshes": [],
            "mouse_mode": "normal",
            "orientation_control": false,
            "panorama_mode": "no",
            "pixel_ratio": null,
            "popup_debouce": 100,
            "render_continuous": false,
            "scales": {
              "x": "IPY_MODEL_5dcbd461c4ed42e3a92ab5fe30706b7c",
              "y": "IPY_MODEL_c014188cb4ff412c95bd0f87b8fb76e8",
              "z": "IPY_MODEL_c72fbb3215b447acaa9628a8d064fc15"
            },
            "scatters": [
              "IPY_MODEL_842c9f27e89a4a2c992d94a52ad86c29"
            ],
            "scene": "IPY_MODEL_23ea77b5a1424e839f60a3f642d851ee",
            "selection_mode": "replace",
            "selector": "lasso",
            "show": "render",
            "slice_x": 0,
            "slice_y": 0,
            "slice_z": 0,
            "specular_coefficient": 0.5,
            "specular_exponent": 5,
            "stereo": false,
            "style": {
              "axes": {
                "color": "black",
                "label": {
                  "color": "black"
                },
                "ticklabel": {
                  "color": "black"
                },
                "visible": true
              },
              "background-color": "white",
              "box": {
                "visible": true
              }
            },
            "volumes": [],
            "width": 400,
            "xlabel": "x",
            "ylabel": "y",
            "zlabel": "z"
          }
        },
        "be23f18a80b4417e98e740b60feb4399": {
          "model_module": "ipyvolume",
          "model_module_version": "~0.6.3",
          "model_name": "FigureModel",
          "state": {
            "_dom_classes": [],
            "_model_module": "ipyvolume",
            "_model_module_version": "~0.6.3",
            "_model_name": "FigureModel",
            "_shaders": {},
            "_view_count": null,
            "_view_module": "ipyvolume",
            "_view_module_version": "~0.6.3",
            "_view_name": "FigureView",
            "ambient_coefficient": 0.5,
            "animation": 1000,
            "animation_exponent": 1,
            "box_center": [
              0.5,
              0.5,
              0.5
            ],
            "box_size": [
              1,
              1,
              1
            ],
            "camera": "IPY_MODEL_26f2533168aa4ad3854bfcdb64f85006",
            "camera_center": [
              0,
              0,
              0
            ],
            "camera_control": "trackball",
            "camera_fov": 45,
            "capture_fps": null,
            "controls": null,
            "cube_resolution": 512,
            "diffuse_coefficient": 0.8,
            "displayscale": 1,
            "eye_separation": 6.4,
            "height": 400,
            "layout": "IPY_MODEL_ac7ba6d9ee624386b3b75aa10a5f83e6",
            "lights": [],
            "matrix_projection": [
              2.4142135623730954,
              0,
              0,
              0,
              0,
              2.4142135623730954,
              0,
              0,
              0,
              0,
              -1.00010000500025,
              -1,
              0,
              0,
              -0.200010000500025,
              0
            ],
            "matrix_world": [
              1,
              0,
              0,
              0,
              0,
              1,
              6.123233995736766e-17,
              0,
              0,
              -6.123233995736766e-17,
              1,
              0,
              -0.5,
              -0.49999999999999994,
              -2.5,
              1
            ],
            "meshes": [],
            "mouse_mode": "normal",
            "orientation_control": false,
            "panorama_mode": "no",
            "pixel_ratio": null,
            "popup_debouce": 100,
            "render_continuous": false,
            "scales": {
              "x": "IPY_MODEL_6621b04f20604de9910c5ed1297f8224",
              "y": "IPY_MODEL_4ef36b32fe844289a3e8ef35dcd50578",
              "z": "IPY_MODEL_9f800cc4a3a149b389462fc2f8d5e273"
            },
            "scatters": [
              "IPY_MODEL_a556753cb3014cabaecf6ac075dd9e08"
            ],
            "scene": "IPY_MODEL_7362633029b34ad9847f8120b2ed5c7d",
            "selection_mode": "replace",
            "selector": "lasso",
            "show": "render",
            "slice_x": 0,
            "slice_y": 0,
            "slice_z": 0,
            "specular_coefficient": 0.5,
            "specular_exponent": 5,
            "stereo": false,
            "style": {
              "axes": {
                "color": "black",
                "label": {
                  "color": "black"
                },
                "ticklabel": {
                  "color": "black"
                },
                "visible": true
              },
              "background-color": "white",
              "box": {
                "visible": true
              }
            },
            "volumes": [],
            "width": 400,
            "xlabel": "x",
            "ylabel": "y",
            "zlabel": "z"
          }
        },
        "c014188cb4ff412c95bd0f87b8fb76e8": {
          "model_module": "bqplot",
          "model_module_version": "^0.5",
          "model_name": "LinearScaleModel",
          "state": {
            "_model_module": "bqplot",
            "_model_module_version": "^0.5",
            "_model_name": "LinearScaleModel",
            "_view_count": null,
            "_view_module": "bqplot",
            "_view_module_version": "^0.5",
            "_view_name": "LinearScale",
            "allow_padding": true,
            "max": 1,
            "mid_range": 0.8,
            "min": 0,
            "min_range": 0.6,
            "reverse": false,
            "stabilized": false
          }
        },
        "c16922b46d8d418ab9beda8e5aa483bf": {
          "model_module": "jupyter-threejs",
          "model_module_version": "^2.4.1",
          "model_name": "ShaderMaterialModel",
          "state": {
            "_model_module": "jupyter-threejs",
            "_model_module_version": "^2.4.1",
            "_model_name": "ShaderMaterialModel",
            "_view_count": null,
            "_view_module": null,
            "_view_module_version": "",
            "_view_name": null,
            "alphaTest": 0,
            "blendDst": "OneMinusSrcAlphaFactor",
            "blendDstAlpha": 0,
            "blendEquation": "AddEquation",
            "blendEquationAlpha": 0,
            "blendSrc": "SrcAlphaFactor",
            "blendSrcAlpha": 0,
            "blending": "NormalBlending",
            "clipIntersection": false,
            "clipShadows": false,
            "clipping": false,
            "clippingPlanes": [],
            "colorWrite": true,
            "defines": null,
            "depthFunc": "LessEqualDepth",
            "depthTest": true,
            "depthWrite": true,
            "dithering": false,
            "extensions": {},
            "flatShading": false,
            "fog": false,
            "fragmentShader": "",
            "lights": false,
            "linewidth": 1,
            "morphNormals": false,
            "morphTargets": false,
            "name": "",
            "opacity": 1,
            "overdraw": 0,
            "polygonOffset": false,
            "polygonOffsetFactor": 0,
            "polygonOffsetUnits": 0,
            "precision": null,
            "premultipliedAlpha": false,
            "shadowSide": null,
            "side": "FrontSide",
            "skinning": false,
            "transparent": false,
            "type": "ShaderMaterial",
            "uniforms": {},
            "uniformsNeedUpdate": false,
            "vertexColors": "NoColors",
            "vertexShader": "",
            "visible": true,
            "wireframe": false,
            "wireframeLinewidth": 1
          }
        },
        "c72fbb3215b447acaa9628a8d064fc15": {
          "model_module": "bqplot",
          "model_module_version": "^0.5",
          "model_name": "LinearScaleModel",
          "state": {
            "_model_module": "bqplot",
            "_model_module_version": "^0.5",
            "_model_name": "LinearScaleModel",
            "_view_count": null,
            "_view_module": "bqplot",
            "_view_module_version": "^0.5",
            "_view_name": "LinearScale",
            "allow_padding": true,
            "max": 1,
            "mid_range": 0.8,
            "min": 0,
            "min_range": 0.6,
            "reverse": false,
            "stabilized": false
          }
        },
        "c8155cf85c314b15a2b36cc944a165f1": {
          "model_module": "jupyter-threejs",
          "model_module_version": "^2.4.1",
          "model_name": "PerspectiveCameraModel",
          "state": {
            "_model_module": "jupyter-threejs",
            "_model_module_version": "^2.4.1",
            "_model_name": "PerspectiveCameraModel",
            "_view_count": null,
            "_view_module": null,
            "_view_module_version": "",
            "_view_name": null,
            "aspect": 1,
            "castShadow": false,
            "children": [],
            "far": 2000,
            "focus": 10,
            "fov": 45,
            "frustumCulled": true,
            "matrix": [
              -0.6629501883064246,
              -0.13233287664232787,
              -0.7368751981061938,
              0,
              -0.2173984982797977,
              0.9758710827772182,
              0.02033525866342674,
              0,
              0.7164041741713716,
              0.17367682504809362,
              -0.6757228867450391,
              0,
              1.432808348342724,
              0.34735365009618263,
              -1.3514457734900602,
              1
            ],
            "matrixAutoUpdate": true,
            "matrixWorld": [
              -0.6629501883064246,
              -0.13233287664232787,
              -0.7368751981061938,
              0,
              -0.2173984982797977,
              0.9758710827772182,
              0.02033525866342674,
              0,
              0.7164041741713716,
              0.17367682504809362,
              -0.6757228867450391,
              0,
              1.432808348342724,
              0.34735365009618263,
              -1.3514457734900602,
              1
            ],
            "matrixWorldInverse": [
              -0.6629501883064247,
              -0.21739849827979774,
              0.7164041741713715,
              0,
              -0.13233287664232787,
              0.9758710827772181,
              0.1736768250480936,
              0,
              -0.736875198106194,
              0.02033525866342674,
              -0.6757228867450391,
              0,
              -2.0816681711721685e-17,
              0,
              -1.9999999999999731,
              1
            ],
            "matrixWorldNeedsUpdate": true,
            "modelViewMatrix": [
              1,
              0,
              0,
              0,
              0,
              1,
              0,
              0,
              0,
              0,
              1,
              0,
              0,
              0,
              0,
              1
            ],
            "name": "",
            "near": 0.1,
            "normalMatrix": [
              1,
              0,
              0,
              0,
              1,
              0,
              0,
              0,
              1
            ],
            "position": [
              1.432808348342724,
              0.34735365009618263,
              -1.3514457734900602
            ],
            "projectionMatrix": [
              2.4142135623730954,
              0,
              0,
              0,
              0,
              2.4142135623730954,
              0,
              0,
              0,
              0,
              -1.00010000500025,
              -1,
              0,
              0,
              -0.200010000500025,
              0
            ],
            "quaternion": [
              -0.09604896623779491,
              0.9102944795269113,
              0.0532827804833965,
              0.3991234169169213
            ],
            "receiveShadow": false,
            "renderOrder": 0,
            "rotation": [
              -2.8900144122944806,
              0.7986346501755295,
              2.824716711249654,
              "XYZ"
            ],
            "scale": [
              1,
              1,
              1
            ],
            "type": "PerspectiveCamera",
            "up": [
              -0.2173984982797977,
              0.9758710827772181,
              0.02033525866342674
            ],
            "visible": true,
            "zoom": 1
          }
        },
        "c81e060bf8204253a1a62a0cab41fa47": {
          "model_module": "bqplot",
          "model_module_version": "^0.5",
          "model_name": "LinearScaleModel",
          "state": {
            "_model_module": "bqplot",
            "_model_module_version": "^0.5",
            "_model_name": "LinearScaleModel",
            "_view_count": null,
            "_view_module": "bqplot",
            "_view_module_version": "^0.5",
            "_view_name": "LinearScale",
            "allow_padding": true,
            "max": 1,
            "mid_range": 0.8,
            "min": 0,
            "min_range": 0.6,
            "reverse": false,
            "stabilized": false
          }
        },
        "d3492bb051a6476b9d92eee4bb65e872": {
          "model_module": "jupyter-vuetify",
          "model_module_version": "^1.9.4",
          "model_name": "VuetifyTemplateModel",
          "state": {
            "_component_instances": [],
            "_dom_classes": [],
            "_jupyter_vue": "IPY_MODEL_bce73640a4854073b8c5b06d7f4fbc2f",
            "_model_module": "jupyter-vuetify",
            "_model_module_version": "^1.9.4",
            "_model_name": "VuetifyTemplateModel",
            "_view_count": null,
            "_view_module": "jupyter-vuetify",
            "_view_module_version": "^1.9.4",
            "_view_name": "VuetifyView",
            "children": [],
            "components": null,
            "css": null,
            "data": null,
            "events": [],
            "figure": "IPY_MODEL_b8983e30d3e04b12bd8629cd46a35a9a",
            "layout": "IPY_MODEL_3d639bda4e4b439c9f23404a850e2502",
            "legend": "IPY_MODEL_db23d036d2594bbf94412a8c3fc0b615",
            "legend_show": true,
            "methods": null,
            "models": {
              "figure": {
                "show": "render"
              }
            },
            "panels": [
              0,
              1,
              2
            ],
            "template": "IPY_MODEL_7aa8e025f867458393760878b11b372a"
          }
        },
        "d5c29923c1a74f0881f58f7b67078818": {
          "model_module": "@jupyter-widgets/base",
          "model_module_version": "1.2.0",
          "model_name": "LayoutModel",
          "state": {
            "_model_module": "@jupyter-widgets/base",
            "_model_module_version": "1.2.0",
            "_model_name": "LayoutModel",
            "_view_count": null,
            "_view_module": "@jupyter-widgets/base",
            "_view_module_version": "1.2.0",
            "_view_name": "LayoutView",
            "align_content": null,
            "align_items": null,
            "align_self": null,
            "border": null,
            "bottom": null,
            "display": null,
            "flex": null,
            "flex_flow": null,
            "grid_area": null,
            "grid_auto_columns": null,
            "grid_auto_flow": null,
            "grid_auto_rows": null,
            "grid_column": null,
            "grid_gap": null,
            "grid_row": null,
            "grid_template_areas": null,
            "grid_template_columns": null,
            "grid_template_rows": null,
            "height": null,
            "justify_content": null,
            "justify_items": null,
            "left": null,
            "margin": null,
            "max_height": null,
            "max_width": null,
            "min_height": null,
            "min_width": null,
            "object_fit": null,
            "object_position": null,
            "order": null,
            "overflow": null,
            "overflow_x": null,
            "overflow_y": null,
            "padding": null,
            "right": null,
            "top": null,
            "visibility": null,
            "width": null
          }
        },
        "db23d036d2594bbf94412a8c3fc0b615": {
          "model_module": "jupyter-vuetify",
          "model_module_version": "^1.9.4",
          "model_name": "VuetifyTemplateModel",
          "state": {
            "_component_instances": [],
            "_dom_classes": [],
            "_jupyter_vue": "IPY_MODEL_bce73640a4854073b8c5b06d7f4fbc2f",
            "_model_module": "jupyter-vuetify",
            "_model_module_version": "^1.9.4",
            "_model_name": "VuetifyTemplateModel",
            "_view_count": null,
            "_view_module": "jupyter-vuetify",
            "_view_module_version": "^1.9.4",
            "_view_name": "VuetifyView",
            "components": null,
            "css": null,
            "data": null,
            "events": [],
            "figure": "IPY_MODEL_b8983e30d3e04b12bd8629cd46a35a9a",
            "layout": "IPY_MODEL_968ce395262e4b568573ea7e1e2abf2f",
            "methods": null,
            "models": {
              "figure": {
                "meshes": [],
                "scatters": [
                  {
                    "description": "Scatter 0",
                    "description_color": "red",
                    "hovered": false,
                    "icon": "mdi-chart-bubble",
                    "visible": true
                  }
                ],
                "stereo": false,
                "volumes": []
              }
            },
            "template": "IPY_MODEL_81787dd43b704daf877f63682e7efd5e"
          }
        },
        "dda9ae6cbb0548aa8d17aada053a29b2": {
          "model_module": "jupyter-vuetify",
          "model_module_version": "^1.8.10",
          "model_name": "VuetifyTemplateModel",
          "state": {
            "_component_instances": [],
            "_dom_classes": [],
            "_jupyter_vue": "IPY_MODEL_2797283294ff4825a1fb50aa1c6ac9f6",
            "_model_module": "jupyter-vuetify",
            "_model_module_version": "^1.8.10",
            "_model_name": "VuetifyTemplateModel",
            "_view_count": null,
            "_view_module": "jupyter-vuetify",
            "_view_module_version": "^1.8.10",
            "_view_name": "VuetifyView",
            "children": [],
            "components": null,
            "css": null,
            "data": null,
            "events": [],
            "figure": "IPY_MODEL_6d9be9bf1d03425b899b0e18364c061e",
            "layout": "IPY_MODEL_d5c29923c1a74f0881f58f7b67078818",
            "legend": "IPY_MODEL_f9a93d3f779146a5bfb98c54cbefd70f",
            "legend_show": true,
            "methods": null,
            "models": {
              "figure": {
                "show": "render"
              }
            },
            "panels": [
              0,
              1,
              2
            ],
            "template": "IPY_MODEL_54090b4ff19049e4b682599cdf4878e8"
          }
        },
        "eb9f6ee5e26f4d17a51bf7d8a51c9cec": {
          "model_module": "jupyter-threejs",
          "model_module_version": "^2.4.1",
          "model_name": "ShaderMaterialModel",
          "state": {
            "_model_module": "jupyter-threejs",
            "_model_module_version": "^2.4.1",
            "_model_name": "ShaderMaterialModel",
            "_view_count": null,
            "_view_module": null,
            "_view_module_version": "",
            "_view_name": null,
            "alphaTest": 0,
            "blendDst": "OneMinusSrcAlphaFactor",
            "blendDstAlpha": 0,
            "blendEquation": "AddEquation",
            "blendEquationAlpha": 0,
            "blendSrc": "SrcAlphaFactor",
            "blendSrcAlpha": 0,
            "blending": "NormalBlending",
            "clipIntersection": false,
            "clipShadows": false,
            "clipping": false,
            "clippingPlanes": [],
            "colorWrite": true,
            "defines": null,
            "depthFunc": "LessEqualDepth",
            "depthTest": true,
            "depthWrite": true,
            "dithering": false,
            "extensions": {},
            "flatShading": false,
            "fog": false,
            "fragmentShader": "",
            "lights": false,
            "linewidth": 1,
            "morphNormals": false,
            "morphTargets": false,
            "name": "",
            "opacity": 1,
            "overdraw": 0,
            "polygonOffset": false,
            "polygonOffsetFactor": 0,
            "polygonOffsetUnits": 0,
            "precision": null,
            "premultipliedAlpha": false,
            "shadowSide": null,
            "side": "FrontSide",
            "skinning": false,
            "transparent": false,
            "type": "ShaderMaterial",
            "uniforms": {},
            "uniformsNeedUpdate": false,
            "vertexColors": "NoColors",
            "vertexShader": "",
            "visible": true,
            "wireframe": false,
            "wireframeLinewidth": 1
          }
        },
        "f4501d35773f41ccbe30061d67e70e34": {
          "model_module": "jupyter-threejs",
          "model_module_version": "^2.4.1",
          "model_name": "ShaderMaterialModel",
          "state": {
            "_model_module": "jupyter-threejs",
            "_model_module_version": "^2.4.1",
            "_model_name": "ShaderMaterialModel",
            "_view_count": null,
            "_view_module": null,
            "_view_module_version": "",
            "_view_name": null,
            "alphaTest": 0,
            "blendDst": "OneMinusSrcAlphaFactor",
            "blendDstAlpha": 0,
            "blendEquation": "AddEquation",
            "blendEquationAlpha": 0,
            "blendSrc": "SrcAlphaFactor",
            "blendSrcAlpha": 0,
            "blending": "NormalBlending",
            "clipIntersection": false,
            "clipShadows": false,
            "clipping": false,
            "clippingPlanes": [],
            "colorWrite": true,
            "defines": null,
            "depthFunc": "LessEqualDepth",
            "depthTest": true,
            "depthWrite": true,
            "dithering": false,
            "extensions": {},
            "flatShading": false,
            "fog": false,
            "fragmentShader": "",
            "lights": false,
            "linewidth": 1,
            "morphNormals": false,
            "morphTargets": false,
            "name": "",
            "opacity": 1,
            "overdraw": 0,
            "polygonOffset": false,
            "polygonOffsetFactor": 0,
            "polygonOffsetUnits": 0,
            "precision": null,
            "premultipliedAlpha": false,
            "shadowSide": null,
            "side": "FrontSide",
            "skinning": false,
            "transparent": false,
            "type": "ShaderMaterial",
            "uniforms": {},
            "uniformsNeedUpdate": false,
            "vertexColors": "NoColors",
            "vertexShader": "",
            "visible": true,
            "wireframe": false,
            "wireframeLinewidth": 1
          }
        },
        "f9a93d3f779146a5bfb98c54cbefd70f": {
          "model_module": "jupyter-vuetify",
          "model_module_version": "^1.8.10",
          "model_name": "VuetifyTemplateModel",
          "state": {
            "_component_instances": [],
            "_dom_classes": [],
            "_jupyter_vue": "IPY_MODEL_2797283294ff4825a1fb50aa1c6ac9f6",
            "_model_module": "jupyter-vuetify",
            "_model_module_version": "^1.8.10",
            "_model_name": "VuetifyTemplateModel",
            "_view_count": null,
            "_view_module": "jupyter-vuetify",
            "_view_module_version": "^1.8.10",
            "_view_name": "VuetifyView",
            "components": null,
            "css": null,
            "data": null,
            "events": [],
            "figure": "IPY_MODEL_6d9be9bf1d03425b899b0e18364c061e",
            "layout": "IPY_MODEL_01329d4b71484b26839a0ad7e03e3fa0",
            "methods": null,
            "models": {
              "figure": {
                "meshes": [],
                "scatters": [
                  {
                    "description": "Scatter 0",
                    "description_color": "red",
                    "hovered": false,
                    "icon": "mdi-chart-bubble",
                    "visible": true
                  }
                ],
                "stereo": false,
                "volumes": []
              }
            },
            "template": "IPY_MODEL_fccefc6b6eec47c7b06e30ca426d3899"
          }
        },
        "fccefc6b6eec47c7b06e30ca426d3899": {
          "model_module": "jupyter-vue",
          "model_module_version": "^1.10.1",
          "model_name": "TemplateModel",
          "state": {
            "_model_module": "jupyter-vue",
            "_model_module_version": "^1.10.1",
            "_model_name": "TemplateModel",
            "_view_count": null,
            "_view_module": null,
            "_view_module_version": "",
            "_view_name": null,
            "template": "<template>\n    <div style=\"padding: 5px;\">\n        <div v-for=\"(mark, index) in marks\" :key=\"index\">\n            <v-checkbox hide-details dense style=\"margin-top: 0px; padding-top 0px\"\n                v-model=\"mark.visible\"\n                off-icon=\"mdi-eye-off\"\n                :on-icon=\"mark.icon\"\n                :color=\"mark.description_color\"\n                :background-color=\"mark.hovered ? '#ccc' : 'unset'\"\n                :label=\"mark.description\"></v-checkbox>\n        </div>\n    </div>\n</template>\n<style id=\"fruit-selector-style-file\">\n    .fruit-selector-file td {\n        border: 1px solid #999;\n        padding: 5px 10px ;\n    }\n    .fruit-selector-file {\n        border-collapse: collapse;\n    }\n    .fruit-selector-file td.selected {\n        width: 50px;\n    }\n    .ipv-main-container {\n        background-color: white;\n    }\n    .ipv-main-container:fullscreen {\n        display: flex;\n        justify-content: center;\n        align-items: center;\n        align-items: center;\n    }\n</style>\n<script>\n    module.export = {\n        mounted() {\n            (async () => {\n                const figureWidgetModel = await this.viewCtx.getModelById(this.figure.substr(10));\n                console.log('figure', figureWidgetModel);\n                this.$set(this.models, 'figure', this.bbproxy(figureWidgetModel, [\"stereo\"], {\n                    \"scatters\": [\"visible\", \"description\", \"icon\", \"description_color\", \"hovered\"],\n                    \"meshes\": [\"visible\", \"description\", \"icon\", \"description_color\", \"hovered\"],\n                    \"volumes\": [\"visible\", \"description\", \"icon\", \"description_color\", \"hovered\"],\n                }));\n            })();\n        },\n        computed: {\n            marks() {\n                return [...this.models.figure.scatters, ...this.models.figure.meshes, ...this.models.figure.volumes]\n            },\n            // anyhover() {\n            //     if(this.models.scatters) {\n\n            //     }\n            //     return this.models.scatters && !this.models.scatters.every((s) => !s.hovered)\n            // }\n        },\n        methods: {\n            bbproxy(model, attrs, widgetAttrs) {\n                const proxy = {}\n\n                attrs.forEach((attr) => {\n                    console.log('setting', attr)\n                    let valueCopy = model.get(attr);\n                    model.on('change:' + attr, (_widget, value) => {\n                        proxy[attr] = value\n                    })\n                    Object.defineProperty(proxy, attr, {\n                        enumerable: true,\n                        configurable: true,                            \n                        get: () => {\n                            return valueCopy;\n                        },\n                        set: (value) => {\n                            valueCopy = value;\n                            model.set(attr, value);\n                            model.save_changes();\n                        },\n                    });\n                })\n                if(widgetAttrs) {\n                    Object.keys(widgetAttrs).forEach((attr) => {\n                        console.log('setting list', attr)\n                        let listValue = model.get(attr);\n                        let listValueProxy = [];\n                        if(listValue) {\n                            listValueProxy = listValue.map((k) => this.bbproxy(k, widgetAttrs[attr]));\n                        }\n                        model.on('change:' + attr, (_widget, value) => {\n                            console.log('changed list', attr, value)\n                            if(value) {\n                                proxy[attr] = value.map((k) => this.bbproxy(k, widgetAttrs[attr]))\n                            } else {\n                                proxy[attr] = null;\n                            }\n                        });\n\n                        Object.defineProperty(proxy, attr, {\n                            enumerable: true,\n                            configurable: true,                            \n                            get: () => {\n                                return listValueProxy;\n                            },\n                            set: (value) => {\n                                listValueProxy = value;\n                                console.log('ignore propagating set')\n                            },\n                        });\n                    })\n                }\n\n                return proxy;\n            },\n        }\n    }\n\n</script>\n"
          }
        }
      }
    }
  },
  "nbformat": 4,
  "nbformat_minor": 0
}
